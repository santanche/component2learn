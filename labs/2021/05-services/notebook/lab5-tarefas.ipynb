{
 "cells": [
  {
   "cell_type": "markdown",
   "id": "monetary-oakland",
   "metadata": {},
   "source": [
    "# Laboratório 5 - Bloco 2\n",
    "\n",
    "Nas tarefas a seguir o número de células de resposta pode ser aumentado conforme a necessidade."
   ]
  },
  {
   "cell_type": "markdown",
   "id": "bridal-netscape",
   "metadata": {},
   "source": [
    "## Tarefa 1\n",
    "\n",
    "### Carregue o nó de Tenda dos Milagres (da versão em inglês Tent of Miracles) em Python e mostre o conteúdo JSON."
   ]
  },
  {
   "cell_type": "code",
   "execution_count": null,
   "id": "exciting-cement",
   "metadata": {},
   "outputs": [],
   "source": []
  },
  {
   "cell_type": "markdown",
   "id": "threatened-shepherd",
   "metadata": {},
   "source": [
    "## Tarefa 2\n",
    "### Recupere via Python e mostre o autor de Tenda dos Milagres?"
   ]
  },
  {
   "cell_type": "code",
   "execution_count": null,
   "id": "subjective-bachelor",
   "metadata": {},
   "outputs": [],
   "source": []
  },
  {
   "cell_type": "markdown",
   "id": "specialized-playback",
   "metadata": {},
   "source": [
    "## Tarefa 3\n",
    "### Quais os termos usados para Aspirina (consulta JSON/MeSH em Python)?"
   ]
  },
  {
   "cell_type": "code",
   "execution_count": null,
   "id": "about-sacramento",
   "metadata": {},
   "outputs": [],
   "source": []
  },
  {
   "cell_type": "markdown",
   "id": "uniform-worst",
   "metadata": {},
   "source": [
    "## Tarefa 4\n",
    "### Escolha algum lugar no OpenStreetMap e elabore a mesma sequência de três chamadas de serviços para o seu conceito."
   ]
  },
  {
   "cell_type": "code",
   "execution_count": null,
   "id": "virgin-volunteer",
   "metadata": {},
   "outputs": [],
   "source": []
  }
 ],
 "metadata": {
  "kernelspec": {
   "display_name": "Python 3",
   "language": "python",
   "name": "python3"
  },
  "language_info": {
   "codemirror_mode": {
    "name": "ipython",
    "version": 3
   },
   "file_extension": ".py",
   "mimetype": "text/x-python",
   "name": "python",
   "nbconvert_exporter": "python",
   "pygments_lexer": "ipython3",
   "version": "3.8.10"
  }
 },
 "nbformat": 4,
 "nbformat_minor": 5
}
