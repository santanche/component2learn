{
 "cells": [
  {
   "cell_type": "markdown",
   "id": "monetary-oakland",
   "metadata": {},
   "source": [
    "# Laboratório 5 - Bloco 2\n",
    "\n",
    "Nas tarefas a seguir o número de células de resposta pode ser aumentado conforme a necessidade."
   ]
  },
  {
   "cell_type": "markdown",
   "id": "bridal-netscape",
   "metadata": {},
   "source": [
    "## Tarefa 1\n",
    "\n",
    "### Carregue o nó de Tenda dos Milagres (da versão em inglês Tent of Miracles) em Python e mostre o conteúdo JSON."
   ]
  },
  {
   "cell_type": "code",
   "execution_count": 29,
   "id": "exciting-cement",
   "metadata": {},
   "outputs": [],
   "source": [
    "import io\n",
    "import requests\n",
    "import json"
   ]
  },
  {
   "cell_type": "code",
   "execution_count": 30,
   "id": "4c717ee9",
   "metadata": {},
   "outputs": [
    {
     "name": "stdout",
     "output_type": "stream",
     "text": [
      "{\n",
      "   \"d\": {\n",
      "      \"results\": [\n",
      "         {\n",
      "            \"__metadata\": {\n",
      "               \"uri\": \"http://dbpedia.org/resource/Tent_of_Miracles_(novel)\"\n",
      "            },\n",
      "            \"http://www.w3.org/2000/01/rdf-schema#label\": \"Tent of Miracles (novel)\",\n",
      "            \"http://dbpedia.org/ontology/wikiPageWikiLink\": {\n",
      "               \"__deferred\": {\n",
      "                  \"uri\": \"http://dbpedia.org/resource/French_New_Wave\"\n",
      "               }\n",
      "            },\n",
      "            \"http://purl.org/dc/terms/subject\": {\n",
      "               \"__deferred\": {\n",
      "                  \"uri\": \"http://dbpedia.org/resource/Category:Modernist_novels\"\n",
      "               }\n",
      "            },\n",
      "            \"http://www.w3.org/1999/02/22-rdf-syntax-ns#type\": {\n",
      "               \"__deferred\": {\n",
      "                  \"uri\": \"http://dbpedia.org/ontology/WrittenWork\"\n",
      "               }\n",
      "            },\n",
      "            \"http://dbpedia.org/property/wikiPageUsesTemplate\": {\n",
      "               \"__deferred\": {\n",
      "                  \"uri\": \"http://dbpedia.org/resource/Template:According_to_whom\"\n",
      "               }\n",
      "            },\n",
      "            \"http://www.w3.org/2000/01/rdf-schema#comment\": \"Tent of Miracles (Portuguese: Tenda dos Milagres) is a Brazilian Modernist novel. It was written by Jorge Amado in 1967 and published the following year. It was later adapted to a 1977 Cinema Novo (Nouvelle Vague) film by director/screenplay writer Nelson Pereira dos Santos.\",\n",
      "            \"http://dbpedia.org/ontology/abstract\": \"La bottega dei miracoli \\u00e8 un romanzo di Jorge Amado pubblicato nel 1960. Come altri romanzi dell&#39;autore (ad esempio Tieta d&#39;Agreste e Teresa Batista) \\u00e8 un testo composito, con un intreccio zigzagante fra analessi e prolessi, con mutamenti di voci narranti ed inserti di materiale eterogeneo.\\u00c8 possibile che l&#39;evento scatenante del racconto (la visita del famoso scienziato) sia stato ispirato dall&#39;esperienza vissuta; in quello stesso 1960, infatti, Jean Paul Sartre e Simone De Beauvoir visitarono il Brasile su invito dello stesso Amado: la visita divenne un evento mediatico, celebrato in numerose manifestazioni istituzionali.\",\n",
      "            \"http://dbpedia.org/property/pubDate\": \"1969\",\n",
      "            \"http://dbpedia.org/property/country\": {\n",
      "               \"__deferred\": {\n",
      "                  \"uri\": \"http://dbpedia.org/resource/Brazil\"\n",
      "               }\n",
      "            },\n",
      "            \"http://www.w3.org/2002/07/owl#sameAs\": {\n",
      "               \"__deferred\": {\n",
      "                  \"uri\": \"http://rdf.freebase.com/ns/m.02xrs4\"\n",
      "               }\n",
      "            },\n",
      "            \"http://dbpedia.org/ontology/wikiPageRevisionID\": \"974212123\",\n",
      "            \"http://dbpedia.org/property/author\": {\n",
      "               \"__deferred\": {\n",
      "                  \"uri\": \"http://dbpedia.org/resource/Jorge_Amado\"\n",
      "               }\n",
      "            },\n",
      "            \"http://dbpedia.org/ontology/author\": {\n",
      "               \"__deferred\": {\n",
      "                  \"uri\": \"http://dbpedia.org/resource/Jorge_Amado\"\n",
      "               }\n",
      "            },\n",
      "            \"http://xmlns.com/foaf/0.1/name\": \"Tenda dos Milagres\",\n",
      "            \"http://dbpedia.org/property/englishPubDate\": \"1971\",\n",
      "            \"http://dbpedia.org/ontology/country\": {\n",
      "               \"__deferred\": {\n",
      "                  \"uri\": \"http://dbpedia.org/resource/Brazil\"\n",
      "               }\n",
      "            },\n",
      "            \"http://dbpedia.org/property/name\": \"Tent of Miracles\",\n",
      "            \"http://purl.org/linguistics/gold/hypernym\": {\n",
      "               \"__deferred\": {\n",
      "                  \"uri\": \"http://dbpedia.org/resource/Novel\"\n",
      "               }\n",
      "            },\n",
      "            \"http://dbpedia.org/property/titleOrig\": \"Tenda dos Milagres\",\n",
      "            \"http://dbpedia.org/ontology/publisher\": {\n",
      "               \"__deferred\": {\n",
      "                  \"uri\": \"http://dbpedia.org/resource/Brazil\"\n",
      "               }\n",
      "            },\n",
      "            \"http://dbpedia.org/ontology/language\": {\n",
      "               \"__deferred\": {\n",
      "                  \"uri\": \"http://dbpedia.org/resource/Portuguese_language\"\n",
      "               }\n",
      "            },\n",
      "            \"http://www.w3.org/ns/prov#wasDerivedFrom\": {\n",
      "               \"__deferred\": {\n",
      "                  \"uri\": \"http://en.wikipedia.org/wiki/Tent_of_Miracles_(novel)?oldid=974212123&ns=0\"\n",
      "               }\n",
      "            },\n",
      "            \"http://dbpedia.org/ontology/wikiPageLength\": \"5253\",\n",
      "            \"http://purl.org/dc/elements/1.1/publisher\": \"Martins, Sao Paulo, Brazil\",\n",
      "            \"http://dbpedia.org/property/language\": {\n",
      "               \"__deferred\": {\n",
      "                  \"uri\": \"http://dbpedia.org/resource/Portuguese_language\"\n",
      "               }\n",
      "            },\n",
      "            \"http://dbpedia.org/ontology/wikiPageID\": \"623351\",\n",
      "            \"http://dbpedia.org/property/publisher\": \"Martins, Sao Paulo, Brazil\",\n",
      "            \"http://dbpedia.org/property/caption\": \"First edition\",\n",
      "            \"http://xmlns.com/foaf/0.1/isPrimaryTopicOf\": {\n",
      "               \"__deferred\": {\n",
      "                  \"uri\": \"http://en.wikipedia.org/wiki/Tent_of_Miracles_(novel)\"\n",
      "               }\n",
      "            }\n",
      "         }\n",
      "      ],\n",
      "      \"__count\": \"1\"\n",
      "   }\n",
      "}\n"
     ]
    }
   ],
   "source": [
    "url_template = \"http://dbpedia.org/data/{concept}.{format}\"\n",
    "\n",
    "concept = \"Tent of Miracles (novel)\"\n",
    "format = \"jsod\"\n",
    "\n",
    "concept = concept.replace(\" \", \"_\")\n",
    "\n",
    "url = url_template.replace(\"{concept}\", concept)\\\n",
    "                  .replace(\"{format}\", format)\n",
    "\n",
    "data = requests.get(url)\n",
    "js = data.json()\n",
    "print(json.dumps(js, indent=3))"
   ]
  },
  {
   "cell_type": "markdown",
   "id": "threatened-shepherd",
   "metadata": {},
   "source": [
    "## Tarefa 2\n",
    "### Recupere via Python e mostre o autor de Tenda dos Milagres?"
   ]
  },
  {
   "cell_type": "code",
   "execution_count": 31,
   "id": "subjective-bachelor",
   "metadata": {},
   "outputs": [
    {
     "name": "stdout",
     "output_type": "stream",
     "text": [
      "Autor de Tenda dos Milagres: http://dbpedia.org/resource/Jorge_Amado\n"
     ]
    }
   ],
   "source": [
    "grass = js[\"d\"][\"results\"][0][\"http://dbpedia.org/ontology/author\"][\"__deferred\"][\"uri\"]\n",
    "print(\"Autor de Tenda dos Milagres: \" + grass)"
   ]
  },
  {
   "cell_type": "markdown",
   "id": "specialized-playback",
   "metadata": {},
   "source": [
    "## Tarefa 3\n",
    "### Quais os termos usados para Aspirina (consulta JSON/MeSH em Python)?"
   ]
  },
  {
   "cell_type": "code",
   "execution_count": 32,
   "id": "about-sacramento",
   "metadata": {},
   "outputs": [
    {
     "name": "stdout",
     "output_type": "stream",
     "text": [
      "[\n",
      "   {\n",
      "      \"resource\": \"http://id.nlm.nih.gov/mesh/D001241\",\n",
      "      \"label\": \"Aspirin\"\n",
      "   }\n",
      "]\n"
     ]
    }
   ],
   "source": [
    "url_template = \"https://id.nlm.nih.gov/mesh/lookup/descriptor?label={concept}&match={match}\"\n",
    "\n",
    "concept = \"Aspirin\"\n",
    "match = \"exact\"\n",
    "\n",
    "concept = concept.replace(\" \", \"%20\")\n",
    "\n",
    "url = url_template.replace(\"{concept}\", concept)\\\n",
    "                  .replace(\"{match}\", match)\n",
    "\n",
    "data = requests.get(url)\n",
    "json_mi = data.json()\n",
    "print(json.dumps(json_mi, indent=3))"
   ]
  },
  {
   "cell_type": "code",
   "execution_count": 33,
   "id": "65fb40e0",
   "metadata": {},
   "outputs": [
    {
     "name": "stdout",
     "output_type": "stream",
     "text": [
      "uri do recurso: http://id.nlm.nih.gov/mesh/D001241\n",
      "código do recurso: D001241\n",
      "label: Aspirin\n"
     ]
    }
   ],
   "source": [
    "uri_mesh = json_mi[0][\"resource\"]\n",
    "print(\"uri do recurso: \" + uri_mesh)\n",
    "bar = str.rindex(uri_mesh, \"/\")\n",
    "print(\"código do recurso: \" + uri_mesh[bar+1:])\n",
    "print(\"label: \" +json_mi[0][\"label\"])"
   ]
  },
  {
   "cell_type": "markdown",
   "id": "uniform-worst",
   "metadata": {},
   "source": [
    "## Tarefa 4\n",
    "### Escolha algum lugar no OpenStreetMap e elabore a mesma sequência de três chamadas de serviços para o seu conceito."
   ]
  },
  {
   "cell_type": "code",
   "execution_count": 34,
   "id": "virgin-volunteer",
   "metadata": {},
   "outputs": [
    {
     "name": "stdout",
     "output_type": "stream",
     "text": [
      "[\n",
      "   {\n",
      "      \"place_id\": 155195234,\n",
      "      \"licence\": \"Data \\u00a9 OpenStreetMap contributors, ODbL 1.0. https://osm.org/copyright\",\n",
      "      \"osm_type\": \"way\",\n",
      "      \"osm_id\": 271220752,\n",
      "      \"boundingbox\": [\n",
      "         \"40.7921694\",\n",
      "         \"40.7928425\",\n",
      "         \"-73.9523222\",\n",
      "         \"-73.9514937\"\n",
      "      ],\n",
      "      \"lat\": \"40.792516250000006\",\n",
      "      \"lon\": \"-73.95180912958764\",\n",
      "      \"display_name\": \"Museum of the City of New York, East 103rd Street, East Harlem, Manhattan Community Board 11, Manhattan, New York County, New York, 10029, United States\",\n",
      "      \"class\": \"tourism\",\n",
      "      \"type\": \"museum\",\n",
      "      \"importance\": 1.0897854173444355,\n",
      "      \"icon\": \"https://nominatim.openstreetmap.org/ui/mapicons//tourist_museum.p.20.png\"\n",
      "   }\n",
      "]\n"
     ]
    }
   ],
   "source": [
    "url_template = \"http://nominatim.openstreetmap.org/search?format={format}&q={query}\"\n",
    "format = \"json\"\n",
    "query = \"Museum of the City of New York\"\n",
    "\n",
    "url = url_template.replace(\"{format}\", format)\\\n",
    "                  .replace(\"{query}\", query)\n",
    "\n",
    "data = requests.get(url)\n",
    "observatory_ref = data.json()\n",
    "print(json.dumps(observatory_ref, indent=3))"
   ]
  },
  {
   "cell_type": "code",
   "execution_count": 35,
   "id": "b8fd0e62",
   "metadata": {},
   "outputs": [
    {
     "name": "stdout",
     "output_type": "stream",
     "text": [
      "{\n",
      "   \"version\": \"0.6\",\n",
      "   \"generator\": \"CGImap 0.8.5 (3259794 spike-06.openstreetmap.org)\",\n",
      "   \"copyright\": \"OpenStreetMap and contributors\",\n",
      "   \"attribution\": \"http://www.openstreetmap.org/copyright\",\n",
      "   \"license\": \"http://opendatacommons.org/licenses/odbl/1-0/\",\n",
      "   \"elements\": [\n",
      "      {\n",
      "         \"type\": \"way\",\n",
      "         \"id\": 271220752,\n",
      "         \"timestamp\": \"2019-02-21T00:02:02Z\",\n",
      "         \"version\": 4,\n",
      "         \"changeset\": 67411714,\n",
      "         \"user\": \"b-jazz-bot\",\n",
      "         \"uid\": 9451067,\n",
      "         \"nodes\": [\n",
      "            2761794345,\n",
      "            2761794346,\n",
      "            2761794342,\n",
      "            2761794340,\n",
      "            2761794337,\n",
      "            2761794302,\n",
      "            2761794309,\n",
      "            2761794311,\n",
      "            2761794320,\n",
      "            2761794326,\n",
      "            2761794323,\n",
      "            2761794328,\n",
      "            2761794330,\n",
      "            2761794331,\n",
      "            2761794334,\n",
      "            2761794333,\n",
      "            2761794339,\n",
      "            2761794343,\n",
      "            2761794349,\n",
      "            2761794348,\n",
      "            2761794345\n",
      "         ],\n",
      "         \"tags\": {\n",
      "            \"addr:city\": \"New York\",\n",
      "            \"addr:state\": \"NY\",\n",
      "            \"building\": \"yes\",\n",
      "            \"ele\": \"10\",\n",
      "            \"gnis:feature_id\": \"2083575\",\n",
      "            \"height\": \"29.1\",\n",
      "            \"name\": \"Museum of the City of New York\",\n",
      "            \"nycdoitt:bin\": \"1074157\",\n",
      "            \"opening_hours\": \"Mo-Su 10:00-18:00\",\n",
      "            \"tourism\": \"museum\",\n",
      "            \"website\": \"https://www.mcny.org/\",\n",
      "            \"wikidata\": \"Q1321141\",\n",
      "            \"wikipedia\": \"en:Museum of the City of New York\"\n",
      "         }\n",
      "      }\n",
      "   ]\n",
      "}\n"
     ]
    }
   ],
   "source": [
    "url_template = \"https://api.openstreetmap.org/api/0.6/{element_type}/{id}.{format}\"\n",
    "\n",
    "element_type = \"way\"\n",
    "id = str(observatory_ref[0][\"osm_id\"])\n",
    "format = \"json\"\n",
    "\n",
    "url = url_template.replace(\"{element_type}\", element_type)\\\n",
    "                  .replace(\"{id}\", id)\\\n",
    "                  .replace(\"{format}\", format)\n",
    "\n",
    "data = requests.get(url)\n",
    "observatory_way = data.json()\n",
    "print(json.dumps(observatory_way, indent=3))"
   ]
  },
  {
   "cell_type": "code",
   "execution_count": 36,
   "id": "6696bfcc",
   "metadata": {},
   "outputs": [
    {
     "name": "stdout",
     "output_type": "stream",
     "text": [
      "{\n",
      "   \"d\": {\n",
      "      \"results\": [\n",
      "         {\n",
      "            \"__metadata\": {\n",
      "               \"uri\": \"http://dbpedia.org/resource/Museum_of_the_City_of_New_York\"\n",
      "            },\n",
      "            \"http://dbpedia.org/ontology/wikiPageWikiLink\": {\n",
      "               \"__deferred\": {\n",
      "                  \"uri\": \"http://dbpedia.org/resource/Category:Museums_in_Manhattan\"\n",
      "               }\n",
      "            },\n",
      "            \"http://www.w3.org/2002/07/owl#sameAs\": {\n",
      "               \"__deferred\": {\n",
      "                  \"uri\": \"http://arz.dbpedia.org/resource/\\u0645\\u062a\\u062d\\u0641_\\u0645\\u062f\\u064a\\u0646\\u0647_\\u0646\\u064a\\u0648\\u064a\\u0648\\u0631\\u0643\"\n",
      "               }\n",
      "            },\n",
      "            \"http://dbpedia.org/ontology/abstract\": \"\\u041c\\u0443\\u0437\\u0435\\u0439 \\u0433\\u043e\\u0440\\u043e\\u0434\\u0430 \\u041d\\u044c\\u044e-\\u0419\\u043e\\u0440\\u043a\\u0430 (\\u0430\\u043d\\u0433\\u043b. The Museum of the City of New York) \\u2014 \\u044d\\u0442\\u043e \\u0438\\u0441\\u0442\\u043e\\u0440\\u0438\\u043a\\u043e-\\u0445\\u0443\\u0434\\u043e\\u0436\\u0435\\u0441\\u0442\\u0432\\u0435\\u043d\\u043d\\u044b\\u0439 \\u043c\\u0443\\u0437\\u0435\\u0439, \\u043e\\u0441\\u043d\\u043e\\u0432\\u0430\\u043d\\u043d\\u044b\\u0439 \\u0413\\u0435\\u043d\\u0440\\u0438 \\u041a\\u043e\\u043b\\u043b\\u0438\\u043d\\u0437\\u043e\\u043c \\u0411\\u0440\\u0430\\u0443\\u043d\\u043e\\u043c \\u0432 1923 \\u0433\\u043e\\u0434\\u0443, \\u0441 \\u0446\\u0435\\u043b\\u044c\\u044e \\u0441\\u043e\\u0445\\u0440\\u0430\\u043d\\u0438\\u0442\\u044c \\u0438 \\u043f\\u0440\\u0435\\u0434\\u0441\\u0442\\u0430\\u0432\\u0438\\u0442\\u044c \\u0438\\u0441\\u0442\\u043e\\u0440\\u0438\\u044e \\u041d\\u044c\\u044e-\\u0419\\u043e\\u0440\\u043a\\u0430 \\u0438 \\u0435\\u0433\\u043e \\u0436\\u0438\\u0442\\u0435\\u043b\\u0435\\u0439. \\u041e\\u043d \\u0440\\u0430\\u0441\\u043f\\u043e\\u043b\\u043e\\u0436\\u0435\\u043d \\u043d\\u0430 \\u041f\\u044f\\u0442\\u043e\\u0439 \\u0430\\u0432\\u0435\\u043d\\u044e \\u043c\\u0435\\u0436\\u0434\\u0443 \\u0412\\u043e\\u0441\\u0442\\u043e\\u0447\\u043d\\u043e\\u0439 103-\\u0439 \\u0438 104-\\u0439 \\u0443\\u043b\\u0438\\u0446\\u0430\\u043c\\u0438, \\u043d\\u0430\\u043f\\u0440\\u043e\\u0442\\u0438\\u0432 \\u0426\\u0435\\u043d\\u0442\\u0440\\u0430\\u043b\\u044c\\u043d\\u043e\\u0433\\u043e \\u043f\\u0430\\u0440\\u043a\\u0430 \\u0432 \\u0412\\u0435\\u0440\\u0445\\u043d\\u0435\\u043c \\u0418\\u0441\\u0442-\\u0421\\u0430\\u0439\\u0434\\u0435 \\u041c\\u0430\\u043d\\u0445\\u044d\\u0442\\u0442\\u0435\\u043d\\u0430. \\u041c\\u0443\\u0437\\u0435\\u0439 \\u0431\\u044b\\u043b \\u043f\\u043e\\u0441\\u0442\\u0440\\u043e\\u0435\\u043d \\u0432 1929-1930 \\u0433\\u043e\\u0434\\u0430\\u0445 \\u043f\\u043e \\u043f\\u0440\\u043e\\u0435\\u043a\\u0442\\u0443 \\u0414\\u0436\\u043e\\u0437\\u0435\\u0444\\u0430 \\u0425. \\u0424\\u0440\\u0438\\u0434\\u043b\\u0430\\u043d\\u0434\\u0435\\u0440\\u0430 \\u0432 \\u0433\\u0435\\u043e\\u0440\\u0433\\u0438\\u0430\\u043d\\u0441\\u043a\\u043e\\u043c \\u0441\\u0442\\u0438\\u043b\\u0435, \\u0441\\u043e \\u0441\\u0442\\u0430\\u0442\\u0443\\u044f\\u043c\\u0438 \\u0410\\u043b\\u0435\\u043a\\u0441\\u0430\\u043d\\u0434\\u0440\\u0430 \\u0413\\u0430\\u043c\\u0438\\u043b\\u044c\\u0442\\u043e\\u043d\\u0430 \\u0438 \\u0414\\u0435\\u0432\\u0438\\u0442\\u0442\\u0430 \\u041a\\u043b\\u0438\\u043d\\u0442\\u043e\\u043d\\u0430, \\u043a\\u043e\\u0442\\u043e\\u0440\\u044b\\u0435 \\u0431\\u044b\\u043b\\u0438 \\u0441\\u043e\\u0437\\u0434\\u0430\\u043d\\u044b \\u0441\\u043a\\u0443\\u043b\\u044c\\u043f\\u0442\\u043e\\u0440\\u043e\\u043c, \\u0410\\u0434\\u043e\\u043b\\u044c\\u0444\\u043e\\u043c \\u0410\\u043b\\u0435\\u043a\\u0441\\u0430\\u043d\\u0434\\u0440\\u043e\\u043c \\u0412\\u0430\\u0439\\u043d\\u043c\\u0430\\u043d\\u043e\\u043c. \\u041c\\u0443\\u0437\\u0435\\u0439 \\u044f\\u0432\\u043b\\u044f\\u0435\\u0442\\u0441\\u044f \\u0447\\u0430\\u0441\\u0442\\u043d\\u043e\\u0439 \\u043d\\u0435\\u043a\\u043e\\u043c\\u043c\\u0435\\u0440\\u0447\\u0435\\u0441\\u043a\\u043e\\u0439 \\u043e\\u0440\\u0433\\u0430\\u043d\\u0438\\u0437\\u0430\\u0446\\u0438\\u0435\\u0439, \\u043a\\u043e\\u0442\\u043e\\u0440\\u0430\\u044f \\u043f\\u043e\\u043b\\u0443\\u0447\\u0430\\u0435\\u0442 \\u0433\\u043e\\u0441\\u0443\\u0434\\u0430\\u0440\\u0441\\u0442\\u0432\\u0435\\u043d\\u043d\\u0443\\u044e \\u043f\\u043e\\u0434\\u0434\\u0435\\u0440\\u0436\\u043a\\u0443 \\u0432 \\u043a\\u0430\\u0447\\u0435\\u0441\\u0442\\u0432\\u0435 \\u0447\\u043b\\u0435\\u043d\\u0430 \\u0433\\u0440\\u0443\\u043f\\u043f\\u044b \\u043a\\u0443\\u043b\\u044c\\u0442\\u0443\\u0440\\u043d\\u044b\\u0445 \\u0443\\u0447\\u0440\\u0435\\u0436\\u0434\\u0435\\u043d\\u0438\\u0439 \\u041d\\u044c\\u044e-\\u0419\\u043e\\u0440\\u043a\\u0430, \\u0448\\u0438\\u0440\\u043e\\u043a\\u043e \\u0438\\u0437\\u0432\\u0435\\u0441\\u0442\\u043d\\u043e\\u0439 \\u043a\\u0430\\u043a \\u00abCultural Institutions Group\\u00bb. \\u0414\\u0440\\u0443\\u0433\\u0438\\u043c\\u0438 \\u0438\\u0441\\u0442\\u043e\\u0447\\u043d\\u0438\\u043a\\u0430\\u043c\\u0438 \\u0435\\u0433\\u043e \\u0434\\u043e\\u0445\\u043e\\u0434\\u0430 \\u044f\\u0432\\u043b\\u044f\\u044e\\u0442\\u0441\\u044f \\u043f\\u043e\\u0436\\u0435\\u0440\\u0442\\u0432\\u043e\\u0432\\u0430\\u043d\\u0438\\u044f \\u0438 \\u0432\\u0441\\u0442\\u0443\\u043f\\u0438\\u0442\\u0435\\u043b\\u044c\\u043d\\u044b\\u0435 \\u0432\\u0437\\u043d\\u043e\\u0441\\u044b.\",\n",
      "            \"http://dbpedia.org/property/wikiPageUsesTemplate\": {\n",
      "               \"__deferred\": {\n",
      "                  \"uri\": \"http://dbpedia.org/resource/Template:Museums_in_Manhattan\"\n",
      "               }\n",
      "            },\n",
      "            \"http://www.w3.org/1999/02/22-rdf-syntax-ns#type\": {\n",
      "               \"__deferred\": {\n",
      "                  \"uri\": \"http://dbpedia.org/class/yago/Depository103177349\"\n",
      "               }\n",
      "            },\n",
      "            \"http://www.w3.org/2000/01/rdf-schema#comment\": \"El Museo de la Ciudad de Nueva York (MCNY) es un museo de historia y arte ubicado en Manhattan, Nueva York, el cual fue fundado por Henry Collins Brown,\\u200b\\u200b en 1923 para preservar y presentar la historia de la ciudad de Nueva York y su gente. Est\\u00e1 ubicado en el n\\u00famero 1220-1227 de la Quinta Avenida, entre las calles East 103rd y 104th, frente a Central Park en el Upper East Side de Manhattan, en el extremo norte de la secci\\u00f3n Milla de los Museos de la Quinta Avenida.\",\n",
      "            \"http://dbpedia.org/ontology/wikiPageID\": \"1069007\",\n",
      "            \"http://www.w3.org/2000/01/rdf-schema#label\": \"Museum Kota New York\",\n",
      "            \"http://purl.org/dc/terms/subject\": {\n",
      "               \"__deferred\": {\n",
      "                  \"uri\": \"http://dbpedia.org/resource/Category:New_York_City_Designated_Landmarks_in_Manhattan\"\n",
      "               }\n",
      "            },\n",
      "            \"http://xmlns.com/foaf/0.1/depiction\": {\n",
      "               \"__deferred\": {\n",
      "                  \"uri\": \"http://commons.wikimedia.org/wiki/Special:FilePath/Museum_of_the_City_of_New_York_1220_Fifth_Avenue_from_west.jpg\"\n",
      "               }\n",
      "            },\n",
      "            \"http://dbpedia.org/ontology/wikiPageExternalLink\": {\n",
      "               \"__deferred\": {\n",
      "                  \"uri\": \"http://www.puffinfoundation.org\"\n",
      "               }\n",
      "            },\n",
      "            \"http://www.w3.org/2004/02/skos/core#closeMatch\": {\n",
      "               \"__deferred\": {\n",
      "                  \"uri\": \"http://www.grid.ac/institutes/grid.447107.1\"\n",
      "               }\n",
      "            },\n",
      "            \"http://xmlns.com/foaf/0.1/isPrimaryTopicOf\": {\n",
      "               \"__deferred\": {\n",
      "                  \"uri\": \"http://en.wikipedia.org/wiki/Museum_of_the_City_of_New_York\"\n",
      "               }\n",
      "            },\n",
      "            \"http://xmlns.com/foaf/0.1/homepage\": {\n",
      "               \"__deferred\": {\n",
      "                  \"uri\": \"http://www.mcny.org/\"\n",
      "               }\n",
      "            },\n",
      "            \"http://schema.org/sameAs\": {\n",
      "               \"__deferred\": {\n",
      "                  \"uri\": \"http://viaf.org/viaf/138197614\"\n",
      "               }\n",
      "            },\n",
      "            \"http://dbpedia.org/ontology/wikiPageLength\": \"14824\",\n",
      "            \"http://dbpedia.org/ontology/wikiPageRevisionID\": \"1008526842\",\n",
      "            \"http://dbpedia.org/ontology/thumbnail\": {\n",
      "               \"__deferred\": {\n",
      "                  \"uri\": \"http://commons.wikimedia.org/wiki/Special:FilePath/Museum_of_the_City_of_New_York_1220_Fifth_Avenue_from_west.jpg?width=300\"\n",
      "               }\n",
      "            },\n",
      "            \"http://www.w3.org/ns/prov#wasDerivedFrom\": {\n",
      "               \"__deferred\": {\n",
      "                  \"uri\": \"http://en.wikipedia.org/wiki/Museum_of_the_City_of_New_York?oldid=1008526842&ns=0\"\n",
      "               }\n",
      "            }\n",
      "         }\n",
      "      ],\n",
      "      \"__count\": \"1\"\n",
      "   }\n",
      "}\n"
     ]
    }
   ],
   "source": [
    "url_template = \"http://dbpedia.org/data/{concept}.{format}\"\n",
    "concept = observatory_way[\"elements\"][0][\"tags\"][\"wikipedia\"].replace(\" \", \"_\")\\\n",
    "                                                        .replace(\"en:\", \"\")\n",
    "format = \"jsod\"\n",
    "\n",
    "url = url_template.replace(\"{concept}\", concept)\\\n",
    "                  .replace(\"{format}\", format)\n",
    "\n",
    "data = requests.get(url)\n",
    "observatory_dbpedia = data.json()\n",
    "print(json.dumps(observatory_dbpedia, indent=3))"
   ]
  }
 ],
 "metadata": {
  "kernelspec": {
   "display_name": "Python 3",
   "language": "python",
   "name": "python3"
  },
  "language_info": {
   "codemirror_mode": {
    "name": "ipython",
    "version": 3
   },
   "file_extension": ".py",
   "mimetype": "text/x-python",
   "name": "python",
   "nbconvert_exporter": "python",
   "pygments_lexer": "ipython3",
   "version": "3.7.10"
  },
  "toc": {
   "base_numbering": 1,
   "nav_menu": {},
   "number_sections": false,
   "sideBar": false,
   "skip_h1_title": false,
   "title_cell": "Table of Contents",
   "title_sidebar": "Contents",
   "toc_cell": false,
   "toc_position": {},
   "toc_section_display": false,
   "toc_window_display": false
  }
 },
 "nbformat": 4,
 "nbformat_minor": 5
}
