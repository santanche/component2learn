{
 "cells": [
  {
   "cell_type": "markdown",
   "id": "monetary-oakland",
   "metadata": {},
   "source": [
    "# Laboratório 5 - Bloco 2\n",
    "\n",
    "Nas tarefas a seguir o número de células de resposta pode ser aumentado conforme a necessidade."
   ]
  },
  {
   "cell_type": "markdown",
   "id": "bridal-netscape",
   "metadata": {},
   "source": [
    "## Tarefa 1\n",
    "\n",
    "### Carregue o nó de Tenda dos Milagres (da versão em inglês Tent of Miracles) em Python e mostre o conteúdo JSON."
   ]
  },
  {
   "cell_type": "code",
   "execution_count": 13,
   "id": "exciting-cement",
   "metadata": {},
   "outputs": [
    {
     "name": "stdout",
     "output_type": "stream",
     "text": [
      "{\n",
      "   \"d\": {\n",
      "      \"results\": [\n",
      "         {\n",
      "            \"__metadata\": {\n",
      "               \"uri\": \"http://dbpedia.org/resource/Tent_of_Miracles_(novel)\"\n",
      "            },\n",
      "            \"http://www.w3.org/2000/01/rdf-schema#label\": \"Tent of Miracles (novel)\",\n",
      "            \"http://dbpedia.org/ontology/wikiPageWikiLink\": {\n",
      "               \"__deferred\": {\n",
      "                  \"uri\": \"http://dbpedia.org/resource/French_New_Wave\"\n",
      "               }\n",
      "            },\n",
      "            \"http://purl.org/dc/terms/subject\": {\n",
      "               \"__deferred\": {\n",
      "                  \"uri\": \"http://dbpedia.org/resource/Category:Modernist_novels\"\n",
      "               }\n",
      "            },\n",
      "            \"http://www.w3.org/1999/02/22-rdf-syntax-ns#type\": {\n",
      "               \"__deferred\": {\n",
      "                  \"uri\": \"http://dbpedia.org/ontology/WrittenWork\"\n",
      "               }\n",
      "            },\n",
      "            \"http://dbpedia.org/property/wikiPageUsesTemplate\": {\n",
      "               \"__deferred\": {\n",
      "                  \"uri\": \"http://dbpedia.org/resource/Template:According_to_whom\"\n",
      "               }\n",
      "            },\n",
      "            \"http://www.w3.org/2000/01/rdf-schema#comment\": \"Tent of Miracles (Portuguese: Tenda dos Milagres) is a Brazilian Modernist novel. It was written by Jorge Amado in 1967 and published the following year. It was later adapted to a 1977 Cinema Novo (Nouvelle Vague) film by director/screenplay writer Nelson Pereira dos Santos.\",\n",
      "            \"http://dbpedia.org/ontology/abstract\": \"La bottega dei miracoli \\u00e8 un romanzo di Jorge Amado pubblicato nel 1960. Come altri romanzi dell&#39;autore (ad esempio Tieta d&#39;Agreste e Teresa Batista) \\u00e8 un testo composito, con un intreccio zigzagante fra analessi e prolessi, con mutamenti di voci narranti ed inserti di materiale eterogeneo.\\u00c8 possibile che l&#39;evento scatenante del racconto (la visita del famoso scienziato) sia stato ispirato dall&#39;esperienza vissuta; in quello stesso 1960, infatti, Jean Paul Sartre e Simone De Beauvoir visitarono il Brasile su invito dello stesso Amado: la visita divenne un evento mediatico, celebrato in numerose manifestazioni istituzionali.\",\n",
      "            \"http://dbpedia.org/property/pubDate\": \"1969\",\n",
      "            \"http://dbpedia.org/property/country\": {\n",
      "               \"__deferred\": {\n",
      "                  \"uri\": \"http://dbpedia.org/resource/Brazil\"\n",
      "               }\n",
      "            },\n",
      "            \"http://www.w3.org/2002/07/owl#sameAs\": {\n",
      "               \"__deferred\": {\n",
      "                  \"uri\": \"http://rdf.freebase.com/ns/m.02xrs4\"\n",
      "               }\n",
      "            },\n",
      "            \"http://dbpedia.org/ontology/wikiPageRevisionID\": \"974212123\",\n",
      "            \"http://dbpedia.org/property/author\": {\n",
      "               \"__deferred\": {\n",
      "                  \"uri\": \"http://dbpedia.org/resource/Jorge_Amado\"\n",
      "               }\n",
      "            },\n",
      "            \"http://dbpedia.org/ontology/author\": {\n",
      "               \"__deferred\": {\n",
      "                  \"uri\": \"http://dbpedia.org/resource/Jorge_Amado\"\n",
      "               }\n",
      "            },\n",
      "            \"http://xmlns.com/foaf/0.1/name\": \"Tenda dos Milagres\",\n",
      "            \"http://dbpedia.org/property/englishPubDate\": \"1971\",\n",
      "            \"http://dbpedia.org/ontology/country\": {\n",
      "               \"__deferred\": {\n",
      "                  \"uri\": \"http://dbpedia.org/resource/Brazil\"\n",
      "               }\n",
      "            },\n",
      "            \"http://dbpedia.org/property/name\": \"Tent of Miracles\",\n",
      "            \"http://purl.org/linguistics/gold/hypernym\": {\n",
      "               \"__deferred\": {\n",
      "                  \"uri\": \"http://dbpedia.org/resource/Novel\"\n",
      "               }\n",
      "            },\n",
      "            \"http://dbpedia.org/property/titleOrig\": \"Tenda dos Milagres\",\n",
      "            \"http://dbpedia.org/ontology/publisher\": {\n",
      "               \"__deferred\": {\n",
      "                  \"uri\": \"http://dbpedia.org/resource/Brazil\"\n",
      "               }\n",
      "            },\n",
      "            \"http://dbpedia.org/ontology/language\": {\n",
      "               \"__deferred\": {\n",
      "                  \"uri\": \"http://dbpedia.org/resource/Portuguese_language\"\n",
      "               }\n",
      "            },\n",
      "            \"http://www.w3.org/ns/prov#wasDerivedFrom\": {\n",
      "               \"__deferred\": {\n",
      "                  \"uri\": \"http://en.wikipedia.org/wiki/Tent_of_Miracles_(novel)?oldid=974212123&ns=0\"\n",
      "               }\n",
      "            },\n",
      "            \"http://dbpedia.org/ontology/wikiPageLength\": \"5253\",\n",
      "            \"http://purl.org/dc/elements/1.1/publisher\": \"Martins, Sao Paulo, Brazil\",\n",
      "            \"http://dbpedia.org/property/language\": {\n",
      "               \"__deferred\": {\n",
      "                  \"uri\": \"http://dbpedia.org/resource/Portuguese_language\"\n",
      "               }\n",
      "            },\n",
      "            \"http://dbpedia.org/ontology/wikiPageID\": \"623351\",\n",
      "            \"http://dbpedia.org/property/publisher\": \"Martins, Sao Paulo, Brazil\",\n",
      "            \"http://dbpedia.org/property/caption\": \"First edition\",\n",
      "            \"http://xmlns.com/foaf/0.1/isPrimaryTopicOf\": {\n",
      "               \"__deferred\": {\n",
      "                  \"uri\": \"http://en.wikipedia.org/wiki/Tent_of_Miracles_(novel)\"\n",
      "               }\n",
      "            }\n",
      "         }\n",
      "      ],\n",
      "      \"__count\": \"1\"\n",
      "   }\n",
      "}\n"
     ]
    }
   ],
   "source": [
    "import io\n",
    "import requests\n",
    "import json\n",
    "\n",
    "url = \"http://dbpedia.org/data/Tent_of_Miracles_(novel).jsod\"\n",
    "data = requests.get(url)\n",
    "_json = data.json()\n",
    "\n",
    "print(json.dumps(_json, indent=3))"
   ]
  },
  {
   "cell_type": "markdown",
   "id": "threatened-shepherd",
   "metadata": {},
   "source": [
    "## Tarefa 2\n",
    "### Recupere via Python e mostre o autor de Tenda dos Milagres?"
   ]
  },
  {
   "cell_type": "code",
   "execution_count": 14,
   "id": "subjective-bachelor",
   "metadata": {},
   "outputs": [
    {
     "name": "stdout",
     "output_type": "stream",
     "text": [
      "Autor de Tenda dos Milagres: http://dbpedia.org/resource/Jorge_Amado\n"
     ]
    }
   ],
   "source": [
    "grass = _json[\"d\"][\"results\"][0][\"http://dbpedia.org/ontology/author\"][\"__deferred\"][\"uri\"]\n",
    "print(\"Autor de Tenda dos Milagres: \" + grass)"
   ]
  },
  {
   "cell_type": "markdown",
   "id": "specialized-playback",
   "metadata": {},
   "source": [
    "## Tarefa 3\n",
    "### Quais os termos usados para Aspirina (consulta JSON/MeSH em Python)?"
   ]
  },
  {
   "cell_type": "code",
   "execution_count": 39,
   "id": "about-sacramento",
   "metadata": {},
   "outputs": [
    {
     "name": "stdout",
     "output_type": "stream",
     "text": [
      "https://id.nlm.nih.gov/mesh/lookup/descriptor?label=Aspirin&match=exact&limit=5\n",
      "[\n",
      "  {\n",
      "    \"resource\": \"http://id.nlm.nih.gov/mesh/D001241\",\n",
      "    \"label\": \"Aspirin\"\n",
      "  }\n",
      "]\n"
     ]
    }
   ],
   "source": [
    "url_template = \"https://id.nlm.nih.gov/mesh/lookup/descriptor?label={concept}&match={match}&limit={limit}\"\n",
    "\n",
    "concept = \"Aspirin\"\n",
    "match = \"exact\"\n",
    "limit = \"5\"\n",
    "\n",
    "url_formated = url_template.replace(\"{concept}\", concept)\\\n",
    "                           .replace(\"{match}\", match)\\\n",
    "                           .replace(\"{limit}\", limit)\n",
    "print(url_formated)\n",
    "_data = requests.get(url_formated)\n",
    "_json = _data.json()\n",
    "print(json.dumps(_json, indent=2))"
   ]
  },
  {
   "cell_type": "markdown",
   "id": "uniform-worst",
   "metadata": {},
   "source": [
    "## Tarefa 4\n",
    "### Escolha algum lugar no OpenStreetMap e elabore a mesma sequência de três chamadas de serviços para o seu conceito."
   ]
  },
  {
   "cell_type": "code",
   "execution_count": 17,
   "id": "virgin-volunteer",
   "metadata": {},
   "outputs": [
    {
     "name": "stdout",
     "output_type": "stream",
     "text": [
      "[\n",
      "   {\n",
      "      \"place_id\": 120020476,\n",
      "      \"licence\": \"Data \\u00a9 OpenStreetMap contributors, ODbL 1.0. https://osm.org/copyright\",\n",
      "      \"osm_type\": \"way\",\n",
      "      \"osm_id\": 125450993,\n",
      "      \"boundingbox\": [\n",
      "         \"-23.5951559\",\n",
      "         \"-23.5802671\",\n",
      "         \"-46.6647908\",\n",
      "         \"-46.6515871\"\n",
      "      ],\n",
      "      \"lat\": \"-23.58771265\",\n",
      "      \"lon\": \"-46.65852139371083\",\n",
      "      \"display_name\": \"Parque Ibirapuera, s/n, Avenida Pedro \\u00c1lvares Cabral, Moema, S\\u00e3o Paulo, Regi\\u00e3o Imediata de S\\u00e3o Paulo, Regi\\u00e3o Metropolitana de S\\u00e3o Paulo, Regi\\u00e3o Geogr\\u00e1fica Intermedi\\u00e1ria de S\\u00e3o Paulo, S\\u00e3o Paulo, Regi\\u00e3o Sudeste, 04002-010, Brasil\",\n",
      "      \"class\": \"tourism\",\n",
      "      \"type\": \"attraction\",\n",
      "      \"importance\": 0.6468303060997755,\n",
      "      \"icon\": \"https://nominatim.openstreetmap.org/ui/mapicons//poi_point_of_interest.p.20.png\"\n",
      "   }\n",
      "]\n"
     ]
    }
   ],
   "source": [
    "url_template = \"https://nominatim.openstreetmap.org/search?format={format}&q={q}\"\n",
    "\n",
    "q = \"Parque do Ibirapuera\"\n",
    "format = \"json\"\n",
    "\n",
    "url = url_template.replace(\"{q}\", q)\\\n",
    "                  .replace(\"{format}\", format)\n",
    "\n",
    "data = requests.get(url)\n",
    "park = data.json()\n",
    "print(json.dumps(park, indent=3))"
   ]
  },
  {
   "cell_type": "code",
   "execution_count": null,
   "id": "cc776980",
   "metadata": {},
   "outputs": [],
   "source": []
  }
 ],
 "metadata": {
  "kernelspec": {
   "display_name": "Python 3",
   "language": "python",
   "name": "python3"
  },
  "language_info": {
   "codemirror_mode": {
    "name": "ipython",
    "version": 3
   },
   "file_extension": ".py",
   "mimetype": "text/x-python",
   "name": "python",
   "nbconvert_exporter": "python",
   "pygments_lexer": "ipython3",
   "version": "3.7.10"
  },
  "toc": {
   "base_numbering": 1,
   "nav_menu": {},
   "number_sections": false,
   "sideBar": false,
   "skip_h1_title": false,
   "title_cell": "Table of Contents",
   "title_sidebar": "Contents",
   "toc_cell": false,
   "toc_position": {},
   "toc_section_display": false,
   "toc_window_display": false
  }
 },
 "nbformat": 4,
 "nbformat_minor": 5
}
