{
 "cells": [
  {
   "cell_type": "markdown",
   "metadata": {},
   "source": [
    "# Componentes de Software\n",
    "\n",
    "A seguir são reunidos alguns conceitos importantes para se entender o princípio de **Componentes de Software**.\n",
    "\n",
    "Em linhas gerais, um componente é um módulo de software reusável, que se liga aos seus parceiros exclusivamente através de interfaces. Apresentaremos aqui uma abordagem típica de ligação de componentes baseada em interfaces e conexões:\n",
    "* **Interfaces** - expressam os serviços providos pelos componentes, declarados através de `interfaces` Java;\n",
    "* **Conexões** - é a forma como componentes são ligados entre si; a partir delas um componente toma conhecimento do outro para que se comuniquem.\n",
    "\n",
    "## Interfaces\n",
    "\n",
    "Idealmente, todas as funcionalidades de um componente deveriam ser acessadas exclusivamente através de interfaces.\n",
    "\n",
    "Vamos analisar o processo de definição do `DataSetComponent` como um componente de software. Considerando que o código a seguir é uma versão inicial do componente, uma representação visual para o mesmo pode ser feita em UML, conforme segue:\n",
    "\n",
    "![Componente](images/console-dataset-a.png)\n",
    "\n",
    "Veja a seguir a representação em Java:\n",
    "\n",
    "~~~java\n",
    "public interface IDataSetProperties {\n",
    "  public String getDataSource();\n",
    "  public void setDataSource(String dataSource);\n",
    "}\n",
    "\n",
    "public interface ITableProducer {\n",
    "  String[] requestAttributes();\n",
    "  String[][] requestInstances();\n",
    "}\n",
    "~~~\n",
    "\n",
    "Note que cada interface que ele disponibiliza é apresentada na forma de uma haste com um círculo na ponta.\n",
    "\n",
    "Como a interface `IDataSetProperties` tem métodos `get` e `set` para definir a propriedade `DataSource`, em vez de representar essa interface da forma tradicional, podemos representá-la na forma de uma propriedade associada ao componente como segue:\n",
    "\n",
    "![Componente](images/console-dataset-b.png)\n",
    "\n",
    "A representação de propriedades não é padrão UML, mas é usada por algumas extensões. Isso introduz um terceiro elemento usual em algumas implementações de componentes:\n",
    "\n",
    "* **Propriedades** - podem ser usadas como mecanismos de configuração externa do componente; por exemplo, através da propriedade `dataSource` é possível externamente se configurar a fonte de dados do componente.\n",
    "\n",
    "A partir de agora, criaremos uma interface específica para a modificação de propriedades e usaremos a representação na forma de propriedade.\n",
    "\n",
    "Para englobar todas as interfaces em uma única, foi usada a estratégia de criar uma interface para o componente (`IDataSet`) unificando as demais na forma de herança:\n",
    "\n",
    "~~~java\n",
    "public interface IDataSet extends IDataSetProperties, ITableProducer {\n",
    "}\n",
    "~~~\n",
    "\n",
    "Essa estratégia será adotada em todos os componentes."
   ]
  },
  {
   "cell_type": "markdown",
   "metadata": {},
   "source": [
    "## Conexões\n",
    "\n",
    "Uma das formas mais comuns de comunicação entre componentes é a criação de uma conexão entre eles. Em linguagens orientadas a objetos uma estratégia consiste em um objeto (componente) guardar a referência de outro objeto (componente).\n",
    "\n",
    "Utilizaremos um método padrão chamado `connect` que conecta dois componentes. Para isso um dos objetos recebe a referência de outro:\n",
    "~~~java\n",
    "public void connect(ITableProducer producer)\n",
    "~~~\n",
    "\n",
    "Esse método recebe a referência para qualquer objeto que implementa a interface `ITableProducer` e a guarda. A referência é posteriormente usada para a comunicação entre os dois objetos.\n",
    "\n",
    "# Interface Requerida\n",
    "\n",
    "O ideal é que tudo seja explícito e que haja uma interface para realizar essa conexão. Desse modo, criaremos uma interface chamada `ITableReceptacle`. Ela define o método para se estabelecer a conexão com objetos que têm a interface `ITableProducer`.\n",
    "\n",
    "~~~java\n",
    "public interface ITableReceptacle {\n",
    "  public void connect(ITableProducer producer);\n",
    "}\n",
    "~~~\n",
    "\n",
    "A interface requerida é representada visualmente por um meio círculo e indica o nome da interface que ela requer:\n",
    "\n",
    "![Componente](images/console-dataset-d.svg)\n",
    "\n",
    "Outra maneira bastante usual de representar os dois componentes conectados é ligando diretamente a interface provida com a requerida:\n",
    "\n",
    "![Componente](images/console-dataset-e.svg)\n",
    "\n",
    "Para tornar o componente `ConsoleComponent` completamente acessível por interfaces, acrescentamos outra interface para o seu método `update()`.\n",
    "\n",
    "~~~java\n",
    "public interface IConsoleUpdate {\n",
    "  public void update();\n",
    "}\n",
    "~~~\n",
    "\n",
    "O Diagrama completo fica:\n",
    "\n",
    "![Componente](images/console-dataset-f.svg)\n",
    "\n",
    "Como foi feito antes, usamos a interface `IConsole` para juntar as duas outras interfaces através da herança:\n",
    "\n",
    "~~~java\n",
    "public interface IConsole extends ITableReceptacle, IConsoleUpdate {\n",
    "}\n",
    "~~~"
   ]
  },
  {
   "cell_type": "markdown",
   "metadata": {},
   "source": [
    "# Composição de Componentes\n",
    "\n",
    "Vamos ilustrar agora como criar uma composição de componentes.\n",
    "\n",
    "Conectamos um componente que acessa um arquivo CSV contendo zumbis doentes com as seguintes colunas:\n",
    "\n",
    "* `name` - nome do zumbi\n",
    "* `age` - idade do zumbi\n",
    "* `diagnostic` - doença diagnosticada no zumbi\n",
    "* `days_recovery` - número de dias que o zumbi levou para se recuperar da doença"
   ]
  },
  {
   "cell_type": "markdown",
   "metadata": {},
   "source": [
    "## Importando uma Biblioteca\n",
    "\n",
    "Neste laboratório vamos trabalhar na modalidade **caixa preta**. Por essa razão, os componentes serão importados de uma biblioteca e você não verá a sua implementação. \n",
    "\n",
    "Inicialmente, vamos importar a biblioteca onde estão implementados:"
   ]
  },
  {
   "cell_type": "code",
   "execution_count": 1,
   "metadata": {},
   "outputs": [
    {
     "data": {
      "application/vnd.jupyter.widget-view+json": {
       "model_id": "1176e597-82fd-4167-bab6-a37633ae6820",
       "version_major": 2,
       "version_minor": 0
      },
      "method": "display_data"
     },
     "metadata": {},
     "output_type": "display_data"
    }
   ],
   "source": [
    "%classpath add jar ../lib/component-catalog-2020-08-04.jar"
   ]
  },
  {
   "cell_type": "markdown",
   "metadata": {},
   "source": [
    "## Instanciando e Conectando Componentes\n",
    "\n",
    "No código a seguir um componente de leitura de CSV (`DataSet`) e um componente `Console` são instanciados e conectados. O processo inicia quando o método `update()` é chamado no componente `Console`. O resultado é a apresentação do conteúdo do arquivo.\n",
    "\n",
    "Note que ambos os componentes passam a ser tratados completamente a partir de suas interfaces."
   ]
  },
  {
   "cell_type": "code",
   "execution_count": 2,
   "metadata": {},
   "outputs": [
    {
     "name": "stdout",
     "output_type": "stream",
     "text": [
      "=== Attributes ===\n",
      "name, age, diagnostic, days_recovery\n",
      "\n",
      "=== Instances ===\n",
      "Rot Donnadd, 43, bacterial_infection, 9\n",
      "Pid Mught, 38, bacterial_infection, 7\n",
      "Thulk Lebbimp, 63, bite_deficit, 10\n",
      "Bouvossam Damme, 71, bite_deficit, 13\n",
      "Pirg Zall, 48, viral_infection, 4\n",
      "Nullon Rackindock, 23, fights, 8\n",
      "Shor Splitturch, 35, nothing, 0\n",
      "Ger Ackeng, 66, bite_deficit, 11\n",
      "Gleldo Shruck, 45, bacterial_infection, 8\n",
      "Nadross Pilch, 60, viral_infection, 8\n",
      "Sadrent Pemmir, 73, bite_deficit, 14\n",
      "Read Rait, 55, bacterial_infection, 9\n",
      "Dallun Whadder, 15, viral_infection, 2\n",
      "Eapplar Thorg, 25, fights, 5\n",
      "Blottork Patter, 68, bite_deficit, 12\n",
      "Darrutt Bottall, 75, bite_deficit, 16\n",
      "Gallir Shauch, 20, fights, 12\n",
      "Dirpe Polnay, 39, bacterial_infection, 7\n",
      "Harrimp Fottiem, 65, bite_deficit, 9\n"
     ]
    },
    {
     "data": {
      "text/plain": [
       "null"
      ]
     },
     "execution_count": 2,
     "metadata": {},
     "output_type": "execute_result"
    }
   ],
   "source": [
    "import pt.c08componentes.s20catalog.s10ds.*;\n",
    "import pt.c08componentes.s20catalog.s20console.*;\n",
    "\n",
    "IDataSet dataset = new DataSetComponent();\n",
    "dataset.setDataSource(\"../db/zombie-health-diseases.csv\");\n",
    "\n",
    "IConsole console = new ConsoleComponent();\n",
    "console.connect(dataset);\n",
    "\n",
    "console.update();"
   ]
  },
  {
   "cell_type": "markdown",
   "metadata": {},
   "source": [
    "# Projection Component\n",
    "\n",
    "Componente que realiza o recorte (projeção) de colunas em uma tabela.\n",
    "\n",
    "![Projection Component](images/projection-component.png)\n",
    "\n",
    "~~~java\n",
    "public interface IProjectionProperties {\n",
    "  String[] getAttributes();\n",
    "  void setAttributes(String attribute[]);\n",
    "}\n",
    "\n",
    "public interface IProjection extends IProjectionProperties, ITableProducer, ITableReceptacle {\n",
    "}\n",
    "~~~\n",
    "\n",
    "Recebe uma tabela de entrada (através da interface requerida `ITableProducer`) e gera uma tabela com as colunas recortadas (através da interface provida `ITableProducer`). A propriedade `attributes` contém um vetor com o nome das colunas a serem filtradas."
   ]
  },
  {
   "cell_type": "markdown",
   "metadata": {},
   "source": [
    "## Tarefa 1\n",
    "\n",
    "Conecte o componente `DataSet` aos componentes de projeção e console para mostrar na tela as seguintes colunas: `name` e `age`.\n",
    "\n",
    "Observe que neste campo de resposta já estão preenchidos os `imports` necessários para essa questão, basta você completar no mesmo campo com o código Java. A mesma estratégia é usada nas tarefas subsequentes."
   ]
  },
  {
   "cell_type": "code",
   "execution_count": 3,
   "metadata": {},
   "outputs": [
    {
     "data": {
      "text/plain": [
       "null"
      ]
     },
     "execution_count": 3,
     "metadata": {},
     "output_type": "execute_result"
    }
   ],
   "source": [
    "import pt.c08componentes.s20catalog.s10ds.*;\n",
    "import pt.c08componentes.s20catalog.s20console.*;\n",
    "import pt.c08componentes.s20catalog.s30projection.*;\n",
    "\n"
   ]
  },
  {
   "cell_type": "markdown",
   "metadata": {},
   "source": [
    "# Selection Component\n",
    "\n",
    "Componente que seleciona linhas da tabela que atendem a uma certa condição.\n",
    "\n",
    "![Selection Component](images/selection-component.png)\n",
    "\n",
    "~~~java\n",
    "public interface ISelectionProperties {\n",
    "  String getAttribute();\n",
    "  void setAttribute(String attributeA);\n",
    "  public String getOperator();\n",
    "  public void setOperator(String operator);\n",
    "  public String getValue();\n",
    "  public void setValue(String value);\n",
    "  boolean isNominalComparison();\n",
    "  void setNominalComparison(boolean nominalComparison);\n",
    "}\n",
    "~~~\n",
    "\n",
    "Os três propriedades `attribute`, `operator` e `value` definem a expressão de seleção. Por exemplo, a seguinte seleção `name = Rot Donnadd` seria:\n",
    "* **attribute:** `name`\n",
    "* **operator:** `=`\n",
    "* **value:** ` Rot Donnadd`\n",
    "\n",
    "A propriedade `nominalComparison` indica se a comparação será entre strings (`true`) ou números (`false`). O padrão é `true`.\n",
    "\n",
    "A interface unificada do componente é:\n",
    "~~~java\n",
    "public interface ISelection extends ISelectionProperties, ITableProducer, ITableReceptacle {\n",
    "}\n",
    "~~~"
   ]
  },
  {
   "cell_type": "markdown",
   "metadata": {},
   "source": [
    "## Tarefa 2\n",
    "\n",
    "Conecte o componente `DataSet` aos componentes de seleção e console para mostrar na tela aquelas instâncias cujo diagnóstico seja `bacterial_infection`."
   ]
  },
  {
   "cell_type": "code",
   "execution_count": 4,
   "metadata": {},
   "outputs": [
    {
     "data": {
      "text/plain": [
       "null"
      ]
     },
     "execution_count": 4,
     "metadata": {},
     "output_type": "execute_result"
    }
   ],
   "source": [
    "import pt.c08componentes.s20catalog.s10ds.*;\n",
    "import pt.c08componentes.s20catalog.s20console.*;\n",
    "import pt.c08componentes.s20catalog.s40selection.*;\n",
    "\n"
   ]
  },
  {
   "cell_type": "markdown",
   "metadata": {},
   "source": [
    "## Tarefa 3\n",
    "\n",
    "Conecte os componentes que você achar necessários para mostrar no console as colunas `name` e `age` de zumbis com `bacterial_infection`."
   ]
  },
  {
   "cell_type": "code",
   "execution_count": 5,
   "metadata": {},
   "outputs": [
    {
     "data": {
      "text/plain": [
       "null"
      ]
     },
     "execution_count": 5,
     "metadata": {},
     "output_type": "execute_result"
    }
   ],
   "source": [
    "import pt.c08componentes.s20catalog.s10ds.*;\n",
    "import pt.c08componentes.s20catalog.s20console.*;\n",
    "import pt.c08componentes.s20catalog.s40selection.*;\n",
    "import pt.c08componentes.s20catalog.s30projection.*;\n",
    "\n"
   ]
  },
  {
   "cell_type": "markdown",
   "metadata": {},
   "source": [
    "# Bubble Chart Component\n",
    "\n",
    "Componente que plota um gráfico de dispersão de uma tabela recebida como entrada. Para isso a tabela deve ter recortadas apenas as duas colunas que serão apresentadas usando um componente de projeção.\n",
    "\n",
    "![Bubble Chart Component](images/chartbubble-component.png)\n",
    "\n",
    "As propriedades `Title`, `XTitle` e `YTitle` são os títulos do gráfico, do eixo X e Y respectivamente. Essas propriedades são acessadas a partir da interface `IChartProperties`:\n",
    "\n",
    "~~~java\n",
    "public interface IChartProperties {\n",
    "  String getTitle();\n",
    "  void setTitle(String title);\n",
    "  String getXTitle();\n",
    "  void setXTitle(String title);\n",
    "  String getYTitle();\n",
    "  void setYTitle(String title);\n",
    "}\n",
    "~~~\n",
    "\n",
    "A interface `IRun` dispõe de métodos para ativar e desativar a plotagem do gráfico (métodos `start` e `stop` respectivamente):\n",
    "\n",
    "~~~java\n",
    "public interface IRun {\n",
    "  public boolean start();\n",
    "  public boolean stop();\n",
    "}\n",
    "~~~\n",
    "\n",
    "A interface unificada é:\n",
    "\n",
    "~~~java\n",
    "public interface IChart extends ITableReceptacle, IRun, IChartProperties {\n",
    "  /* Component Interfaces Set */\n",
    "}\n",
    "~~~\n",
    "\n",
    "O comando a seguir importa uma biblioteca gráfica necessária para o componente:"
   ]
  },
  {
   "cell_type": "code",
   "execution_count": 6,
   "metadata": {},
   "outputs": [
    {
     "data": {
      "application/vnd.jupyter.widget-view+json": {
       "model_id": "cdafa09b-9447-4896-bc8f-b846b7631ab1",
       "version_major": 2,
       "version_minor": 0
      },
      "method": "display_data"
     },
     "metadata": {},
     "output_type": "display_data"
    }
   ],
   "source": [
    "%classpath add jar ../lib/xchart-3.5.2.jar"
   ]
  },
  {
   "cell_type": "markdown",
   "metadata": {},
   "source": [
    "## Código do `ChartBubbleComponent`\n",
    "\n",
    "Por questões de implementação no Jupyter, o código do componente BarChart precisou ficar dentro do Notebook. Entretanto, a ideia é que você use o componente apenas conhecendo as interfaces, sem precisar analisar o código. Então você pode pular o código a seguir."
   ]
  },
  {
   "cell_type": "code",
   "execution_count": 7,
   "metadata": {
    "jupyter": {
     "source_hidden": true
    }
   },
   "outputs": [
    {
     "data": {
      "text/plain": [
       "com.twosigma.beaker.javash.bkre43234cd.ChartBubbleComponent"
      ]
     },
     "execution_count": 7,
     "metadata": {},
     "output_type": "execute_result"
    }
   ],
   "source": [
    "import java.util.ArrayList;\n",
    "import java.util.Hashtable;\n",
    "import java.util.List;\n",
    "\n",
    "import java.io.IOException;\n",
    "\n",
    "import org.knowm.xchart.BubbleChart;\n",
    "import org.knowm.xchart.BubbleChartBuilder;\n",
    "import org.knowm.xchart.SwingWrapper;\n",
    "import org.knowm.xchart.BitmapEncoder;\n",
    "import org.knowm.xchart.BitmapEncoder.BitmapFormat;\n",
    "\n",
    "import com.twosigma.beakerx.mimetype.MIMEContainer;\n",
    "import java.io.File;\n",
    "import java.nio.file.Files;\n",
    "\n",
    "import pt.c08componentes.s20catalog.s00shared.*;\n",
    "import pt.c08componentes.s20catalog.s50chart.IChart;\n",
    "\n",
    "public class ChartBubbleComponent implements IChart {\n",
    "  private BubbleChart chart = null;\n",
    "\n",
    "  private String title = \"Chart\";\n",
    "  private String xTitle = \"X\",\n",
    "                 yTitle = \"Y\";\n",
    "\n",
    "  private ITableProducer producer = null;\n",
    " \n",
    "  public void connect(ITableProducer producer) {\n",
    "    this.producer = producer;\n",
    "  }\n",
    "  \n",
    "  public ChartBubbleComponent() {\n",
    "  }\n",
    "  \n",
    "  public String getTitle() {\n",
    "    return title;\n",
    "  }\n",
    "  \n",
    "  public void setTitle(String title) {\n",
    "    this.title = title;\n",
    "  }\n",
    "\n",
    "  public String getXTitle() {\n",
    "    return xTitle;\n",
    "  }\n",
    "  \n",
    "  public void setXTitle(String title) {\n",
    "    xTitle = title;\n",
    "  }\n",
    "\n",
    "  public String getYTitle() {\n",
    "    return title;\n",
    "  }\n",
    "  \n",
    "  public void setYTitle(String title) {\n",
    "    yTitle = title;\n",
    "  }\n",
    "\n",
    "  public boolean start() {\n",
    "    boolean status = true;\n",
    "    \n",
    "    chart = new BubbleChartBuilder().width(600).height(400).title(title).xAxisTitle(xTitle).yAxisTitle(yTitle).build();\n",
    "    try{\n",
    "        \n",
    "        buildChart();         \n",
    "        BitmapEncoder.saveBitmap(chart, \"./chart\", BitmapFormat.PNG);\n",
    "        \n",
    "        File file = new File(\"chart.png\");\n",
    "        byte[] data = Files.readAllBytes(file.toPath());\n",
    "    \n",
    "        MIMEContainer image = new MIMEContainer(MIMEContainer.MIME.IMAGE_PNG, data);\n",
    "        display(image);\n",
    "      }catch(IOException ex){\n",
    "        status = false;\n",
    "        System.out.println (ex.toString());      \n",
    "      }\n",
    "        \n",
    "    return status;\n",
    "  }\n",
    "  \n",
    "  public boolean stop() {\n",
    "    return true;\n",
    "  }\n",
    "  \n",
    "  public double[] toDouble(String[][] instances, int column ) {\n",
    "    double[] numbers = new double[instances.length];\n",
    "    for (int i = 0; i < instances.length; i++)\n",
    "      numbers[i] = Double.parseDouble(instances[i][column]);\n",
    "    return numbers;\n",
    "  }\n",
    "\n",
    "  private void buildChart() {\n",
    "    if (chart != null && producer != null) {\n",
    "      String[][] instances = producer.requestInstances();\n",
    "\n",
    "      if (instances != null) {\n",
    "        double[] xData = toDouble(instances, 0),\n",
    "                 yData = toDouble(instances, 1);\n",
    "        \n",
    "        String[] categoryData = null;\n",
    "        if (instances[0].length > 2) {\n",
    "          categoryData = new String[instances.length];\n",
    "          for (int c = 0; c < instances.length; c++)\n",
    "            categoryData[c] = instances[c][2];\n",
    "        }\n",
    "        \n",
    "        double[] bubbleData = null;\n",
    "        if (instances[0].length > 3)\n",
    "          bubbleData = toDouble(producer.requestInstances(), 3);\n",
    "        else {\n",
    "          bubbleData = new double[instances.length];\n",
    "          for (int i = 0; i < xData.length; i++)\n",
    "            bubbleData[i] = 10;\n",
    "        }\n",
    "          \n",
    "        \n",
    "        if (categoryData == null ||\n",
    "            xData.length != yData.length || yData.length != bubbleData.length ||\n",
    "            bubbleData.length != categoryData.length) {\n",
    "          chart.addSeries(\" \", xData, yData, bubbleData);\n",
    "        } else {\n",
    "          Hashtable<String,String> hash = new Hashtable<String,String>();\n",
    "          int outer = 0;\n",
    "          int size = categoryData.length;\n",
    "          while (outer < size) {\n",
    "            if (hash.containsKey(categoryData[outer]))\n",
    "              outer++;\n",
    "            else {\n",
    "              hash.put(categoryData[outer],categoryData[outer]);\n",
    "              List<Double> xSub = new ArrayList<Double>(),\n",
    "                           ySub = new ArrayList<Double>(),\n",
    "                           bubbleSub = new ArrayList<Double>();\n",
    "              for (int inner = outer; inner < size; inner++)\n",
    "                if (categoryData[inner].equalsIgnoreCase(categoryData[outer])) {\n",
    "                  xSub.add(xData[inner]);\n",
    "                  ySub.add(yData[inner]);\n",
    "                  bubbleSub.add(bubbleData[inner]);\n",
    "                }\n",
    "              chart.addSeries(categoryData[outer], xSub, ySub, bubbleSub);\n",
    "              outer++;\n",
    "            }\n",
    "          }\n",
    "        }\n",
    "      }\n",
    "      \n",
    "    }\n",
    "    \n",
    "  }\n",
    "  \n",
    "}"
   ]
  },
  {
   "cell_type": "markdown",
   "metadata": {},
   "source": [
    "## Tarefa 4\n",
    "\n",
    "Conecte os componentes que você achar necessários para apresentar um gráfico comparativo entre idade e tempo de recuperação dos zumbis, conforme exemplo abaixo.\n",
    "\n",
    "![Graph](images/example1.png)"
   ]
  },
  {
   "cell_type": "code",
   "execution_count": 8,
   "metadata": {},
   "outputs": [
    {
     "data": {
      "text/plain": [
       "null"
      ]
     },
     "execution_count": 8,
     "metadata": {},
     "output_type": "execute_result"
    }
   ],
   "source": [
    "import pt.c08componentes.s20catalog.s10ds.*;\n",
    "import pt.c08componentes.s20catalog.s30projection.*;\n",
    "import pt.c08componentes.s20catalog.s50chart.IChart;\n",
    "\n"
   ]
  },
  {
   "cell_type": "markdown",
   "metadata": {},
   "source": [
    "## Tarefa 5\n",
    "\n",
    "Conecte os componentes que você achar necessários para apresentar um gráfico comparativo entre idade e tempo de recuperação dos zumbis, colorindo os pontos por diagnóstico, conforme exemplo abaixo.\n",
    "\n",
    "**Recomendação:** Se você recortar uma terceira coluna com o diagnóstico, o gráfico resultante irá colorir os pontos por diagnóstico.\n",
    "\n",
    "![Graph](images/example2.png)"
   ]
  },
  {
   "cell_type": "code",
   "execution_count": 9,
   "metadata": {},
   "outputs": [
    {
     "data": {
      "text/plain": [
       "null"
      ]
     },
     "execution_count": 9,
     "metadata": {},
     "output_type": "execute_result"
    }
   ],
   "source": [
    "import pt.c08componentes.s20catalog.s10ds.*;\n",
    "import pt.c08componentes.s20catalog.s30projection.*;\n",
    "import pt.c08componentes.s20catalog.s50chart.IChart;\n",
    "\n"
   ]
  },
  {
   "cell_type": "markdown",
   "metadata": {},
   "source": [
    "# Tarefa 6\n",
    "\n",
    "Conecte os componentes que você achar necessários para apresentar um gráfico comparativo entre idade e tempo de recuperação, filtrando apenas a doença “bacterial_infection”."
   ]
  },
  {
   "cell_type": "code",
   "execution_count": 10,
   "metadata": {},
   "outputs": [
    {
     "data": {
      "text/plain": [
       "null"
      ]
     },
     "execution_count": 10,
     "metadata": {},
     "output_type": "execute_result"
    }
   ],
   "source": [
    "import pt.c08componentes.s20catalog.s10ds.*;\n",
    "import pt.c08componentes.s20catalog.s30projection.*;\n",
    "import pt.c08componentes.s20catalog.s40selection.*;\n",
    "import pt.c08componentes.s20catalog.s50chart.IChart;\n"
   ]
  }
 ],
 "metadata": {
  "kernelspec": {
   "display_name": "Java",
   "language": "java",
   "name": "java"
  },
  "language_info": {
   "codemirror_mode": "text/x-java",
   "file_extension": ".java",
   "mimetype": "",
   "name": "Java",
   "nbconverter_exporter": "",
   "version": "1.8.0_152-release"
  },
  "toc": {
   "base_numbering": 1,
   "nav_menu": {},
   "number_sections": false,
   "sideBar": false,
   "skip_h1_title": false,
   "title_cell": "Table of Contents",
   "title_sidebar": "Contents",
   "toc_cell": false,
   "toc_position": {},
   "toc_section_display": false,
   "toc_window_display": false
  }
 },
 "nbformat": 4,
 "nbformat_minor": 4
}
