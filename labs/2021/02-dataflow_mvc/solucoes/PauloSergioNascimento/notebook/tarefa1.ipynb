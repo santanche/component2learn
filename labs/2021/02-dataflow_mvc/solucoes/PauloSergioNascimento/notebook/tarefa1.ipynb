{
 "cells": [
  {
   "cell_type": "markdown",
   "metadata": {},
   "source": [
    "# Componentes em Java"
   ]
  },
  {
   "cell_type": "markdown",
   "metadata": {},
   "source": [
    "# Componente `GeometricProgression`\n",
    "\n",
    "Gera uma progressão geométrica a partir de um valor `inicial` e de uma `razão`."
   ]
  },
  {
   "cell_type": "markdown",
   "metadata": {},
   "source": [
    "## Interface `ISequence`\n",
    "\n",
    "Percorre os elementos da razão em sequência. Métodos:\n",
    "* `first` - se desloca para (ou calcula) o primeiro elemento da sequência e o retorna\n",
    "* `next` - se desloca para (ou calcula) o pŕoximo elemento da sequência e o retorna"
   ]
  },
  {
   "cell_type": "code",
   "execution_count": 16,
   "metadata": {},
   "outputs": [
    {
     "data": {
      "text/plain": [
       "com.twosigma.beaker.javash.bkr7a76d143.ISequence"
      ]
     },
     "execution_count": 16,
     "metadata": {},
     "output_type": "execute_result"
    }
   ],
   "source": [
    "public interface ISequence {\n",
    "   public int first();\n",
    "   public int next();\n",
    "}"
   ]
  },
  {
   "cell_type": "markdown",
   "metadata": {},
   "source": [
    "## Interface `IGeometricProgressionProperties`\n",
    "\n",
    "Propriedades de uma progressão geométrica.\n",
    "\n",
    "Métodos `get` e `set` para as propriedades:\n",
    "* `initial` - valor inicial da progressão\n",
    "* `ratio` - razão da progressão"
   ]
  },
  {
   "cell_type": "code",
   "execution_count": 17,
   "metadata": {},
   "outputs": [
    {
     "data": {
      "text/plain": [
       "com.twosigma.beaker.javash.bkr7a76d143.IGeometricProgressionProperties"
      ]
     },
     "execution_count": 17,
     "metadata": {},
     "output_type": "execute_result"
    }
   ],
   "source": [
    "public interface IGeometricProgressionProperties {\n",
    "   public int getInitial();\n",
    "   public void setInitial(int initial);\n",
    "   \n",
    "   public int getRatio();\n",
    "   public void setRatio(int ratio);\n",
    "}"
   ]
  },
  {
   "cell_type": "markdown",
   "metadata": {},
   "source": [
    "## Interface `IGeometricProgression`\n",
    "\n",
    "Unifica as duas interfaces anteriores."
   ]
  },
  {
   "cell_type": "code",
   "execution_count": 18,
   "metadata": {},
   "outputs": [
    {
     "data": {
      "text/plain": [
       "com.twosigma.beaker.javash.bkr7a76d143.IGeometricProgression"
      ]
     },
     "execution_count": 18,
     "metadata": {},
     "output_type": "execute_result"
    }
   ],
   "source": [
    "public interface IGeometricProgression\n",
    "         extends ISequence, IGeometricProgressionProperties {\n",
    "}"
   ]
  },
  {
   "cell_type": "markdown",
   "metadata": {},
   "source": [
    "## Classe `GeometricProgression`\n",
    "\n",
    "Gera uma **Progressão Geométrica** a partir de um valor inicial (`initial`) e de uma razão (`ratio`)."
   ]
  },
  {
   "cell_type": "code",
   "execution_count": 19,
   "metadata": {},
   "outputs": [
    {
     "data": {
      "text/plain": [
       "com.twosigma.beaker.javash.bkr7a76d143.GeometricProgression"
      ]
     },
     "execution_count": 19,
     "metadata": {},
     "output_type": "execute_result"
    }
   ],
   "source": [
    "public class GeometricProgression implements IGeometricProgression {\n",
    "   private int initial,\n",
    "               ratio;\n",
    "   private int current;\n",
    "   \n",
    "   public GeometricProgression() {\n",
    "      initial = 1;\n",
    "      ratio = 2;\n",
    "      current = initial;\n",
    "   }\n",
    "   \n",
    "   public int getInitial() {\n",
    "      return initial;\n",
    "   }\n",
    "   \n",
    "   public void setInitial(int initial) {\n",
    "      this.initial = initial;\n",
    "   }\n",
    "   \n",
    "   public int getRatio() {\n",
    "      return ratio;\n",
    "   }\n",
    "   \n",
    "   public void setRatio(int ratio) {\n",
    "      this.ratio = ratio;\n",
    "   }\n",
    "   \n",
    "   public int first() {\n",
    "      current = initial;\n",
    "      return current;\n",
    "   }\n",
    "   \n",
    "   public int next() {\n",
    "      current *= ratio;\n",
    "      return current;\n",
    "   }\n",
    "}"
   ]
  },
  {
   "cell_type": "markdown",
   "metadata": {},
   "source": [
    "## Exemplo de uso do Componente"
   ]
  },
  {
   "cell_type": "code",
   "execution_count": 20,
   "metadata": {},
   "outputs": [
    {
     "name": "stdout",
     "output_type": "stream",
     "text": [
      "Progressão Geométrica: 1, 2, 4, 8, 16, "
     ]
    },
    {
     "data": {
      "text/plain": [
       "null"
      ]
     },
     "execution_count": 20,
     "metadata": {},
     "output_type": "execute_result"
    }
   ],
   "source": [
    "IGeometricProgression gp = new GeometricProgression();\n",
    "gp.setInitial(1);\n",
    "gp.setRatio(2);\n",
    "System.out.print(\"Progressão Geométrica: \");\n",
    "int value = gp.first();\n",
    "for (int g = 1; g <= 5; g++) {\n",
    "    System.out.print(value + \", \");\n",
    "    value = gp.next();\n",
    "}"
   ]
  },
  {
   "cell_type": "markdown",
   "metadata": {},
   "source": [
    "# Componente `BarChart`\n",
    "\n",
    "Apresenta um diagrama de barras no console a partir de uma sequência de números. A sequência é produzida por um componente a ele conectado."
   ]
  },
  {
   "cell_type": "markdown",
   "metadata": {},
   "source": [
    "## Interface `IChart`\n",
    "\n",
    "Dispara a apresentação do diagrama a partir do método `plot()`."
   ]
  },
  {
   "cell_type": "code",
   "execution_count": 21,
   "metadata": {},
   "outputs": [
    {
     "data": {
      "text/plain": [
       "com.twosigma.beaker.javash.bkr7a76d143.IChart"
      ]
     },
     "execution_count": 21,
     "metadata": {},
     "output_type": "execute_result"
    }
   ],
   "source": [
    "public interface IChart {\n",
    "   public void plot();\n",
    "}"
   ]
  },
  {
   "cell_type": "markdown",
   "metadata": {},
   "source": [
    "## Interface `IBarChartProperties`\n",
    "\n",
    "Propriedades para configurar um gráfico de barras.\n",
    "\n",
    "Métodos `get` e `set` para as propriedades:\n",
    "* `filled` - define se o gráfico será preenchido\n",
    "* `character` - caractere que será usado para plotar o gráfico\n",
    "* `n` - número de barras que serão apresentadas"
   ]
  },
  {
   "cell_type": "code",
   "execution_count": 22,
   "metadata": {},
   "outputs": [
    {
     "data": {
      "text/plain": [
       "com.twosigma.beaker.javash.bkr7a76d143.IBarChartProperties"
      ]
     },
     "execution_count": 22,
     "metadata": {},
     "output_type": "execute_result"
    }
   ],
   "source": [
    "public interface IBarChartProperties {\n",
    "   public boolean isFilled();\n",
    "   public void setFilled(boolean filled);\n",
    "\n",
    "   public char getCharacter();\n",
    "   public void setCharacter(char character);\n",
    "\n",
    "   public int getN();\n",
    "   public void setN(int n);\n",
    "}"
   ]
  },
  {
   "cell_type": "markdown",
   "metadata": {},
   "source": [
    "## Interface Requerida `IRSequence`\n",
    "\n",
    "Interface que requer outra interface `ISequence`. Método:\n",
    "* `connect` - realiza a conexão com um componente que tem a interface ISequence"
   ]
  },
  {
   "cell_type": "code",
   "execution_count": 23,
   "metadata": {},
   "outputs": [
    {
     "data": {
      "text/plain": [
       "com.twosigma.beaker.javash.bkr7a76d143.IRSequence"
      ]
     },
     "execution_count": 23,
     "metadata": {},
     "output_type": "execute_result"
    }
   ],
   "source": [
    "public interface IRSequence {\n",
    "   public void connect(ISequence sequence);\n",
    "}"
   ]
  },
  {
   "cell_type": "markdown",
   "metadata": {},
   "source": [
    "## Interface `IBarChart`\n",
    "\n",
    "Unifica as três interfaces anteriores."
   ]
  },
  {
   "cell_type": "code",
   "execution_count": 24,
   "metadata": {},
   "outputs": [
    {
     "data": {
      "text/plain": [
       "com.twosigma.beaker.javash.bkr7a76d143.IBarChart"
      ]
     },
     "execution_count": 24,
     "metadata": {},
     "output_type": "execute_result"
    }
   ],
   "source": [
    "public interface IBarChart\n",
    "         extends IChart, IBarChartProperties, IRSequence {\n",
    "}"
   ]
  },
  {
   "cell_type": "markdown",
   "metadata": {},
   "source": [
    "## Classe `BarChart`\n",
    "\n",
    "Implementa a apresentação de um gráfico de barras."
   ]
  },
  {
   "cell_type": "code",
   "execution_count": 25,
   "metadata": {},
   "outputs": [
    {
     "data": {
      "text/plain": [
       "com.twosigma.beaker.javash.bkr7a76d143.BarChart"
      ]
     },
     "execution_count": 25,
     "metadata": {},
     "output_type": "execute_result"
    }
   ],
   "source": [
    "public class BarChart implements IBarChart {\n",
    "   private boolean filled;\n",
    "   private char character;\n",
    "   private int n;\n",
    "   \n",
    "   private ISequence sequence;\n",
    "   \n",
    "   public BarChart() {\n",
    "      filled = true;\n",
    "      character = '*';\n",
    "      n = 3;\n",
    "   }\n",
    "\n",
    "   public boolean isFilled() {\n",
    "      return filled;\n",
    "   }\n",
    "\n",
    "   public void setFilled(boolean filled) {\n",
    "      this.filled = filled;\n",
    "   }\n",
    "\n",
    "   public char getCharacter() {\n",
    "      return character;\n",
    "   }\n",
    "\n",
    "   public void setCharacter(char character) {\n",
    "      this.character = character;\n",
    "   }\n",
    "\n",
    "   public int getN() {\n",
    "      return n;\n",
    "   }\n",
    "\n",
    "   public void setN(int n) {\n",
    "      this.n = n;\n",
    "   }\n",
    "\n",
    "   public void connect(ISequence sequence) {\n",
    "      this.sequence = sequence;\n",
    "   }\n",
    "   \n",
    "   public void plot() {\n",
    "      if (sequence != null) {\n",
    "         int value = sequence.first();\n",
    "         for (int s = 1; s <= n; s++) {\n",
    "            for (int v = 1; v < value; v++)\n",
    "               System.out.print((filled) ? character : ' ');\n",
    "            System.out.println(character);\n",
    "            value = sequence.next();\n",
    "         }\n",
    "      }\n",
    "   }\n",
    "}"
   ]
  },
  {
   "cell_type": "markdown",
   "metadata": {},
   "source": [
    "# Aplicação Exemplo\n",
    "Instancia os dois componentes (progressão geométrica e gráfico de barras), os conecta e dispara o processo de plotagem no componente do gráfico de barras."
   ]
  },
  {
   "cell_type": "code",
   "execution_count": 26,
   "metadata": {},
   "outputs": [
    {
     "name": "stdout",
     "output_type": "stream",
     "text": [
      "#\n",
      "##\n",
      "####\n",
      "########\n",
      "################\n"
     ]
    },
    {
     "data": {
      "text/plain": [
       "null"
      ]
     },
     "execution_count": 26,
     "metadata": {},
     "output_type": "execute_result"
    }
   ],
   "source": [
    "IGeometricProgression gp = new GeometricProgression();\n",
    "gp.setInitial(1);\n",
    "gp.setRatio(2);\n",
    "\n",
    "IBarChart bc = new BarChart();\n",
    "bc.setFilled(true);\n",
    "bc.setCharacter('#');\n",
    "bc.setN(5);\n",
    "\n",
    "bc.connect(gp);\n",
    "bc.plot();"
   ]
  },
  {
   "cell_type": "markdown",
   "metadata": {},
   "source": [
    "# Laboratório 2a"
   ]
  },
  {
   "cell_type": "markdown",
   "metadata": {},
   "source": [
    "## Tarefa 1\n",
    "\n",
    "Escreva um componente em Java chamado `Media` que receba um lote contendo uma sequência de `n` números e gere a média desses números. O componente deve seguir o estilo arquitetural Data Flow, respeitando a interface pivô `ISequence`, tanto para receber o lote de números, quanto para gerar média. O componente é customizado pela seguinte propriedade:\n",
    "\n",
    "* `n` - indica quantos números ele considerará para cada lote de cálculo de média; por exemplo, se o `n` for `5`, o componente solicita 5 números, calcula a média e passa adiante, depois solicita mais 5, calcula a média e passa adiante.\n",
    "\n",
    "É importante que você separe cada classe e interface em uma célula diferente do Jupyter."
   ]
  },
  {
   "cell_type": "code",
   "execution_count": 27,
   "metadata": {},
   "outputs": [
    {
     "data": {
      "text/plain": [
       "com.twosigma.beaker.javash.bkr7a76d143.IRMedia"
      ]
     },
     "execution_count": 27,
     "metadata": {},
     "output_type": "execute_result"
    }
   ],
   "source": [
    "public interface IRMedia extends ISequence{\n",
    "    \n",
    "}"
   ]
  },
  {
   "cell_type": "code",
   "execution_count": 28,
   "metadata": {},
   "outputs": [
    {
     "data": {
      "text/plain": [
       "com.twosigma.beaker.javash.bkr7a76d143.Media"
      ]
     },
     "execution_count": 28,
     "metadata": {},
     "output_type": "execute_result"
    }
   ],
   "source": [
    "public class Media implements IRMedia {\n",
    "    \n",
    "    private int n = 5;\n",
    "    private ISequence sequence;\n",
    "    \n",
    "    public Media(){}\n",
    "    \n",
    "    public void connect(ISequence sequence){\n",
    "        this.sequence = sequence;\n",
    "    }\n",
    "    \n",
    "    public int first(){\n",
    "        int s = sequence.first();\n",
    "        for (int i=1; i < n; i++){\n",
    "            s+= sequence.next();\n",
    "        }\n",
    "        \n",
    "        return (s/n);\n",
    "    }\n",
    "    \n",
    "   public int next(){\n",
    "        int s = sequence.next();\n",
    "        for (int i=1; i < n; i++){\n",
    "            s+= sequence.next();\n",
    "        }\n",
    "        return (s/n);\n",
    "   }\n",
    "}"
   ]
  },
  {
   "cell_type": "markdown",
   "metadata": {},
   "source": [
    "## Tarefa 2\n",
    "\n",
    "Escreva um programa em Java que conecte um componente `GeometricProgression` a um `Media` que por sua vez é conectado a um componente `BarChart`. O componente `Media` deve calcular as médias de 4 lotes de 3 números da progressão geométrica. Essas médias serão apresentadas no `BarChart`."
   ]
  },
  {
   "cell_type": "code",
   "execution_count": null,
   "metadata": {},
   "outputs": [
    {
     "name": "stdout",
     "output_type": "stream",
     "text": [
      "******\n",
      "******************************************************************************************************************************************************************************************************\n",
      "**********************************************************************************************************************************************************************************************************************************************************************************************************************************************************************************************************************************************************************************************************************************************************************************************************************************************************************************************************************************************************************************************************************************************************************************************************************************************************************************************************************************************************************************************************************************************************************************************************************************************************************************************************************************************************************************************************************************************************************************************************************************************************************************************************************************************************************************************************************************************************************************************************************************************************************************************************************************************************************************************************************************************************************************************************\n"
     ]
    },
    {
     "data": {
      "text/plain": [
       "null"
      ]
     },
     "execution_count": 32,
     "metadata": {},
     "output_type": "execute_result"
    }
   ],
   "source": [
    "GeometricProgression gp = new GeometricProgression();\n",
    "Media media = new Media();\n",
    "BarChart barChart = new BarChart();\n",
    "\n",
    "media.connect(gp);\n",
    "barChart.connect(media);\n",
    "\n",
    "barChart.plot();"
   ]
  }
 ],
 "metadata": {
  "kernelspec": {
   "display_name": "Java",
   "language": "java",
   "name": "java"
  },
  "language_info": {
   "codemirror_mode": "text/x-java",
   "file_extension": ".java",
   "mimetype": "",
   "name": "Java",
   "nbconverter_exporter": "",
   "version": "1.8.0_121"
  },
  "toc": {
   "base_numbering": 1,
   "nav_menu": {},
   "number_sections": false,
   "sideBar": false,
   "skip_h1_title": false,
   "title_cell": "Table of Contents",
   "title_sidebar": "Contents",
   "toc_cell": false,
   "toc_position": {},
   "toc_section_display": false,
   "toc_window_display": false
  }
 },
 "nbformat": 4,
 "nbformat_minor": 4
}