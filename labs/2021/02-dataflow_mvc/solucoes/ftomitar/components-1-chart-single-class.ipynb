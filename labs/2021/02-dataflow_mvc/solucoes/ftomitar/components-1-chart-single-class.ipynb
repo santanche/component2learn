{
 "cells": [
  {
   "cell_type": "markdown",
   "source": [
    "# Componentes em Java"
   ],
   "metadata": {}
  },
  {
   "cell_type": "markdown",
   "source": [
    "# Componente `GeometricProgression`\n",
    "\n",
    "Gera uma progressão geométrica a partir de um valor `inicial` e de uma `razão`."
   ],
   "metadata": {}
  },
  {
   "cell_type": "markdown",
   "source": [
    "## Interface `ISequence`\n",
    "\n",
    "Percorre os elementos da razão em sequência. Métodos:\n",
    "* `first` - se desloca para (ou calcula) o primeiro elemento da sequência e o retorna\n",
    "* `next` - se desloca para (ou calcula) o pŕoximo elemento da sequência e o retorna"
   ],
   "metadata": {}
  },
  {
   "cell_type": "code",
   "execution_count": null,
   "source": [
    "public interface ISequence {\n",
    "   public int first();\n",
    "   public int next();\n",
    "}"
   ],
   "outputs": [],
   "metadata": {}
  },
  {
   "cell_type": "markdown",
   "source": [
    "## Interface `IGeometricProgressionProperties`\n",
    "\n",
    "Propriedades de uma progressão geométrica.\n",
    "\n",
    "Métodos `get` e `set` para as propriedades:\n",
    "* `initial` - valor inicial da progressão\n",
    "* `ratio` - razão da progressão"
   ],
   "metadata": {}
  },
  {
   "cell_type": "code",
   "execution_count": null,
   "source": [
    "public interface IGeometricProgressionProperties {\n",
    "   public int getInitial();\n",
    "   public void setInitial(int initial);\n",
    "   \n",
    "   public int getRatio();\n",
    "   public void setRatio(int ratio);\n",
    "}"
   ],
   "outputs": [],
   "metadata": {}
  },
  {
   "cell_type": "markdown",
   "source": [
    "## Interface `IGeometricProgression`\n",
    "\n",
    "Unifica as duas interfaces anteriores."
   ],
   "metadata": {}
  },
  {
   "cell_type": "code",
   "execution_count": null,
   "source": [
    "public interface IGeometricProgression\n",
    "         extends ISequence, IGeometricProgressionProperties {\n",
    "}"
   ],
   "outputs": [],
   "metadata": {}
  },
  {
   "cell_type": "markdown",
   "source": [
    "## Classe `GeometricProgression`\n",
    "\n",
    "Gera uma **Progressão Geométrica** a partir de um valor inicial (`initial`) e de uma razão (`ratio`)."
   ],
   "metadata": {}
  },
  {
   "cell_type": "code",
   "execution_count": null,
   "source": [
    "public class GeometricProgression implements IGeometricProgression {\n",
    "   private int initial,\n",
    "               ratio;\n",
    "   private int current;\n",
    "   \n",
    "   public GeometricProgression() {\n",
    "      initial = 1;\n",
    "      ratio = 2;\n",
    "      current = initial;\n",
    "   }\n",
    "   \n",
    "   public int getInitial() {\n",
    "      return initial;\n",
    "   }\n",
    "   \n",
    "   public void setInitial(int initial) {\n",
    "      this.initial = initial;\n",
    "   }\n",
    "   \n",
    "   public int getRatio() {\n",
    "      return ratio;\n",
    "   }\n",
    "   \n",
    "   public void setRatio(int ratio) {\n",
    "      this.ratio = ratio;\n",
    "   }\n",
    "   \n",
    "   public int first() {\n",
    "      current = initial;\n",
    "      return current;\n",
    "   }\n",
    "   \n",
    "   public int next() {\n",
    "      current *= ratio;\n",
    "      return current;\n",
    "   }\n",
    "}"
   ],
   "outputs": [],
   "metadata": {}
  },
  {
   "cell_type": "markdown",
   "source": [
    "## Exemplo de uso do Componente"
   ],
   "metadata": {}
  },
  {
   "cell_type": "code",
   "execution_count": null,
   "source": [
    "IGeometricProgression gp = new GeometricProgression();\n",
    "gp.setInitial(1);\n",
    "gp.setRatio(2);\n",
    "System.out.print(\"Progressão Geométrica: \");\n",
    "int value = gp.first();\n",
    "for (int g = 1; g <= 5; g++) {\n",
    "    System.out.print(value + \", \");\n",
    "    value = gp.next();\n",
    "}"
   ],
   "outputs": [],
   "metadata": {}
  },
  {
   "cell_type": "markdown",
   "source": [
    "# Componente `BarChart`\n",
    "\n",
    "Apresenta um diagrama de barras no console a partir de uma sequência de números. A sequência é produzida por um componente a ele conectado."
   ],
   "metadata": {}
  },
  {
   "cell_type": "markdown",
   "source": [
    "## Interface `IChart`\n",
    "\n",
    "Dispara a apresentação do diagrama a partir do método `plot()`."
   ],
   "metadata": {}
  },
  {
   "cell_type": "code",
   "execution_count": null,
   "source": [
    "public interface IChart {\n",
    "   public void plot();\n",
    "}"
   ],
   "outputs": [],
   "metadata": {}
  },
  {
   "cell_type": "markdown",
   "source": [
    "## Interface `IBarChartProperties`\n",
    "\n",
    "Propriedades para configurar um gráfico de barras.\n",
    "\n",
    "Métodos `get` e `set` para as propriedades:\n",
    "* `filled` - define se o gráfico será preenchido\n",
    "* `character` - caractere que será usado para plotar o gráfico\n",
    "* `n` - número de barras que serão apresentadas"
   ],
   "metadata": {}
  },
  {
   "cell_type": "code",
   "execution_count": null,
   "source": [
    "public interface IBarChartProperties {\n",
    "   public boolean isFilled();\n",
    "   public void setFilled(boolean filled);\n",
    "\n",
    "   public char getCharacter();\n",
    "   public void setCharacter(char character);\n",
    "\n",
    "   public int getN();\n",
    "   public void setN(int n);\n",
    "}"
   ],
   "outputs": [],
   "metadata": {}
  },
  {
   "cell_type": "markdown",
   "source": [
    "## Interface Requerida `IRSequence`\n",
    "\n",
    "Interface que requer outra interface `ISequence`. Método:\n",
    "* `connect` - realiza a conexão com um componente que tem a interface ISequence"
   ],
   "metadata": {}
  },
  {
   "cell_type": "code",
   "execution_count": null,
   "source": [
    "public interface IRSequence {\n",
    "   public void connect(ISequence sequence);\n",
    "}"
   ],
   "outputs": [],
   "metadata": {}
  },
  {
   "cell_type": "markdown",
   "source": [
    "## Interface `IBarChart`\n",
    "\n",
    "Unifica as três interfaces anteriores."
   ],
   "metadata": {}
  },
  {
   "cell_type": "code",
   "execution_count": null,
   "source": [
    "public interface IBarChart\n",
    "         extends IChart, IBarChartProperties, IRSequence {\n",
    "}"
   ],
   "outputs": [],
   "metadata": {}
  },
  {
   "cell_type": "markdown",
   "source": [
    "## Classe `BarChart`\n",
    "\n",
    "Implementa a apresentação de um gráfico de barras."
   ],
   "metadata": {}
  },
  {
   "cell_type": "code",
   "execution_count": null,
   "source": [
    "public class BarChart implements IBarChart {\n",
    "   private boolean filled;\n",
    "   private char character;\n",
    "   private int n;\n",
    "   \n",
    "   private ISequence sequence;\n",
    "   \n",
    "   public BarChart() {\n",
    "      filled = true;\n",
    "      character = '*';\n",
    "      n = 3;\n",
    "   }\n",
    "\n",
    "   public boolean isFilled() {\n",
    "      return filled;\n",
    "   }\n",
    "\n",
    "   public void setFilled(boolean filled) {\n",
    "      this.filled = filled;\n",
    "   }\n",
    "\n",
    "   public char getCharacter() {\n",
    "      return character;\n",
    "   }\n",
    "\n",
    "   public void setCharacter(char character) {\n",
    "      this.character = character;\n",
    "   }\n",
    "\n",
    "   public int getN() {\n",
    "      return n;\n",
    "   }\n",
    "\n",
    "   public void setN(int n) {\n",
    "      this.n = n;\n",
    "   }\n",
    "\n",
    "   public void connect(ISequence sequence) {\n",
    "      this.sequence = sequence;\n",
    "   }\n",
    "   \n",
    "   public void plot() {\n",
    "      if (sequence != null) {\n",
    "         int value = sequence.first();\n",
    "         for (int s = 1; s <= n; s++) {\n",
    "            for (int v = 1; v < value; v++)\n",
    "               System.out.print((filled) ? character : ' ');\n",
    "            System.out.println(character);\n",
    "            value = sequence.next();\n",
    "         }\n",
    "      }\n",
    "   }\n",
    "}"
   ],
   "outputs": [],
   "metadata": {}
  },
  {
   "cell_type": "markdown",
   "source": [
    "# Aplicação Exemplo\n",
    "Instancia os dois componentes (progressão geométrica e gráfico de barras), os conecta e dispara o processo de plotagem no componente do gráfico de barras."
   ],
   "metadata": {}
  },
  {
   "cell_type": "code",
   "execution_count": null,
   "source": [
    "IGeometricProgression gp = new GeometricProgression();\n",
    "gp.setInitial(1);\n",
    "gp.setRatio(2);\n",
    "\n",
    "IBarChart bc = new BarChart();\n",
    "bc.setFilled(true);\n",
    "bc.setCharacter('#');\n",
    "bc.setN(5);\n",
    "\n",
    "bc.connect(gp);\n",
    "bc.plot();"
   ],
   "outputs": [],
   "metadata": {}
  },
  {
   "cell_type": "markdown",
   "source": [
    "# Laboratório 2a"
   ],
   "metadata": {}
  },
  {
   "cell_type": "markdown",
   "source": [
    "## Tarefa 1\n",
    "\n",
    "Escreva um componente em Java chamado `Media` que receba um lote contendo uma sequência de `n` números e gere a média desses números. O componente deve seguir o estilo arquitetural Data Flow, respeitando a interface pivô `ISequence`, tanto para receber o lote de números, quanto para gerar média. O componente é customizado pelos seguintes parâmetros:\n",
    "\n",
    "* `n` - indica quantos números ele considerará para cada lote de cálculo de média; por exemplo, se o `n` for `5`, o componente solicita 5 números, calcula a média e passa adiante, depois solicita mais 5, calcula a média e passa adiante;\n",
    "* `lotes` - número de lotes para cálculo de média, por exemplo, se a propriedade `lotes` for `3` e a propriedade `n` for `5`, ele calcula a média de 3 lotes de 5 números cada."
   ],
   "metadata": {}
  },
  {
   "cell_type": "code",
   "execution_count": null,
   "source": [
    "public interface IMediaProperties{\n",
    "    public void setN(int n);\n",
    "    public int getN();\n",
    "    \n",
    "    public void setLotes(int lotes);\n",
    "    public int getLotes();\n",
    "}"
   ],
   "outputs": [],
   "metadata": {}
  },
  {
   "cell_type": "code",
   "execution_count": null,
   "source": [
    "public interface IMedia extends IMediaProperties, IRSequence, ISequence { }"
   ],
   "outputs": [],
   "metadata": {}
  },
  {
   "cell_type": "code",
   "execution_count": null,
   "source": [
    "public class Media implements IMedia{\n",
    "    private int n;\n",
    "    private int lotes;\n",
    "    private ISequence sequence;\n",
    " \n",
    "    public Media() {\n",
    "        this.n = 1;\n",
    "        this.lotes = 1;\n",
    "    }\n",
    "    \n",
    "    public int getN() {\n",
    "       return this.n;\n",
    "    }\n",
    "     \n",
    "    public void setN(int n) {\n",
    "       this.n = n;\n",
    "    }\n",
    "     \n",
    "    public int getLotes() {\n",
    "       return this.lotes;\n",
    "    }\n",
    "     \n",
    "    public void setLotes(int lotes) {\n",
    "       this.lotes = lotes;\n",
    "    }\n",
    " \n",
    "    public void connect(ISequence sequence) {\n",
    "       this.sequence = sequence;\n",
    "    }\n",
    "    \n",
    "    public int first() {\n",
    "       if(n <= 0){\n",
    "           throw new RuntimeException(this.getClass().getName() + \": Método first não pode usar o atributo N. N <= 0\");\n",
    "       }\n",
    "       if(lotes <= 0){\n",
    "           throw new RuntimeException(this.getClass().getName() + \": Método first não pode usar o atributo N. N <= 0\");\n",
    "       }\n",
    "        \n",
    "       if(n == 1 && lotes == 1){\n",
    "           return sequence.first();\n",
    "       }\n",
    " \n",
    "       int total = sequence.first();\n",
    "       int totalLotes = 0;\n",
    " \n",
    "       for(int i = 1; i < this.n * this.lotes; i++){\n",
    "           total += sequence.next();\n",
    "           if(i % this.lotes == 0){\n",
    "               totalLotes += total/this.n;\n",
    "               total = 0;              \n",
    "           }\n",
    "       }\n",
    "       return totalLotes/this.lotes;\n",
    "    }\n",
    "    \n",
    "    public int next() {\n",
    "       if(n <= 0){\n",
    "           throw new RuntimeException(this.getClass().getName() + \": Método next não pode usar o atributo N. N <= 0\");\n",
    "       }\n",
    "       if(lotes <= 0){\n",
    "           throw new RuntimeException(this.getClass().getName() + \": Método next não pode usar o atributo N. N <= 0\"); \n",
    "       }\n",
    "        \n",
    "       if(n == 1 && lotes == 1){\n",
    "           return sequence.next();\n",
    "       }\n",
    " \n",
    "       int total      = 0;\n",
    "       int totalLotes = 0;\n",
    " \n",
    "       for(int i = 0; i < this.n * this.lotes; i++){\n",
    "           total += sequence.next();\n",
    "           if(i % this.lotes == 0){\n",
    "               totalLotes += total/this.n;\n",
    "               total = 0;              \n",
    "           }\n",
    "       }\n",
    "       return totalLotes/this.lotes;\n",
    "    }\n",
    " }"
   ],
   "outputs": [],
   "metadata": {}
  },
  {
   "cell_type": "markdown",
   "source": [
    "## Tarefa 2\n",
    "\n",
    "Escreva um programa em Java que conecte um componente `GeometricProgression` a um `Media` que por sua vez é conectado a um componente `BarChart`. O componente `Media` deve calcular as médias de 4 lotes de 3 números da progressão geométrica. Essas médias serão apresentadas no `BarChart`."
   ],
   "metadata": {}
  },
  {
   "cell_type": "code",
   "execution_count": null,
   "source": [
    "IGeometricProgression gp = new GeometricProgression();\n",
    "gp.setInitial(1);\n",
    "gp.setRatio(2);\n",
    "\n",
    "IMedia media = new Media();\n",
    "media.setN(2);\n",
    "media.setLotes(1);\n",
    "\n",
    "IBarChart bc = new BarChart();\n",
    "bc.setFilled(true);\n",
    "bc.setCharacter('#');\n",
    "bc.setN(5);\n",
    "\n",
    "media.connect(gp);\n",
    "\n",
    "bc.connect(media);\n",
    "bc.plot();"
   ],
   "outputs": [],
   "metadata": {}
  }
 ],
 "metadata": {
  "kernelspec": {
   "display_name": "Java",
   "language": "java",
   "name": "java"
  },
  "language_info": {
   "codemirror_mode": "text/x-java",
   "file_extension": ".java",
   "mimetype": "",
   "name": "Java",
   "nbconverter_exporter": "",
   "version": "1.8.0_121"
  },
  "toc": {
   "base_numbering": 1,
   "nav_menu": {},
   "number_sections": false,
   "sideBar": false,
   "skip_h1_title": false,
   "title_cell": "Table of Contents",
   "title_sidebar": "Contents",
   "toc_cell": false,
   "toc_position": {},
   "toc_section_display": false,
   "toc_window_display": false
  }
 },
 "nbformat": 4,
 "nbformat_minor": 4
}
