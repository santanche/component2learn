{
 "cells": [
  {
   "cell_type": "markdown",
   "metadata": {},
   "source": [
    "# Acessando a DBPedia\n",
    "\n",
    "Considere a página na Wikipedia do livro [The Tin Drum](https://en.wikipedia.org/wiki/The_Tin_Drum).\n",
    "\n",
    "Há um nó equivalente na DBPedia em [The Tin Drum](http://dbpedia.org/page/The_Tin_Drum).\n",
    "\n",
    "## Carregando um nó da DBPedia\n",
    "\n",
    "A partir do que aprendemos na aula sobre APIs, é possível carregar o conteúdo em JSON desse nó da seguinte maneira:"
   ]
  },
  {
   "cell_type": "code",
   "execution_count": 1,
   "metadata": {},
   "outputs": [],
   "source": [
    "import io\n",
    "import requests\n",
    "import json"
   ]
  },
  {
   "cell_type": "code",
   "execution_count": 2,
   "metadata": {},
   "outputs": [
    {
     "name": "stdout",
     "output_type": "stream",
     "text": [
      "{\n",
      "   \"d\": {\n",
      "      \"results\": [\n",
      "         {\n",
      "            \"__metadata\": {\n",
      "               \"uri\": \"http://dbpedia.org/resource/The_Tin_Drum\"\n",
      "            },\n",
      "            \"http://www.w3.org/2000/01/rdf-schema#label\": \"Blaszany b\\u0119benek\",\n",
      "            \"http://www.w3.org/2002/07/owl#sameAs\": {\n",
      "               \"__deferred\": {\n",
      "                  \"uri\": \"https://global.dbpedia.org/id/54HrW\"\n",
      "               }\n",
      "            },\n",
      "            \"http://dbpedia.org/ontology/wikiPageWikiLink\": {\n",
      "               \"__deferred\": {\n",
      "                  \"uri\": \"http://dbpedia.org/resource/Amanda_Palmer\"\n",
      "               }\n",
      "            },\n",
      "            \"http://www.w3.org/2000/01/rdf-schema#comment\": \"\\u300e\\u30d6\\u30ea\\u30ad\\u306e\\u592a\\u9f13\\u300f\\uff08\\u30d6\\u30ea\\u30ad\\u306e\\u305f\\u3044\\u3053\\u3001Die Blechtrommel\\uff09\\u306f\\u3001\\u30c9\\u30a4\\u30c4\\u306e\\u4f5c\\u5bb6\\u30ae\\u30e5\\u30f3\\u30bf\\u30fc\\u30fb\\u30b0\\u30e9\\u30b9\\u304c1959\\u5e74\\u306b\\u767a\\u8868\\u3057\\u305f\\u51e6\\u5973\\u4f5c\\u3067\\u3042\\u308a\\u9577\\u7bc7\\u5c0f\\u8aac\\u3067\\u3042\\u308b\\u3002\\u300e\\u732b\\u3068\\u9f20\\u300f\\uff081961\\u5e74\\uff09\\u3001\\u300e\\u72ac\\u306e\\u5e74\\u300f\\uff081963\\u5e74\\uff09\\u3068\\u7d9a\\u304f\\u3001\\u3044\\u308f\\u3086\\u308b\\u300c\\u30c0\\u30f3\\u30c4\\u30a3\\u30d2\\u4e09\\u90e8\\u4f5c\\u300d\\u306e\\u6700\\u521d\\u3092\\u98fe\\u308b\\u4f5c\\u54c1\\u3067\\u3042\\u308a\\u3001\\u7b2c\\u4e8c\\u6b21\\u4e16\\u754c\\u5927\\u6226\\u5f8c\\u306e\\u30c9\\u30a4\\u30c4\\u6587\\u5b66\\u306b\\u304a\\u3051\\u308b\\u6700\\u3082\\u91cd\\u8981\\u306a\\u4f5c\\u54c1\\u306e\\u4e00\\u3064\\u306b\\u6570\\u3048\\u3089\\u308c\\u308b\\u30021979\\u5e74\\u306b\\u30d5\\u30a9\\u30eb\\u30ab\\u30fc\\u30fb\\u30b7\\u30e5\\u30ec\\u30f3\\u30c9\\u30eb\\u30d5\\u306b\\u3088\\u3063\\u3066\\u6620\\u753b\\u5316\\u3055\\u308c\\u305f\\u3002\",\n",
      "            \"http://dbpedia.org/ontology/abstract\": \"Blecktrumman (originaltitel: Die Blechtrommel) \\u00e4r en roman fr\\u00e5n 1959 av G\\u00fcnter Grass. Denna artikel relaterad till sk\\u00f6nlitteratur av en tysk f\\u00f6rfattare saknar v\\u00e4sentlig information. Du kan hj\\u00e4lpa till genom att l\\u00e4gga till den.\",\n",
      "            \"http://www.w3.org/1999/02/22-rdf-syntax-ns#type\": {\n",
      "               \"__deferred\": {\n",
      "                  \"uri\": \"http://dbpedia.org/class/yago/Disagreement107180787\"\n",
      "               }\n",
      "            },\n",
      "            \"http://dbpedia.org/ontology/translator\": {\n",
      "               \"__deferred\": {\n",
      "                  \"uri\": \"http://dbpedia.org/resource/Breon_Mitchell\"\n",
      "               }\n",
      "            },\n",
      "            \"http://purl.org/dc/elements/1.1/publisher\": \"Hermann Luchterhand Verlag\",\n",
      "            \"http://dbpedia.org/ontology/numberOfPages\": \"576\",\n",
      "            \"http://dbpedia.org/ontology/oclc\": \"3618781\",\n",
      "            \"http://dbpedia.org/property/wikiPageUsesTemplate\": {\n",
      "               \"__deferred\": {\n",
      "                  \"uri\": \"http://dbpedia.org/resource/Template:Infobox_book\"\n",
      "               }\n",
      "            },\n",
      "            \"http://dbpedia.org/property/genre\": {\n",
      "               \"__deferred\": {\n",
      "                  \"uri\": \"http://dbpedia.org/resource/Magic_realism\"\n",
      "               }\n",
      "            },\n",
      "            \"http://dbpedia.org/ontology/wikiPageExternalLink\": {\n",
      "               \"__deferred\": {\n",
      "                  \"uri\": \"http://www.dieterwunderlich.de/Grass_blechtrommel.htm\"\n",
      "               }\n",
      "            },\n",
      "            \"http://dbpedia.org/property/releaseDate\": \"1959\",\n",
      "            \"http://dbpedia.org/ontology/wikiPageID\": \"642383\",\n",
      "            \"http://dbpedia.org/property/dewey\": \"833.914\",\n",
      "            \"http://dbpedia.org/property/country\": {\n",
      "               \"__deferred\": {\n",
      "                  \"uri\": \"http://dbpedia.org/resource/West_Germany\"\n",
      "               }\n",
      "            },\n",
      "            \"http://dbpedia.org/ontology/subsequentWork\": {\n",
      "               \"__deferred\": {\n",
      "                  \"uri\": \"http://dbpedia.org/resource/Cat_and_Mouse_(novella)\"\n",
      "               }\n",
      "            },\n",
      "            \"http://dbpedia.org/property/series\": {\n",
      "               \"__deferred\": {\n",
      "                  \"uri\": \"http://dbpedia.org/resource/Danzig_Trilogy\"\n",
      "               }\n",
      "            },\n",
      "            \"http://dbpedia.org/property/coverArtist\": \"G\\u00fcnter Grass\",\n",
      "            \"http://dbpedia.org/property/publisher\": \"Hermann Luchterhand Verlag\",\n",
      "            \"http://dbpedia.org/property/oclc\": \"3618781\",\n",
      "            \"http://xmlns.com/foaf/0.1/name\": \"Die Blechtrommel\",\n",
      "            \"http://xmlns.com/foaf/0.1/isPrimaryTopicOf\": {\n",
      "               \"__deferred\": {\n",
      "                  \"uri\": \"http://en.wikipedia.org/wiki/The_Tin_Drum\"\n",
      "               }\n",
      "            },\n",
      "            \"http://dbpedia.org/property/titleOrig\": \"Die Blechtrommel\",\n",
      "            \"http://dbpedia.org/property/caption\": \"Cover of the first German edition\",\n",
      "            \"http://purl.org/dc/terms/subject\": {\n",
      "               \"__deferred\": {\n",
      "                  \"uri\": \"http://dbpedia.org/resource/Category:Novels_about_Nazis\"\n",
      "               }\n",
      "            },\n",
      "            \"http://dbpedia.org/property/name\": \"The Tin Drum\",\n",
      "            \"http://purl.org/linguistics/gold/hypernym\": {\n",
      "               \"__deferred\": {\n",
      "                  \"uri\": \"http://dbpedia.org/resource/Novel\"\n",
      "               }\n",
      "            },\n",
      "            \"http://dbpedia.org/ontology/wikiPageLength\": \"15013\",\n",
      "            \"http://dbpedia.org/ontology/dcc\": \"833.914\",\n",
      "            \"http://www.w3.org/ns/prov#wasDerivedFrom\": {\n",
      "               \"__deferred\": {\n",
      "                  \"uri\": \"http://en.wikipedia.org/wiki/The_Tin_Drum?oldid=1012559301&ns=0\"\n",
      "               }\n",
      "            },\n",
      "            \"http://dbpedia.org/ontology/coverArtist\": {\n",
      "               \"__deferred\": {\n",
      "                  \"uri\": \"http://dbpedia.org/resource/G\\u00fcnter_Grass\"\n",
      "               }\n",
      "            },\n",
      "            \"http://dbpedia.org/property/language\": \"German\",\n",
      "            \"http://dbpedia.org/property/author\": {\n",
      "               \"__deferred\": {\n",
      "                  \"uri\": \"http://dbpedia.org/resource/G\\u00fcnter_Grass\"\n",
      "               }\n",
      "            },\n",
      "            \"http://dbpedia.org/property/translator\": \"Ralph Manheim, Breon Mitchell\",\n",
      "            \"http://dbpedia.org/ontology/wikiPageRevisionID\": \"1012559301\",\n",
      "            \"http://dbpedia.org/ontology/series\": {\n",
      "               \"__deferred\": {\n",
      "                  \"uri\": \"http://dbpedia.org/resource/Danzig_Trilogy\"\n",
      "               }\n",
      "            },\n",
      "            \"http://dbpedia.org/ontology/author\": {\n",
      "               \"__deferred\": {\n",
      "                  \"uri\": \"http://dbpedia.org/resource/G\\u00fcnter_Grass\"\n",
      "               }\n",
      "            },\n",
      "            \"http://dbpedia.org/property/followedBy\": {\n",
      "               \"__deferred\": {\n",
      "                  \"uri\": \"http://dbpedia.org/resource/Cat_and_Mouse_(novella)\"\n",
      "               }\n",
      "            },\n",
      "            \"http://dbpedia.org/property/pages\": \"576\",\n",
      "            \"http://dbpedia.org/ontology/country\": {\n",
      "               \"__deferred\": {\n",
      "                  \"uri\": \"http://dbpedia.org/resource/West_Germany\"\n",
      "               }\n",
      "            },\n",
      "            \"http://dbpedia.org/property/englishReleaseDate\": \"1961\",\n",
      "            \"http://dbpedia.org/ontology/literaryGenre\": {\n",
      "               \"__deferred\": {\n",
      "                  \"uri\": \"http://dbpedia.org/resource/Magic_realism\"\n",
      "               }\n",
      "            }\n",
      "         }\n",
      "      ],\n",
      "      \"__count\": \"1\"\n",
      "   }\n",
      "}\n"
     ]
    }
   ],
   "source": [
    "url_drum = \"http://dbpedia.org/data/The_Tin_Drum.jsod\"\n",
    "\n",
    "data_drum = requests.get(url_drum)\n",
    "json_drum = data_drum.json()\n",
    "\n",
    "print(json.dumps(json_drum, indent=3))"
   ]
  },
  {
   "cell_type": "markdown",
   "metadata": {},
   "source": [
    "# Acessando e navegando pelo Grafo\n",
    "### Quem é autor de The Tin Drum?"
   ]
  },
  {
   "cell_type": "code",
   "execution_count": 3,
   "metadata": {},
   "outputs": [
    {
     "name": "stdout",
     "output_type": "stream",
     "text": [
      "Autor de The Tin Drum: http://dbpedia.org/resource/Günter_Grass\n"
     ]
    }
   ],
   "source": [
    "grass = json_drum[\"d\"][\"results\"][0][\"http://dbpedia.org/ontology/author\"][\"__deferred\"][\"uri\"]\n",
    "print(\"Autor de The Tin Drum: \" + grass)"
   ]
  },
  {
   "cell_type": "code",
   "execution_count": 4,
   "metadata": {},
   "outputs": [
    {
     "name": "stdout",
     "output_type": "stream",
     "text": [
      "{\n",
      "   \"d\": {\n",
      "      \"results\": [\n",
      "         {\n",
      "            \"__metadata\": {\n",
      "               \"uri\": \"http://dbpedia.org/resource/The_Tin_Drum\"\n",
      "            },\n",
      "            \"http://www.w3.org/2000/01/rdf-schema#label\": \"Blaszany b\\u0119benek\",\n",
      "            \"http://www.w3.org/2002/07/owl#sameAs\": {\n",
      "               \"__deferred\": {\n",
      "                  \"uri\": \"https://global.dbpedia.org/id/54HrW\"\n",
      "               }\n",
      "            },\n",
      "            \"http://dbpedia.org/ontology/wikiPageWikiLink\": {\n",
      "               \"__deferred\": {\n",
      "                  \"uri\": \"http://dbpedia.org/resource/Amanda_Palmer\"\n",
      "               }\n",
      "            },\n",
      "            \"http://www.w3.org/2000/01/rdf-schema#comment\": \"\\u300e\\u30d6\\u30ea\\u30ad\\u306e\\u592a\\u9f13\\u300f\\uff08\\u30d6\\u30ea\\u30ad\\u306e\\u305f\\u3044\\u3053\\u3001Die Blechtrommel\\uff09\\u306f\\u3001\\u30c9\\u30a4\\u30c4\\u306e\\u4f5c\\u5bb6\\u30ae\\u30e5\\u30f3\\u30bf\\u30fc\\u30fb\\u30b0\\u30e9\\u30b9\\u304c1959\\u5e74\\u306b\\u767a\\u8868\\u3057\\u305f\\u51e6\\u5973\\u4f5c\\u3067\\u3042\\u308a\\u9577\\u7bc7\\u5c0f\\u8aac\\u3067\\u3042\\u308b\\u3002\\u300e\\u732b\\u3068\\u9f20\\u300f\\uff081961\\u5e74\\uff09\\u3001\\u300e\\u72ac\\u306e\\u5e74\\u300f\\uff081963\\u5e74\\uff09\\u3068\\u7d9a\\u304f\\u3001\\u3044\\u308f\\u3086\\u308b\\u300c\\u30c0\\u30f3\\u30c4\\u30a3\\u30d2\\u4e09\\u90e8\\u4f5c\\u300d\\u306e\\u6700\\u521d\\u3092\\u98fe\\u308b\\u4f5c\\u54c1\\u3067\\u3042\\u308a\\u3001\\u7b2c\\u4e8c\\u6b21\\u4e16\\u754c\\u5927\\u6226\\u5f8c\\u306e\\u30c9\\u30a4\\u30c4\\u6587\\u5b66\\u306b\\u304a\\u3051\\u308b\\u6700\\u3082\\u91cd\\u8981\\u306a\\u4f5c\\u54c1\\u306e\\u4e00\\u3064\\u306b\\u6570\\u3048\\u3089\\u308c\\u308b\\u30021979\\u5e74\\u306b\\u30d5\\u30a9\\u30eb\\u30ab\\u30fc\\u30fb\\u30b7\\u30e5\\u30ec\\u30f3\\u30c9\\u30eb\\u30d5\\u306b\\u3088\\u3063\\u3066\\u6620\\u753b\\u5316\\u3055\\u308c\\u305f\\u3002\",\n",
      "            \"http://dbpedia.org/ontology/abstract\": \"Blecktrumman (originaltitel: Die Blechtrommel) \\u00e4r en roman fr\\u00e5n 1959 av G\\u00fcnter Grass. Denna artikel relaterad till sk\\u00f6nlitteratur av en tysk f\\u00f6rfattare saknar v\\u00e4sentlig information. Du kan hj\\u00e4lpa till genom att l\\u00e4gga till den.\",\n",
      "            \"http://www.w3.org/1999/02/22-rdf-syntax-ns#type\": {\n",
      "               \"__deferred\": {\n",
      "                  \"uri\": \"http://dbpedia.org/class/yago/Disagreement107180787\"\n",
      "               }\n",
      "            },\n",
      "            \"http://dbpedia.org/ontology/translator\": {\n",
      "               \"__deferred\": {\n",
      "                  \"uri\": \"http://dbpedia.org/resource/Breon_Mitchell\"\n",
      "               }\n",
      "            },\n",
      "            \"http://purl.org/dc/elements/1.1/publisher\": \"Hermann Luchterhand Verlag\",\n",
      "            \"http://dbpedia.org/ontology/numberOfPages\": \"576\",\n",
      "            \"http://dbpedia.org/ontology/oclc\": \"3618781\",\n",
      "            \"http://dbpedia.org/property/wikiPageUsesTemplate\": {\n",
      "               \"__deferred\": {\n",
      "                  \"uri\": \"http://dbpedia.org/resource/Template:Infobox_book\"\n",
      "               }\n",
      "            },\n",
      "            \"http://dbpedia.org/property/genre\": {\n",
      "               \"__deferred\": {\n",
      "                  \"uri\": \"http://dbpedia.org/resource/Magic_realism\"\n",
      "               }\n",
      "            },\n",
      "            \"http://dbpedia.org/ontology/wikiPageExternalLink\": {\n",
      "               \"__deferred\": {\n",
      "                  \"uri\": \"http://www.dieterwunderlich.de/Grass_blechtrommel.htm\"\n",
      "               }\n",
      "            },\n",
      "            \"http://dbpedia.org/property/releaseDate\": \"1959\",\n",
      "            \"http://dbpedia.org/ontology/wikiPageID\": \"642383\",\n",
      "            \"http://dbpedia.org/property/dewey\": \"833.914\",\n",
      "            \"http://dbpedia.org/property/country\": {\n",
      "               \"__deferred\": {\n",
      "                  \"uri\": \"http://dbpedia.org/resource/West_Germany\"\n",
      "               }\n",
      "            },\n",
      "            \"http://dbpedia.org/ontology/subsequentWork\": {\n",
      "               \"__deferred\": {\n",
      "                  \"uri\": \"http://dbpedia.org/resource/Cat_and_Mouse_(novella)\"\n",
      "               }\n",
      "            },\n",
      "            \"http://dbpedia.org/property/series\": {\n",
      "               \"__deferred\": {\n",
      "                  \"uri\": \"http://dbpedia.org/resource/Danzig_Trilogy\"\n",
      "               }\n",
      "            },\n",
      "            \"http://dbpedia.org/property/coverArtist\": \"G\\u00fcnter Grass\",\n",
      "            \"http://dbpedia.org/property/publisher\": \"Hermann Luchterhand Verlag\",\n",
      "            \"http://dbpedia.org/property/oclc\": \"3618781\",\n",
      "            \"http://xmlns.com/foaf/0.1/name\": \"Die Blechtrommel\",\n",
      "            \"http://xmlns.com/foaf/0.1/isPrimaryTopicOf\": {\n",
      "               \"__deferred\": {\n",
      "                  \"uri\": \"http://en.wikipedia.org/wiki/The_Tin_Drum\"\n",
      "               }\n",
      "            },\n",
      "            \"http://dbpedia.org/property/titleOrig\": \"Die Blechtrommel\",\n",
      "            \"http://dbpedia.org/property/caption\": \"Cover of the first German edition\",\n",
      "            \"http://purl.org/dc/terms/subject\": {\n",
      "               \"__deferred\": {\n",
      "                  \"uri\": \"http://dbpedia.org/resource/Category:Novels_about_Nazis\"\n",
      "               }\n",
      "            },\n",
      "            \"http://dbpedia.org/property/name\": \"The Tin Drum\",\n",
      "            \"http://purl.org/linguistics/gold/hypernym\": {\n",
      "               \"__deferred\": {\n",
      "                  \"uri\": \"http://dbpedia.org/resource/Novel\"\n",
      "               }\n",
      "            },\n",
      "            \"http://dbpedia.org/ontology/wikiPageLength\": \"15013\",\n",
      "            \"http://dbpedia.org/ontology/dcc\": \"833.914\",\n",
      "            \"http://www.w3.org/ns/prov#wasDerivedFrom\": {\n",
      "               \"__deferred\": {\n",
      "                  \"uri\": \"http://en.wikipedia.org/wiki/The_Tin_Drum?oldid=1012559301&ns=0\"\n",
      "               }\n",
      "            },\n",
      "            \"http://dbpedia.org/ontology/coverArtist\": {\n",
      "               \"__deferred\": {\n",
      "                  \"uri\": \"http://dbpedia.org/resource/G\\u00fcnter_Grass\"\n",
      "               }\n",
      "            },\n",
      "            \"http://dbpedia.org/property/language\": \"German\",\n",
      "            \"http://dbpedia.org/property/author\": {\n",
      "               \"__deferred\": {\n",
      "                  \"uri\": \"http://dbpedia.org/resource/G\\u00fcnter_Grass\"\n",
      "               }\n",
      "            },\n",
      "            \"http://dbpedia.org/property/translator\": \"Ralph Manheim, Breon Mitchell\",\n",
      "            \"http://dbpedia.org/ontology/wikiPageRevisionID\": \"1012559301\",\n",
      "            \"http://dbpedia.org/ontology/series\": {\n",
      "               \"__deferred\": {\n",
      "                  \"uri\": \"http://dbpedia.org/resource/Danzig_Trilogy\"\n",
      "               }\n",
      "            },\n",
      "            \"http://dbpedia.org/ontology/author\": {\n",
      "               \"__deferred\": {\n",
      "                  \"uri\": \"http://dbpedia.org/resource/G\\u00fcnter_Grass\"\n",
      "               }\n",
      "            },\n",
      "            \"http://dbpedia.org/property/followedBy\": {\n",
      "               \"__deferred\": {\n",
      "                  \"uri\": \"http://dbpedia.org/resource/Cat_and_Mouse_(novella)\"\n",
      "               }\n",
      "            },\n",
      "            \"http://dbpedia.org/property/pages\": \"576\",\n",
      "            \"http://dbpedia.org/ontology/country\": {\n",
      "               \"__deferred\": {\n",
      "                  \"uri\": \"http://dbpedia.org/resource/West_Germany\"\n",
      "               }\n",
      "            },\n",
      "            \"http://dbpedia.org/property/englishReleaseDate\": \"1961\",\n",
      "            \"http://dbpedia.org/ontology/literaryGenre\": {\n",
      "               \"__deferred\": {\n",
      "                  \"uri\": \"http://dbpedia.org/resource/Magic_realism\"\n",
      "               }\n",
      "            }\n",
      "         }\n",
      "      ],\n",
      "      \"__count\": \"1\"\n",
      "   }\n",
      "}\n"
     ]
    }
   ],
   "source": [
    "url_template = \"http://dbpedia.org/data/{concept}.{format}\"\n",
    "\n",
    "concept = \"The Tin Drum\"\n",
    "format = \"jsod\"\n",
    "\n",
    "concept = concept.replace(\" \", \"_\")\n",
    "\n",
    "url = url_template.replace(\"{concept}\", concept)\\\n",
    "                  .replace(\"{format}\", format)\n",
    "\n",
    "data = requests.get(url)\n",
    "js = data.json()\n",
    "print(json.dumps(js, indent=3))"
   ]
  },
  {
   "cell_type": "markdown",
   "metadata": {},
   "source": [
    "## Tarefas 1 e 2\n",
    "\n",
    "As tarefas 1 e 2 descritas no outro notebook devem se basear nos exemplos da DBPedia apresentados acima."
   ]
  },
  {
   "cell_type": "markdown",
   "metadata": {},
   "source": [
    "# MeSH - Medical Subject Headings\n",
    "\n",
    "## Pesquisa para humanos\n",
    "\n",
    "Através do endereço [MeSH Search](https://meshb.nlm.nih.gov/search).\n",
    "\n",
    "Procure o termo: Myocardial Infarction.\n",
    "\n",
    "## Serviços para Máquinas\n",
    "\n",
    "É possível acessar os mesmos dados pela [API JSON](https://id.nlm.nih.gov/mesh/swagger/ui).\n",
    "\n",
    "Buscando o código de Myocardial Infarction:"
   ]
  },
  {
   "cell_type": "code",
   "execution_count": 5,
   "metadata": {},
   "outputs": [
    {
     "name": "stdout",
     "output_type": "stream",
     "text": [
      "[]\n"
     ]
    }
   ],
   "source": [
    "url_template = \"https://id.nlm.nih.gov/mesh/lookup/descriptor?label={concept}&match={match}&limit={limit}\"\n",
    "\n",
    "concept = \"Arterial Hypertension\"\n",
    "match = \"exact\"\n",
    "limit = \"10\"\n",
    "\n",
    "concept = concept.replace(\" \", \"%20\")\n",
    "\n",
    "url = url_template.replace(\"{concept}\", concept)\\\n",
    "                  .replace(\"{match}\", match)\\\n",
    "                  .replace(\"{limit}\", limit)\n",
    "\n",
    "data = requests.get(url)\n",
    "json_mi = data.json()\n",
    "print(json.dumps(json_mi, indent=3))"
   ]
  },
  {
   "cell_type": "markdown",
   "metadata": {},
   "source": [
    "Acessando o código do recurso:"
   ]
  },
  {
   "cell_type": "code",
   "execution_count": 6,
   "metadata": {},
   "outputs": [
    {
     "ename": "IndexError",
     "evalue": "list index out of range",
     "output_type": "error",
     "traceback": [
      "\u001b[0;31m---------------------------------------------------------------------------\u001b[0m",
      "\u001b[0;31mIndexError\u001b[0m                                Traceback (most recent call last)",
      "\u001b[0;32m<ipython-input-6-10240c76a733>\u001b[0m in \u001b[0;36m<module>\u001b[0;34m\u001b[0m\n\u001b[0;32m----> 1\u001b[0;31m \u001b[0muri_mesh\u001b[0m \u001b[0;34m=\u001b[0m \u001b[0mjson_mi\u001b[0m\u001b[0;34m[\u001b[0m\u001b[0;36m0\u001b[0m\u001b[0;34m]\u001b[0m\u001b[0;34m[\u001b[0m\u001b[0;34m\"resource\"\u001b[0m\u001b[0;34m]\u001b[0m\u001b[0;34m\u001b[0m\u001b[0;34m\u001b[0m\u001b[0m\n\u001b[0m\u001b[1;32m      2\u001b[0m \u001b[0mprint\u001b[0m\u001b[0;34m(\u001b[0m\u001b[0;34m\"uri do recurso: \"\u001b[0m \u001b[0;34m+\u001b[0m \u001b[0muri_mesh\u001b[0m\u001b[0;34m)\u001b[0m\u001b[0;34m\u001b[0m\u001b[0;34m\u001b[0m\u001b[0m\n\u001b[1;32m      3\u001b[0m \u001b[0mbar\u001b[0m \u001b[0;34m=\u001b[0m \u001b[0mstr\u001b[0m\u001b[0;34m.\u001b[0m\u001b[0mrindex\u001b[0m\u001b[0;34m(\u001b[0m\u001b[0muri_mesh\u001b[0m\u001b[0;34m,\u001b[0m \u001b[0;34m\"/\"\u001b[0m\u001b[0;34m)\u001b[0m\u001b[0;34m\u001b[0m\u001b[0;34m\u001b[0m\u001b[0m\n\u001b[1;32m      4\u001b[0m \u001b[0mprint\u001b[0m\u001b[0;34m(\u001b[0m\u001b[0;34m\"código do recurso: \"\u001b[0m \u001b[0;34m+\u001b[0m \u001b[0muri_mesh\u001b[0m\u001b[0;34m[\u001b[0m\u001b[0mbar\u001b[0m\u001b[0;34m+\u001b[0m\u001b[0;36m1\u001b[0m\u001b[0;34m:\u001b[0m\u001b[0;34m]\u001b[0m\u001b[0;34m)\u001b[0m\u001b[0;34m\u001b[0m\u001b[0;34m\u001b[0m\u001b[0m\n",
      "\u001b[0;31mIndexError\u001b[0m: list index out of range"
     ]
    }
   ],
   "source": [
    "uri_mesh = json_mi[0][\"resource\"]\n",
    "print(\"uri do recurso: \" + uri_mesh)\n",
    "bar = str.rindex(uri_mesh, \"/\")\n",
    "print(\"código do recurso: \" + uri_mesh[bar+1:])"
   ]
  },
  {
   "cell_type": "markdown",
   "metadata": {},
   "source": [
    "Acessando detalhes a partir do código:"
   ]
  },
  {
   "cell_type": "code",
   "execution_count": null,
   "metadata": {},
   "outputs": [],
   "source": [
    "url_template = \"https://id.nlm.nih.gov/mesh/lookup/details?descriptor={code}\"\n",
    "\n",
    "code = uri_mesh[bar+1:]\n",
    "\n",
    "url = url_template.replace(\"{code}\", code)\n",
    "\n",
    "data = requests.get(url)\n",
    "json_mid = data.json()\n",
    "print(json.dumps(json_mid, indent=3))"
   ]
  },
  {
   "cell_type": "markdown",
   "metadata": {},
   "source": [
    "## Tarefa 3\n",
    "\n",
    "A tarefas 3 descrita no outro notebook deve se basear nos exemplos do MeSH apresentados acima."
   ]
  },
  {
   "cell_type": "markdown",
   "metadata": {},
   "source": [
    "# Sequência OpenStreeMap e DBPedia\n",
    "\n",
    "## REST API do OpenStreetMap para Query"
   ]
  },
  {
   "cell_type": "code",
   "execution_count": null,
   "metadata": {},
   "outputs": [],
   "source": [
    "url_template = \"http://nominatim.openstreetmap.org/search?format={format}&q={query}\"\n",
    "format = \"json\"\n",
    "query = \"Royal Tyrrell Museum\"\n",
    "\n",
    "url = url_template.replace(\"{format}\", format)\\\n",
    "                  .replace(\"{query}\", query)\n",
    "\n",
    "data = requests.get(url)\n",
    "museum_ref = data.json()\n",
    "print(json.dumps(museum_ref, indent=3))"
   ]
  },
  {
   "cell_type": "markdown",
   "metadata": {},
   "source": [
    "## Extraindo o Identificador OSM"
   ]
  },
  {
   "cell_type": "code",
   "execution_count": null,
   "metadata": {},
   "outputs": [],
   "source": [
    "print(museum_ref[0][\"osm_id\"])"
   ]
  },
  {
   "cell_type": "markdown",
   "metadata": {},
   "source": [
    "## REST API do OpenStreetMap para Elementos (Node, Way e Relation)"
   ]
  },
  {
   "cell_type": "code",
   "execution_count": null,
   "metadata": {},
   "outputs": [],
   "source": [
    "url_template = \"https://api.openstreetmap.org/api/0.6/{element_type}/{id}.{format}\"\n",
    "\n",
    "element_type = \"way\" # types: node, way, or relation\n",
    "id = str(museum_ref[0][\"osm_id\"])\n",
    "format = \"json\"\n",
    "\n",
    "url = url_template.replace(\"{element_type}\", element_type)\\\n",
    "                  .replace(\"{id}\", id)\\\n",
    "                  .replace(\"{format}\", format)\n",
    "\n",
    "data = requests.get(url)\n",
    "museum_way = data.json()\n",
    "print(json.dumps(museum_way, indent=3))"
   ]
  },
  {
   "cell_type": "markdown",
   "metadata": {},
   "source": [
    "## Extraindo o Identificador DBPedia"
   ]
  },
  {
   "cell_type": "code",
   "execution_count": null,
   "metadata": {},
   "outputs": [],
   "source": [
    "print(museum_way[\"elements\"][0][\"tags\"][\"wikipedia\"])"
   ]
  },
  {
   "cell_type": "markdown",
   "metadata": {},
   "source": [
    "## REST API do DBPedia"
   ]
  },
  {
   "cell_type": "code",
   "execution_count": null,
   "metadata": {},
   "outputs": [],
   "source": [
    "url_template = \"http://dbpedia.org/data/{concept}.{format}\"\n",
    "concept = museum_way[\"elements\"][0][\"tags\"][\"wikipedia\"].replace(\" \", \"_\")\\\n",
    "                                                        .replace(\"en:\", \"\")\n",
    "format = \"jsod\"\n",
    "\n",
    "url = url_template.replace(\"{concept}\", concept)\\\n",
    "                  .replace(\"{format}\", format)\n",
    "\n",
    "data = requests.get(url)\n",
    "museum_dbpedia = data.json()\n",
    "print(json.dumps(museum_dbpedia, indent=3))"
   ]
  },
  {
   "cell_type": "markdown",
   "metadata": {},
   "source": [
    "## Tarefa 4\n",
    "\n",
    "A tarefa 4 descrita no outro notebook deve se basear nos exemplo de sequência OpenStreeMap/DBPedia apresentado acima."
   ]
  }
 ],
 "metadata": {
  "kernelspec": {
   "display_name": "Python 3 (ipykernel)",
   "language": "python",
   "name": "python3"
  },
  "language_info": {
   "codemirror_mode": {
    "name": "ipython",
    "version": 3
   },
   "file_extension": ".py",
   "mimetype": "text/x-python",
   "name": "python",
   "nbconvert_exporter": "python",
   "pygments_lexer": "ipython3",
   "version": "3.9.7"
  }
 },
 "nbformat": 4,
 "nbformat_minor": 4
}
