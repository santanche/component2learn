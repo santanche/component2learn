{
 "cells": [
  {
   "cell_type": "markdown",
   "metadata": {},
   "source": [
    "# Visão Interna dos Componentes (WhiteBox)\n",
    "\n",
    "A seguir é apresentada a implementação de cada um dos componentes do notebook anterior."
   ]
  },
  {
   "cell_type": "markdown",
   "metadata": {},
   "source": [
    "## DataSet"
   ]
  },
  {
   "cell_type": "code",
   "execution_count": 1,
   "metadata": {},
   "outputs": [
    {
     "data": {
      "text/plain": [
       "com.twosigma.beaker.javash.bkre3c6118d.ITableProducer"
      ]
     },
     "execution_count": 1,
     "metadata": {},
     "output_type": "execute_result"
    }
   ],
   "source": [
    "public interface ITableProducer {\n",
    "  String[] requestAttributes();\n",
    "  String[][] requestInstances();\n",
    "}"
   ]
  },
  {
   "cell_type": "code",
   "execution_count": 2,
   "metadata": {},
   "outputs": [
    {
     "data": {
      "text/plain": [
       "com.twosigma.beaker.javash.bkre3c6118d.IDataSetProperties"
      ]
     },
     "execution_count": 2,
     "metadata": {},
     "output_type": "execute_result"
    }
   ],
   "source": [
    "public interface IDataSetProperties {\n",
    "  public String getDataSource();\n",
    "  public void setDataSource(String dataSource);\n",
    "}"
   ]
  },
  {
   "cell_type": "code",
   "execution_count": 3,
   "metadata": {},
   "outputs": [
    {
     "data": {
      "text/plain": [
       "com.twosigma.beaker.javash.bkre3c6118d.IDataSet"
      ]
     },
     "execution_count": 3,
     "metadata": {},
     "output_type": "execute_result"
    }
   ],
   "source": [
    "public interface IDataSet extends IDataSetProperties, ITableProducer {\n",
    "}"
   ]
  },
  {
   "cell_type": "code",
   "execution_count": 4,
   "metadata": {},
   "outputs": [
    {
     "data": {
      "text/plain": [
       "com.twosigma.beaker.javash.bkre3c6118d.DataSetComponent"
      ]
     },
     "execution_count": 4,
     "metadata": {},
     "output_type": "execute_result"
    }
   ],
   "source": [
    "import java.io.BufferedReader;\n",
    "import java.io.FileReader;\n",
    "import java.io.IOException;\n",
    "import java.util.ArrayList;\n",
    "\n",
    "public class DataSetComponent implements IDataSet {\n",
    "  private String dataSource = null;\n",
    "  private String[] attributes = null;\n",
    "  private String[][] instances = null;\n",
    "  \n",
    "  public DataSetComponent() {\n",
    "    /* nothing */\n",
    "  }\n",
    "\n",
    "  public String getDataSource() {\n",
    "    return dataSource;\n",
    "  }\n",
    "\n",
    "  public void setDataSource(String dataSource) {\n",
    "    this.dataSource = dataSource;\n",
    "    if (dataSource == null) {\n",
    "      attributes = null;\n",
    "      instances = null;\n",
    "    } else\n",
    "      readDS();\n",
    "  }\n",
    "  \n",
    "  public String[] requestAttributes() {\n",
    "    return attributes;\n",
    "  }\n",
    "  \n",
    "  public String[][] requestInstances() {\n",
    "    return instances;\n",
    "  }\n",
    "  \n",
    "  private void readDS() {\n",
    "    ArrayList<String[]> instArray = new ArrayList<String[]>();\n",
    "    try {\n",
    "      BufferedReader file = new BufferedReader(new FileReader(dataSource));\n",
    "        \n",
    "      String line = file.readLine();\n",
    "      if (line != null) {\n",
    "        attributes = line.split(\",\");\n",
    "        line = file.readLine();\n",
    "        while (line != null) {\n",
    "          String[] instLine = line.split(\",\");\n",
    "          instArray.add(instLine);\n",
    "          line = file.readLine();\n",
    "        }\n",
    "        instances = instArray.toArray(new String[0][]);\n",
    "      }\n",
    "        \n",
    "      file.close();\n",
    "    } catch (IOException erro) {\n",
    "      erro.printStackTrace();\n",
    "    }\n",
    "  }\n",
    "  \n",
    "}"
   ]
  },
  {
   "cell_type": "markdown",
   "metadata": {},
   "source": [
    "## Console"
   ]
  },
  {
   "cell_type": "code",
   "execution_count": 5,
   "metadata": {},
   "outputs": [
    {
     "data": {
      "text/plain": [
       "com.twosigma.beaker.javash.bkre3c6118d.ITableReceptacle"
      ]
     },
     "execution_count": 5,
     "metadata": {},
     "output_type": "execute_result"
    }
   ],
   "source": [
    "public interface ITableReceptacle {\n",
    "  public void connect(ITableProducer producer);\n",
    "}"
   ]
  },
  {
   "cell_type": "code",
   "execution_count": 6,
   "metadata": {},
   "outputs": [
    {
     "data": {
      "text/plain": [
       "com.twosigma.beaker.javash.bkre3c6118d.IConsoleUpdate"
      ]
     },
     "execution_count": 6,
     "metadata": {},
     "output_type": "execute_result"
    }
   ],
   "source": [
    "public interface IConsoleUpdate {\n",
    "  public void update();\n",
    "}"
   ]
  },
  {
   "cell_type": "code",
   "execution_count": 7,
   "metadata": {},
   "outputs": [
    {
     "data": {
      "text/plain": [
       "com.twosigma.beaker.javash.bkre3c6118d.IConsole"
      ]
     },
     "execution_count": 7,
     "metadata": {},
     "output_type": "execute_result"
    }
   ],
   "source": [
    "public interface IConsole extends ITableReceptacle, IConsoleUpdate {\n",
    "}"
   ]
  },
  {
   "cell_type": "code",
   "execution_count": 8,
   "metadata": {},
   "outputs": [
    {
     "data": {
      "text/plain": [
       "com.twosigma.beaker.javash.bkre3c6118d.ConsoleComponent"
      ]
     },
     "execution_count": 8,
     "metadata": {},
     "output_type": "execute_result"
    }
   ],
   "source": [
    "public class ConsoleComponent implements IConsole {\n",
    "  private ITableProducer iProducer;\n",
    "  \n",
    "  public void connect(ITableProducer producer) {\n",
    "    iProducer = producer;\n",
    "  }\n",
    "  \n",
    "  public void update() {\n",
    "    if (iProducer != null) {\n",
    "        System.out.println(\"=== Attributes ===\");\n",
    "        String attributes[] = iProducer.requestAttributes();\n",
    "        for (int a = 0; a < attributes.length-1; a++)\n",
    "          System.out.print(attributes[a] + \", \");\n",
    "        System.out.println(attributes[attributes.length-1]);\n",
    "\n",
    "        System.out.println();\n",
    "        System.out.println(\"=== Instances ===\");\n",
    "        String instances[][] = iProducer.requestInstances();\n",
    "        for (int i = 0; i < instances.length; i++) {\n",
    "          for (int a = 0; a < attributes.length-1; a ++)\n",
    "            System.out.print(instances[i][a] + \", \");\n",
    "          System.out.println(instances[i][attributes.length-1]);\n",
    "        }\n",
    "    }\n",
    "  }\n",
    "}"
   ]
  },
  {
   "cell_type": "markdown",
   "metadata": {},
   "source": [
    "# Revendo a Composição de Dois Componentes\n",
    "\n",
    "A seguir retomamos o exemplo do notebook anterior em que o DataSet é conectado ao Console."
   ]
  },
  {
   "cell_type": "code",
   "execution_count": 9,
   "metadata": {},
   "outputs": [
    {
     "name": "stdout",
     "output_type": "stream",
     "text": [
      "=== Attributes ===\n",
      "name, age, paralysis, yellow_tong, member_loss, chest_pain, trembling_finger, severe_anger, history_bacteria, diagnostic, days_recovery, has_disease\n",
      "\n",
      "=== Instances ===\n",
      "Rot Donnadd, 43, t, t, f, f, f, f, f, bacterial_infection, 9, t\n",
      "Pid Mught, 38, f, t, f, f, f, f, f, bacterial_infection, 7, t\n",
      "Thulk Lebbimp, 63, f, t, f, f, t, f, t, bite_deficit, 10, t\n",
      "Bouvossam Damme, 71, f, t, t, f, t, f, f, bite_deficit, 13, t\n",
      "Pirg Zall, 48, f, f, t, t, f, f, f, viral_infection, 4, t\n",
      "Nullon Rackindock, 23, f, f, t, f, f, t, f, fights, 8, f\n",
      "Shor Splitturch, 35, f, f, f, f, f, t, f, nothing, 0, f\n",
      "Ger Ackeng, 66, f, f, f, f, t, f, f, bite_deficit, 11, t\n",
      "Gleldo Shruck, 45, f, t, f, t, f, f, f, bacterial_infection, 8, t\n",
      "Nadross Pilch, 60, f, f, f, t, f, f, f, viral_infection, 8, t\n",
      "Sadrent Pemmir, 73, f, t, t, f, f, f, t, bite_deficit, 14, t\n",
      "Read Rait, 55, t, t, f, f, f, f, f, bacterial_infection, 9, t\n",
      "Dallun Whadder, 15, f, f, f, t, f, f, t, viral_infection, 2, t\n",
      "Eapplar Thorg, 25, f, f, t, f, f, f, f, fights, 5, f\n",
      "Blottork Patter, 68, f, t, f, f, t, f, t, bite_deficit, 12, t\n",
      "Darrutt Bottall, 75, f, t, t, f, t, f, f, bite_deficit, 16, t\n",
      "Gallir Shauch, 20, f, f, f, t, f, f, f, fights, 12, f\n",
      "Dirpe Polnay, 39, f, t, f, f, f, f, f, bacterial_infection, 7, t\n",
      "Harrimp Fottiem, 65, f, f, f, f, t, f, f, bite_deficit, 9, t\n"
     ]
    },
    {
     "data": {
      "text/plain": [
       "null"
      ]
     },
     "execution_count": 9,
     "metadata": {},
     "output_type": "execute_result"
    }
   ],
   "source": [
    "IDataSet dataset = new DataSetComponent();\n",
    "dataset.setDataSource(\"../../../db/zombie/zombie-health-spreadsheet.csv\");\n",
    "\n",
    "IConsole console = new ConsoleComponent();\n",
    "console.connect(dataset);\n",
    "\n",
    "console.update();"
   ]
  },
  {
   "cell_type": "markdown",
   "metadata": {},
   "source": [
    "# Projeção"
   ]
  },
  {
   "cell_type": "code",
   "execution_count": 10,
   "metadata": {},
   "outputs": [
    {
     "data": {
      "text/plain": [
       "com.twosigma.beaker.javash.bkre3c6118d.IProjectionProperties"
      ]
     },
     "execution_count": 10,
     "metadata": {},
     "output_type": "execute_result"
    }
   ],
   "source": [
    "public interface IProjectionProperties {\n",
    "  String[] getAttributes();\n",
    "  void setAttributes(String attribute[]);\n",
    "}"
   ]
  },
  {
   "cell_type": "code",
   "execution_count": 11,
   "metadata": {},
   "outputs": [
    {
     "data": {
      "text/plain": [
       "com.twosigma.beaker.javash.bkre3c6118d.IProjection"
      ]
     },
     "execution_count": 11,
     "metadata": {},
     "output_type": "execute_result"
    }
   ],
   "source": [
    "public interface IProjection extends IProjectionProperties, ITableProducer, ITableReceptacle {\n",
    "}"
   ]
  },
  {
   "cell_type": "code",
   "execution_count": 12,
   "metadata": {},
   "outputs": [
    {
     "data": {
      "text/plain": [
       "com.twosigma.beaker.javash.bkre3c6118d.ProjectionComponent"
      ]
     },
     "execution_count": 12,
     "metadata": {},
     "output_type": "execute_result"
    }
   ],
   "source": [
    "public class ProjectionComponent implements IProjection {\n",
    "  private ITableProducer provider;\n",
    "  \n",
    "  private String attributes[] = null;\n",
    "  \n",
    "  public String[] getAttributes() {\n",
    "    return attributes;\n",
    "  }\n",
    "\n",
    "  public void setAttributes(String attributes[]) {\n",
    "    this.attributes = attributes;\n",
    "  }\n",
    "  \n",
    "  public void connect(ITableProducer provider) {\n",
    "    this.provider = provider;\n",
    "  }\n",
    "  \n",
    "  public String[] requestAttributes() {\n",
    "    return attributes;\n",
    "  }\n",
    "  \n",
    "  public String[][] requestInstances() {\n",
    "    String[][] instances = null;\n",
    "    \n",
    "    if (provider != null) {\n",
    "      String[][] allInstances = provider.requestInstances();\n",
    "      if (allInstances != null  && attributes != null) {\n",
    "        instances = new String[allInstances.length][];\n",
    "        \n",
    "        // busca a posicao dos atributos selecionados na tabela original\n",
    "        String[] allAttributes = provider.requestAttributes();\n",
    "        int attrPos[] = new int[attributes.length];\n",
    "        for (int as = 0; as < attributes.length; as++) {\n",
    "          int aa;\n",
    "          for (aa = 0; aa < allAttributes.length &&\n",
    "               !attributes[as].equalsIgnoreCase(allAttributes[aa]); aa++)\n",
    "            /* nothing */;\n",
    "          if (aa < allAttributes.length)\n",
    "            attrPos[as] = aa;\n",
    "          else\n",
    "            attrPos[as] = -1;\n",
    "        }\n",
    "        \n",
    "        // filtra atributos selecionados\n",
    "        for (int i = 0; i < allInstances.length; i++) {\n",
    "          instances[i] = new String[attributes.length];\n",
    "          for (int as = 0; as < attributes.length; as++)\n",
    "            if (attrPos[as] > -1)\n",
    "              instances[i][as] = allInstances[i][attrPos[as]];\n",
    "        }\n",
    "      }\n",
    "    }\n",
    "    \n",
    "    return instances;\n",
    "  }\n",
    "}"
   ]
  },
  {
   "cell_type": "markdown",
   "metadata": {},
   "source": [
    "# Seleção"
   ]
  },
  {
   "cell_type": "code",
   "execution_count": 13,
   "metadata": {},
   "outputs": [
    {
     "data": {
      "text/plain": [
       "com.twosigma.beaker.javash.bkre3c6118d.ISelectionProperties"
      ]
     },
     "execution_count": 13,
     "metadata": {},
     "output_type": "execute_result"
    }
   ],
   "source": [
    "public interface ISelectionProperties {\n",
    "  String getAttribute();\n",
    "  void setAttribute(String attributeA);\n",
    "  public String getOperator();\n",
    "  public void setOperator(String operator);\n",
    "  public String getValue();\n",
    "  public void setValue(String value);\n",
    "  boolean isNominalComparison();\n",
    "  void setNominalComparison(boolean nominalComparison);\n",
    "}"
   ]
  },
  {
   "cell_type": "code",
   "execution_count": 14,
   "metadata": {},
   "outputs": [
    {
     "data": {
      "text/plain": [
       "com.twosigma.beaker.javash.bkre3c6118d.ISelection"
      ]
     },
     "execution_count": 14,
     "metadata": {},
     "output_type": "execute_result"
    }
   ],
   "source": [
    "public interface ISelection extends ISelectionProperties, ITableProducer, ITableReceptacle {\n",
    "}"
   ]
  },
  {
   "cell_type": "code",
   "execution_count": 15,
   "metadata": {},
   "outputs": [
    {
     "data": {
      "text/plain": [
       "com.twosigma.beaker.javash.bkre3c6118d.SelectionComponent"
      ]
     },
     "execution_count": 15,
     "metadata": {},
     "output_type": "execute_result"
    }
   ],
   "source": [
    "import java.util.ArrayList;\n",
    "\n",
    "public class SelectionComponent implements ISelection {\n",
    "  private ITableProducer provider;\n",
    "  \n",
    "  private String attribute = null,\n",
    "                 operator = null,\n",
    "                 value = null;\n",
    "  private boolean nominalComparison = true;\n",
    "  \n",
    "  public String getAttribute() {\n",
    "    return attribute;\n",
    "  }\n",
    "\n",
    "  public void setAttribute(String attribute) {\n",
    "    this.attribute = attribute;\n",
    "  }\n",
    "  \n",
    "  public String getOperator() {\n",
    "    return operator;\n",
    "  }\n",
    "  \n",
    "  public void setOperator(String operator) {\n",
    "    this.operator = operator;\n",
    "  }\n",
    "  \n",
    "  public String getValue() {\n",
    "    return value;\n",
    "  }\n",
    "  \n",
    "  public void setValue(String value) {\n",
    "    this.value = value;\n",
    "  }\n",
    "  \n",
    "  public boolean isNominalComparison() {\n",
    "    return nominalComparison;\n",
    "  }\n",
    "\n",
    "  public void setNominalComparison(boolean nominalComparison) {\n",
    "    this.nominalComparison = nominalComparison;\n",
    "  }\n",
    "\n",
    "  public void connect(ITableProducer provider) {\n",
    "    this.provider = provider;\n",
    "  }\n",
    "  \n",
    "  public String[] requestAttributes() {\n",
    "    return (provider == null) ? null : provider.requestAttributes();\n",
    "  }\n",
    "  \n",
    "  public String[][] requestInstances() {\n",
    "    ArrayList<String[]> instances = null;\n",
    "    \n",
    "    if (provider != null) {\n",
    "      String[][] allInstances = provider.requestInstances();\n",
    "      \n",
    "      if (allInstances != null) {\n",
    "        // busca a posicao dos atributos selecionados na tabela original\n",
    "        String[] allAttributes = provider.requestAttributes();\n",
    "        int atrPos;\n",
    "        for (atrPos = 0; atrPos < allAttributes.length &&\n",
    "             !attribute.equalsIgnoreCase(allAttributes[atrPos]); atrPos++)\n",
    "          /* nothing */;\n",
    "        if (atrPos < allAttributes.length) {\n",
    "          instances = new ArrayList<String[]>();\n",
    "          \n",
    "          for (String[] ai: allInstances) {\n",
    "            boolean match = false;\n",
    "            if (nominalComparison) {\n",
    "              switch (operator.charAt(0)) {\n",
    "                case '=': if (ai[atrPos].equalsIgnoreCase(value))\n",
    "                       match = true;\n",
    "                     break;\n",
    "                case '<': if (ai[atrPos].compareTo(value) < 0)\n",
    "                       match = true;\n",
    "                     break;\n",
    "                case '>': if (ai[atrPos].compareTo(value) > 0)\n",
    "                       match = true;\n",
    "                     break;\n",
    "                case '!': if (!ai[atrPos].equalsIgnoreCase(value))\n",
    "                     match = true;\n",
    "                     break;\n",
    "              }\n",
    "            } else {\n",
    "              switch (operator.charAt(0)) {\n",
    "                case '=': if (Double.parseDouble(ai[atrPos]) == Double.parseDouble(value))\n",
    "                            match = true;\n",
    "                          break;\n",
    "                case '<': if (Double.parseDouble(ai[atrPos]) < Double.parseDouble(value))\n",
    "                            match = true;\n",
    "                          break;\n",
    "                case '>': if (Double.parseDouble(ai[atrPos]) > Double.parseDouble(value))\n",
    "                            match = true;\n",
    "                          break;\n",
    "                case '!': if (Double.parseDouble(ai[atrPos]) != Double.parseDouble(value))\n",
    "                            match = true;\n",
    "                          break;\n",
    "              }\n",
    "            }\n",
    "            if (match)\n",
    "              instances.add(ai);\n",
    "                \n",
    "          }\n",
    "        }\n",
    "      }\n",
    "    }\n",
    "    \n",
    "    return (instances == null) ? null : instances.toArray(new String[1][]);\n",
    "  }\n",
    "}"
   ]
  },
  {
   "cell_type": "markdown",
   "metadata": {},
   "source": [
    "# Chart"
   ]
  },
  {
   "cell_type": "code",
   "execution_count": 16,
   "metadata": {},
   "outputs": [
    {
     "data": {
      "text/plain": [
       "com.twosigma.beaker.javash.bkre3c6118d.IChartProperties"
      ]
     },
     "execution_count": 16,
     "metadata": {},
     "output_type": "execute_result"
    }
   ],
   "source": [
    "public interface IChartProperties {\n",
    "  String getTitle();\n",
    "  void setTitle(String title);\n",
    "  String getXTitle();\n",
    "  void setXTitle(String title);\n",
    "  String getYTitle();\n",
    "  void setYTitle(String title);\n",
    "}\n"
   ]
  },
  {
   "cell_type": "code",
   "execution_count": 17,
   "metadata": {},
   "outputs": [
    {
     "data": {
      "text/plain": [
       "com.twosigma.beaker.javash.bkre3c6118d.IRun"
      ]
     },
     "execution_count": 17,
     "metadata": {},
     "output_type": "execute_result"
    }
   ],
   "source": [
    "\n",
    "public interface IRun {\n",
    "  public boolean start();\n",
    "  public boolean stop();\n",
    "}\n"
   ]
  },
  {
   "cell_type": "code",
   "execution_count": 18,
   "metadata": {},
   "outputs": [
    {
     "data": {
      "text/plain": [
       "com.twosigma.beaker.javash.bkre3c6118d.IChart"
      ]
     },
     "execution_count": 18,
     "metadata": {},
     "output_type": "execute_result"
    }
   ],
   "source": [
    "\n",
    "public interface IChart extends ITableReceptacle, IRun, IChartProperties {\n",
    "  /* Component Interfaces Set */\n",
    "}\n"
   ]
  },
  {
   "cell_type": "code",
   "execution_count": 19,
   "metadata": {},
   "outputs": [
    {
     "data": {
      "application/vnd.jupyter.widget-view+json": {
       "model_id": "3b1e48f0-c16d-4f5c-ba16-a2ba99784e73",
       "version_major": 2,
       "version_minor": 0
      },
      "method": "display_data"
     },
     "metadata": {},
     "output_type": "display_data"
    }
   ],
   "source": [
    "%classpath add jar ../../../lib/xchart-3.5.2.jar"
   ]
  },
  {
   "cell_type": "code",
   "execution_count": 20,
   "metadata": {},
   "outputs": [
    {
     "data": {
      "text/plain": [
       "com.twosigma.beaker.javash.bkre3c6118d.ChartBubbleComponent"
      ]
     },
     "execution_count": 20,
     "metadata": {},
     "output_type": "execute_result"
    }
   ],
   "source": [
    "import java.util.ArrayList;\n",
    "import java.util.Hashtable;\n",
    "import java.util.List;\n",
    "\n",
    "import java.io.IOException;\n",
    "\n",
    "import org.knowm.xchart.BubbleChart;\n",
    "import org.knowm.xchart.BubbleChartBuilder;\n",
    "import org.knowm.xchart.SwingWrapper;\n",
    "import org.knowm.xchart.BitmapEncoder;\n",
    "import org.knowm.xchart.BitmapEncoder.BitmapFormat;\n",
    "\n",
    "import com.twosigma.beakerx.mimetype.MIMEContainer;\n",
    "import java.io.File;\n",
    "import java.nio.file.Files;\n",
    "\n",
    "public class ChartBubbleComponent implements IChart {\n",
    "  private BubbleChart chart = null;\n",
    "\n",
    "  private String title = \"Chart\";\n",
    "  private String xTitle = \"X\",\n",
    "                 yTitle = \"Y\";\n",
    "\n",
    "  private ITableProducer producer = null;\n",
    " \n",
    "  public void connect(ITableProducer producer) {\n",
    "    this.producer = producer;\n",
    "  }\n",
    "  \n",
    "  public ChartBubbleComponent() {\n",
    "  }\n",
    "  \n",
    "  public String getTitle() {\n",
    "    return title;\n",
    "  }\n",
    "  \n",
    "  public void setTitle(String title) {\n",
    "    this.title = title;\n",
    "  }\n",
    "\n",
    "  public String getXTitle() {\n",
    "    return xTitle;\n",
    "  }\n",
    "  \n",
    "  public void setXTitle(String title) {\n",
    "    xTitle = title;\n",
    "  }\n",
    "\n",
    "  public String getYTitle() {\n",
    "    return title;\n",
    "  }\n",
    "  \n",
    "  public void setYTitle(String title) {\n",
    "    yTitle = title;\n",
    "  }\n",
    "\n",
    "  public boolean start() {\n",
    "    boolean status = true;\n",
    "    \n",
    "    chart = new BubbleChartBuilder().width(600).height(400).title(title).xAxisTitle(xTitle).yAxisTitle(yTitle).build();\n",
    "    try{\n",
    "        \n",
    "        buildChart();         \n",
    "        BitmapEncoder.saveBitmap(chart, \"./chart\", BitmapFormat.PNG);\n",
    "        \n",
    "        File file = new File(\"chart.png\");\n",
    "        byte[] data = Files.readAllBytes(file.toPath());\n",
    "    \n",
    "        MIMEContainer image = new MIMEContainer(MIMEContainer.MIME.IMAGE_PNG, data);\n",
    "        display(image);\n",
    "      }catch(IOException ex){\n",
    "        status = false;\n",
    "        System.out.println (ex.toString());      \n",
    "      }\n",
    "        \n",
    "    return status;\n",
    "  }\n",
    "  \n",
    "  public boolean stop() {\n",
    "    return true;\n",
    "  }\n",
    "  \n",
    "  public double[] toDouble(String[][] instances, int column ) {\n",
    "    double[] numbers = new double[instances.length];\n",
    "    for (int i = 0; i < instances.length; i++)\n",
    "      numbers[i] = Double.parseDouble(instances[i][column]);\n",
    "    return numbers;\n",
    "  }\n",
    "\n",
    "  private void buildChart() {\n",
    "    if (chart != null && producer != null) {\n",
    "      String[][] instances = producer.requestInstances();\n",
    "\n",
    "      if (instances != null) {\n",
    "        double[] xData = toDouble(instances, 0),\n",
    "                 yData = toDouble(instances, 1);\n",
    "        \n",
    "        String[] categoryData = null;\n",
    "        if (instances[0].length > 2) {\n",
    "          categoryData = new String[instances.length];\n",
    "          for (int c = 0; c < instances.length; c++)\n",
    "            categoryData[c] = instances[c][2];\n",
    "        }\n",
    "        \n",
    "        double[] bubbleData = null;\n",
    "        if (instances[0].length > 3)\n",
    "          bubbleData = toDouble(producer.requestInstances(), 3);\n",
    "        else {\n",
    "          bubbleData = new double[instances.length];\n",
    "          for (int i = 0; i < xData.length; i++)\n",
    "            bubbleData[i] = 10;\n",
    "        }\n",
    "          \n",
    "        \n",
    "        if (categoryData == null ||\n",
    "            xData.length != yData.length || yData.length != bubbleData.length ||\n",
    "            bubbleData.length != categoryData.length) {\n",
    "          chart.addSeries(\" \", xData, yData, bubbleData);\n",
    "        } else {\n",
    "          Hashtable<String,String> hash = new Hashtable<String,String>();\n",
    "          int outer = 0;\n",
    "          int size = categoryData.length;\n",
    "          while (outer < size) {\n",
    "            if (hash.containsKey(categoryData[outer]))\n",
    "              outer++;\n",
    "            else {\n",
    "              hash.put(categoryData[outer],categoryData[outer]);\n",
    "              List<Double> xSub = new ArrayList<Double>(),\n",
    "                           ySub = new ArrayList<Double>(),\n",
    "                           bubbleSub = new ArrayList<Double>();\n",
    "              for (int inner = outer; inner < size; inner++)\n",
    "                if (categoryData[inner].equalsIgnoreCase(categoryData[outer])) {\n",
    "                  xSub.add(xData[inner]);\n",
    "                  ySub.add(yData[inner]);\n",
    "                  bubbleSub.add(bubbleData[inner]);\n",
    "                }\n",
    "              chart.addSeries(categoryData[outer], xSub, ySub, bubbleSub);\n",
    "              outer++;\n",
    "            }\n",
    "          }\n",
    "        }\n",
    "      }\n",
    "      \n",
    "    }\n",
    "    \n",
    "  }\n",
    "  \n",
    "}"
   ]
  }
 ],
 "metadata": {
  "kernelspec": {
   "display_name": "Java",
   "language": "java",
   "name": "java"
  },
  "language_info": {
   "codemirror_mode": "text/x-java",
   "file_extension": ".java",
   "mimetype": "",
   "name": "Java",
   "nbconverter_exporter": "",
   "version": "1.8.0_152-release"
  },
  "toc": {
   "base_numbering": 1,
   "nav_menu": {},
   "number_sections": false,
   "sideBar": false,
   "skip_h1_title": false,
   "title_cell": "Table of Contents",
   "title_sidebar": "Contents",
   "toc_cell": false,
   "toc_position": {},
   "toc_section_display": false,
   "toc_window_display": false
  }
 },
 "nbformat": 4,
 "nbformat_minor": 2
}
