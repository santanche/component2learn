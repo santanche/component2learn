{
 "cells": [
  {
   "cell_type": "code",
   "execution_count": 1,
   "id": "962c65f1-60aa-46a2-a7df-d651530add42",
   "metadata": {},
   "outputs": [
    {
     "data": {
      "text/plain": [
       "0"
      ]
     },
     "execution_count": 1,
     "metadata": {},
     "output_type": "execute_result"
    }
   ],
   "source": [
    "import Orange\n",
    "from Orange.widgets.data.owfile import OWFile\n",
    "from Orange.widgets.visualize.owscatterplot import OWScatterPlot\n",
    "from AnyQt.QtWidgets import QApplication\n",
    "import sys\n",
    "\n",
    "# Initialize the application\n",
    "app = QApplication(sys.argv)\n",
    "\n",
    "# 1. Instantiate the File widget (table component)\n",
    "data = Orange.data.Table(\"intake-person-demo(potato-chips).csv\")\n",
    "\n",
    "# 2. Instantiate the Scatter Plot widget\n",
    "scatter_widget = OWScatterPlot()\n",
    "\n",
    "# 3. Connect the File widget to the Scatter Plot widget\n",
    "scatter_widget.set_data(data)\n",
    "\n",
    "# Configure the Scatter Plot\n",
    "scatter_widget.attr_x = data.domain[\"age\"]\n",
    "scatter_widget.attr_y = data.domain[\"intake_bw\"]\n",
    "scatter_widget.attr_color = data.domain[\"intake_bw\"]\n",
    "\n",
    "# Update the widget\n",
    "scatter_widget.handleNewSignals()\n",
    "\n",
    "# Show the Scatter Plot widget\n",
    "scatter_widget.show()\n",
    "\n",
    "# Run the application\n",
    "app.exec()"
   ]
  }
 ],
 "metadata": {
  "kernelspec": {
   "display_name": "Python 3 (ipykernel)",
   "language": "python",
   "name": "python3"
  },
  "language_info": {
   "codemirror_mode": {
    "name": "ipython",
    "version": 3
   },
   "file_extension": ".py",
   "mimetype": "text/x-python",
   "name": "python",
   "nbconvert_exporter": "python",
   "pygments_lexer": "ipython3",
   "version": "3.10.12"
  }
 },
 "nbformat": 4,
 "nbformat_minor": 5
}
