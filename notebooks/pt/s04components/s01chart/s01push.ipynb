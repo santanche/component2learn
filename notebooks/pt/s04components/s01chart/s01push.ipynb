{
 "cells": [
  {
   "cell_type": "markdown",
   "metadata": {},
   "source": [
    "# Classes pre-Componentes / Abordagem Push"
   ]
  },
  {
   "cell_type": "markdown",
   "metadata": {},
   "source": [
    "# Componentes `GeometricProgresion` e `BarChart` trabalhando em conjunto via Push\n",
    "\n",
    "Neste exemplo usaremos a abordagem **Push**, ou seja, o objeto da classe GeometricProgression controla todo o processo gerando a sequência de números e pede para o BarChart plotar cada valor.\n",
    "\n",
    "O `BarChart` atua de forma passiva, aguardando que lhe solicitem que plote algo.\n",
    "\n",
    "## `BarChart` Component\n",
    "\n",
    "Plota um gráfico de barras no console sob demanda.\n",
    "\n",
    "* Atributos\n",
    "  * `filled` - define se a plotagem será preenchida;\n",
    "  * `character` - define o caractere da plotagem.\n",
    "* Método\n",
    "  * `plot()` - plota uma barra do gráfico."
   ]
  },
  {
   "cell_type": "code",
   "execution_count": 3,
   "metadata": {},
   "outputs": [
    {
     "data": {
      "text/plain": [
       "com.twosigma.beaker.javash.bkr3816f8ce.BarChart"
      ]
     },
     "execution_count": 3,
     "metadata": {},
     "output_type": "execute_result"
    }
   ],
   "source": [
    "public class BarChart {\n",
    "   private boolean filled;\n",
    "   private char character;\n",
    "   \n",
    "   public BarChart(boolean filled, char character) {\n",
    "      this.filled = filled;\n",
    "      this.character = character;\n",
    "   }\n",
    "\n",
    "   public void plot(int value) {\n",
    "      for (int v = 1; v < value; v++)\n",
    "         System.out.print((filled) ? character : ' ');\n",
    "      System.out.println(character);\n",
    "   }\n",
    "}"
   ]
  },
  {
   "cell_type": "markdown",
   "metadata": {},
   "source": [
    "## Usando objetos da classe `BarChart`\n",
    "\n",
    "Abaixo um exemplo de como objetos da classe `BarChart` podem ser usados."
   ]
  },
  {
   "cell_type": "code",
   "execution_count": 2,
   "metadata": {},
   "outputs": [
    {
     "name": "stdout",
     "output_type": "stream",
     "text": [
      "##########\n",
      "############\n",
      "########\n",
      "\n",
      "   *\n",
      "    *\n",
      "      *\n"
     ]
    },
    {
     "data": {
      "text/plain": [
       "null"
      ]
     },
     "execution_count": 2,
     "metadata": {},
     "output_type": "execute_result"
    }
   ],
   "source": [
    "BarChart bc1 = new BarChart(true, '#');\n",
    "bc1.plot(10);\n",
    "bc1.plot(12);\n",
    "bc1.plot(8);\n",
    "System.out.println();\n",
    "\n",
    "BarChart bc2 = new BarChart(false, '*');\n",
    "bc2.plot(4);\n",
    "bc2.plot(5);\n",
    "bc2.plot(7);"
   ]
  },
  {
   "cell_type": "markdown",
   "metadata": {},
   "source": [
    "## Classe `GeometricProgressionPre`\n",
    "\n",
    "Gera uma sequência de números que crescem em progressão geométrica.\n",
    "\n",
    "* Atributos\n",
    "  * `initial` - valor inicial da sequência;\n",
    "  * `ratio` - taxa de crescimento da progressão;\n",
    "  * `n` - quantidade de valores na sequência;\n",
    "  * `output` - referência para um objeto da classe `BarChart`.\n",
    "* Métodos\n",
    "  * `present` - apresenta o gráfico exponencial (em conjunto com um objeto da classe `BarChart`)."
   ]
  },
  {
   "cell_type": "code",
   "execution_count": 4,
   "metadata": {},
   "outputs": [
    {
     "data": {
      "text/plain": [
       "com.twosigma.beaker.javash.bkr3816f8ce.GeometricProgressionPre"
      ]
     },
     "execution_count": 4,
     "metadata": {},
     "output_type": "execute_result"
    }
   ],
   "source": [
    "public class GeometricProgressionPre {\n",
    "   private int initial,\n",
    "               ratio,\n",
    "               n;\n",
    "   private BarChart output;\n",
    "\n",
    "   public GeometricProgressionPre(int initial, int ratio, int n, BarChart output) {\n",
    "      this.initial = initial;\n",
    "      this.ratio = ratio;\n",
    "      this.n = n;\n",
    "      this.output = output;\n",
    "   }\n",
    "\n",
    "   public void present() {\n",
    "      if (output != null) {\n",
    "         int value = initial;\n",
    "         for (int s = 1; s <= n; s++) {\n",
    "            output.plot(value);\n",
    "            value *= ratio;\n",
    "         }\n",
    "      }\n",
    "   }\n",
    "}"
   ]
  },
  {
   "cell_type": "markdown",
   "metadata": {},
   "source": [
    "## Criando objetos associados\n",
    "\n",
    "Exemplo que cria um objeto da classe `GeometricProgression` outro da classe `BarChart`. O objeto da classe `GeometricProgression` recebe uma referência do objeto `BarChart` no construtor para se relacionar com ele."
   ]
  },
  {
   "cell_type": "code",
   "execution_count": 4,
   "metadata": {},
   "outputs": [
    {
     "name": "stdout",
     "output_type": "stream",
     "text": [
      "#\n",
      "##\n",
      "####\n",
      "########\n",
      "################\n",
      "################################\n",
      "################################################################\n"
     ]
    },
    {
     "data": {
      "text/plain": [
       "null"
      ]
     },
     "execution_count": 4,
     "metadata": {},
     "output_type": "execute_result"
    }
   ],
   "source": [
    "BarChart bc = new BarChart(true, '#');\n",
    "\n",
    "GeometricProgressionPre gp = new GeometricProgressionPre(1, 2, 7, bc);\n",
    "\n",
    "gp.present();"
   ]
  },
  {
   "cell_type": "markdown",
   "metadata": {},
   "source": [
    "## Classe `GeometricProgression`\n",
    "\n",
    "No `GeometricProgressionPre` a associação com o objeto `BarChart` foi feita pelo construtor, o que limita as possibilidades de combinação, por exemplo, quando queremos conectar a mesma progressão com diversos dispositivos de saída.\n",
    "\n",
    "### Usando Conectores\n",
    "\n",
    "Uma abordagem derivada dos componentes considera usar a ideia de conector para ligar dois objetos usando o método `connect`.\n",
    "\n",
    "* Métodos adicional\n",
    "  * `conect` - conecta dois objetos informando a um deles (`GeometricProgression`) a identidade do outro `BarChart`."
   ]
  },
  {
   "cell_type": "code",
   "execution_count": 6,
   "metadata": {},
   "outputs": [
    {
     "data": {
      "text/plain": [
       "com.twosigma.beaker.javash.bkr3816f8ce.GeometricProgression"
      ]
     },
     "execution_count": 6,
     "metadata": {},
     "output_type": "execute_result"
    }
   ],
   "source": [
    "public class GeometricProgression {\n",
    "   private int initial,\n",
    "               ratio,\n",
    "               n;\n",
    "   private BarChart output;\n",
    "\n",
    "   public GeometricProgression(int initial, int ratio, int n) {\n",
    "      this.initial = initial;\n",
    "      this.ratio = ratio;\n",
    "      this.n = n;\n",
    "      this.output = null;\n",
    "   }\n",
    "    \n",
    "   public void connect(BarChart output) {\n",
    "      this.output = output;\n",
    "   }\n",
    "\n",
    "   public void present() {\n",
    "      if (output != null) {\n",
    "         int value = initial;\n",
    "         for (int s = 1; s <= n; s++) {\n",
    "            output.plot(value);\n",
    "            value *= ratio;\n",
    "         }\n",
    "      }\n",
    "   }\n",
    "}"
   ]
  },
  {
   "cell_type": "markdown",
   "metadata": {},
   "source": [
    "## Criando e Conectando objetos - abordagem Push\n",
    "\n",
    "Exemplo que cria um objeto da classe `GeometricProgression` outro da classe `BarChart` e os conecta através do novo método `connect`. Por ser uma abordagem Push, o `GeometricProgression` tem a referência do `BarChart` e envia (“empurra”) valores para ele."
   ]
  },
  {
   "cell_type": "code",
   "execution_count": 7,
   "metadata": {},
   "outputs": [
    {
     "name": "stdout",
     "output_type": "stream",
     "text": [
      "#\n",
      "##\n",
      "####\n",
      "########\n",
      "################\n",
      "################################\n",
      "################################################################\n"
     ]
    },
    {
     "data": {
      "text/plain": [
       "null"
      ]
     },
     "execution_count": 7,
     "metadata": {},
     "output_type": "execute_result"
    }
   ],
   "source": [
    "BarChart bc = new BarChart(true, '#');\n",
    "\n",
    "GeometricProgression gp = new GeometricProgression(1, 2, 7);\n",
    "\n",
    "gp.connect(bc);\n",
    "gp.present();"
   ]
  },
  {
   "cell_type": "markdown",
   "metadata": {},
   "source": [
    "## Conectando o objeto `GeometricProgression` com dois objetos `BarChart` - abordagem Push\n",
    "\n",
    "Exemplo conectando o mesmo objeto da classe `GeometricProgression` com dois objetos da classe `BarChart`."
   ]
  },
  {
   "cell_type": "code",
   "execution_count": 8,
   "metadata": {},
   "outputs": [
    {
     "name": "stdout",
     "output_type": "stream",
     "text": [
      "#\n",
      "##\n",
      "####\n",
      "########\n",
      "################\n",
      "################################\n",
      "################################################################\n",
      "*\n",
      " *\n",
      "   *\n",
      "       *\n",
      "               *\n",
      "                               *\n",
      "                                                               *\n"
     ]
    },
    {
     "data": {
      "text/plain": [
       "null"
      ]
     },
     "execution_count": 8,
     "metadata": {},
     "output_type": "execute_result"
    }
   ],
   "source": [
    "BarChart bc1 = new BarChart(true, '#');\n",
    "BarChart bc2 = new BarChart(false, '*');\n",
    "\n",
    "GeometricProgression gp = new GeometricProgression(1, 2, 7);\n",
    "\n",
    "gp.connect(bc1);\n",
    "gp.present();\n",
    "\n",
    "gp.connect(bc2);\n",
    "gp.present();"
   ]
  },
  {
   "cell_type": "markdown",
   "metadata": {},
   "source": [
    "# Tarefa do Gráfico de Segundo Grau\n",
    "\n",
    "## Função de segundo grau\n",
    "\n",
    "Escreva uma classe `SecondDegree` cujos objetos produzam valores de uma função de segundo grau na abordagem **Push** e os enviem para um objeto `BarChart`."
   ]
  },
  {
   "cell_type": "code",
   "execution_count": null,
   "metadata": {},
   "outputs": [],
   "source": []
  },
  {
   "cell_type": "markdown",
   "metadata": {},
   "source": [
    "## Plotagem de parábola\n",
    "\n",
    "Escreva um programa que conecte um objeto da classe `SecondDegree` a um objeto da classe `BarChart` de forma que seja plotada uma parábola na abordagem **Push**. Por conta do comportamento da classe `BarChart`, a parábola será plotada virada, ou seja eixos X e Y trocados."
   ]
  },
  {
   "cell_type": "code",
   "execution_count": null,
   "metadata": {},
   "outputs": [],
   "source": []
  }
 ],
 "metadata": {
  "kernelspec": {
   "display_name": "Java",
   "language": "java",
   "name": "java"
  },
  "language_info": {
   "codemirror_mode": "text/x-java",
   "file_extension": ".java",
   "mimetype": "",
   "name": "Java",
   "nbconverter_exporter": "",
   "version": "1.8.0_152-release"
  },
  "toc": {
   "base_numbering": 1,
   "nav_menu": {},
   "number_sections": false,
   "sideBar": false,
   "skip_h1_title": false,
   "title_cell": "Table of Contents",
   "title_sidebar": "Contents",
   "toc_cell": false,
   "toc_position": {},
   "toc_section_display": false,
   "toc_window_display": false
  }
 },
 "nbformat": 4,
 "nbformat_minor": 4
}
