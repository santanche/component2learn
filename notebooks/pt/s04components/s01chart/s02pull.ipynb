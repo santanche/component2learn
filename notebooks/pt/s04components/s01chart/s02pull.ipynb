{
 "cells": [
  {
   "cell_type": "markdown",
   "metadata": {},
   "source": [
    "# Classes pre-Componentes / Abordagem Pull"
   ]
  },
  {
   "cell_type": "markdown",
   "metadata": {},
   "source": [
    "# Componentes `GeometricProgresion` e `BarChart` trabalhando em conjunto via Pull\n",
    "\n",
    "Neste exemplo usaremos a abordagem **Pull**, ou seja, o objeto da classe `BarChart` controla todo o processo e solicita os valores para o objeto da classe `GeometricProgression`.\n",
    "\n",
    "## `GeometricProgression` abordagem Pull\n",
    "\n",
    "O `GeometricProgression` passa a atuar de forma passiva, aguardando que lhe solicitem valores através dos métodos `first` e `next`.\n",
    "\n",
    "Três modificações podem ser observadas:\n",
    "1. a informação do número de valores plotados (`n`) passa para o `BarChart` que controla o processo;\n",
    "2. o `BarChart` passa a ter a referência para o `GeometricProgression` que, por sua vez, não tem mais a referência e consequentemente o `connect`;\n",
    "3. o método `present` que atuava ativamente gerando a sequência e enviando para o gráfico foi substituído por dois métodos (`first` e `next`) que atuam passivamente aguardando a solicitação de valor.\n",
    "\n",
    "## Classe `GeometricProgression`\n",
    "\n",
    "Gera uma sequência de números que crescem em progressão geométrica.\n",
    "\n",
    "* Atributos\n",
    "  * `initial` - valor inicial da sequência;\n",
    "  * `ratio` - taxa de crescimento da progressão;\n",
    "  * `current` - valor corrente (para controle interno).\n",
    "* Métodos\n",
    "  * `first` - gera o primeiro valor da sequência e o retorna;\n",
    "  * `next` - gera o próximo valor da sequência (em relação à última solicitação) e o retorna."
   ]
  },
  {
   "cell_type": "code",
   "execution_count": 5,
   "metadata": {},
   "outputs": [
    {
     "data": {
      "text/plain": [
       "com.twosigma.beaker.javash.bkr7589615f.GeometricProgression"
      ]
     },
     "execution_count": 5,
     "metadata": {},
     "output_type": "execute_result"
    }
   ],
   "source": [
    "public class GeometricProgression {\n",
    "   private int initial,\n",
    "               ratio;\n",
    "   private int current;\n",
    "   \n",
    "   public GeometricProgression(int initial, int ratio) {\n",
    "      this.initial = initial;\n",
    "      this.ratio = ratio;\n",
    "      current = initial;\n",
    "   }\n",
    "   \n",
    "   public int first() {\n",
    "      current = initial;\n",
    "      return current;\n",
    "   }\n",
    "   \n",
    "   public int next() {\n",
    "      current *= ratio;\n",
    "      return current;\n",
    "   }\n",
    "}"
   ]
  },
  {
   "cell_type": "markdown",
   "metadata": {},
   "source": [
    "## `BarChart` abordagem Pull\n",
    "\n",
    "Três modificações podem ser observadas:\n",
    "1. o método `plot` foi modificado -- em vez de plotar apenas uma barra, ele plota o gráfico inteiro, já que o `BarChart` controla o processo;\n",
    "2. por causa da modificação (1), o `BarChart` passa a ter a informação de quantos valores serão plotados;\n",
    "3. o `BarChart` passa a ter o método `connect`, já que ele guarda a referência para o objeto `GeometricProgression` para solicitar os valores.\n",
    "\n",
    "## `BarChart` Component\n",
    "\n",
    "Plota um gráfico de barras no console coletando ativamente dados a serem plotados.\n",
    "\n",
    "* Atributos\n",
    "  * `filled` - define se a plotagem será preenchida;\n",
    "  * `character` - define o caractere da plotagem;\n",
    "  * `n` - quantidade de valores na sequência;\n",
    "  * `sequence` - referência para um objeto da classe `BarChart`.\n",
    "* Método\n",
    "  * `conect` - conecta dois objetos informando a um deles (`BarChart`) a identidade do outro `GeometricProgression`.\n",
    "  * `plot()` - plota o gráfico inteiro."
   ]
  },
  {
   "cell_type": "code",
   "execution_count": 4,
   "metadata": {},
   "outputs": [
    {
     "data": {
      "text/plain": [
       "com.twosigma.beaker.javash.bkr7589615f.BarChart"
      ]
     },
     "execution_count": 4,
     "metadata": {},
     "output_type": "execute_result"
    }
   ],
   "source": [
    "public class BarChart {\n",
    "   private boolean filled;\n",
    "   private char character;\n",
    "   private int n;\n",
    "   \n",
    "   private GeometricProgression sequence;\n",
    "   \n",
    "   public BarChart(boolean filled, char character, int n) {\n",
    "      this.filled = filled;\n",
    "      this.character = character;\n",
    "      this.n = n;\n",
    "      this.sequence = null;\n",
    "   }\n",
    "\n",
    "   public void connect(GeometricProgression sequence) {\n",
    "      this.sequence = sequence;\n",
    "   }\n",
    "   \n",
    "   public void plot() {\n",
    "      if (sequence != null) {\n",
    "         int value = sequence.first();\n",
    "         for (int s = 1; s <= n; s++) {\n",
    "            for (int v = 1; v < value; v++)\n",
    "               System.out.print((filled) ? character : ' ');\n",
    "            System.out.println(character);\n",
    "            value = sequence.next();\n",
    "         }\n",
    "      }\n",
    "   }\n",
    "}"
   ]
  },
  {
   "cell_type": "markdown",
   "metadata": {},
   "source": [
    "## Criando e Conectando objetos - abordagem Pull\n",
    "\n",
    "Exemplo que cria um objeto da classe `GeometricProgression` outro da classe `BarChart` e os conecta através do novo método `connect`. Note que há uma inversão em relação a abordagem **Pull**. Aqui, o `BarChart` possui o método `connect` e se conecta ao `GeometricProgression` de quem ele solicitará os valores."
   ]
  },
  {
   "cell_type": "code",
   "execution_count": 6,
   "metadata": {},
   "outputs": [
    {
     "name": "stdout",
     "output_type": "stream",
     "text": [
      "#\n",
      "##\n",
      "####\n",
      "########\n",
      "################\n",
      "################################\n",
      "################################################################\n"
     ]
    },
    {
     "data": {
      "text/plain": [
       "null"
      ]
     },
     "execution_count": 6,
     "metadata": {},
     "output_type": "execute_result"
    }
   ],
   "source": [
    "GeometricProgression gp = new GeometricProgression(1, 2);\n",
    "\n",
    "BarChart bc = new BarChart(true, '#', 7);\n",
    "\n",
    "bc.connect(gp);\n",
    "bc.plot();"
   ]
  },
  {
   "cell_type": "markdown",
   "metadata": {},
   "source": [
    "## Conectando o objeto `GeometricProgression` com dois objetos `BarChart` - abordagem Pull\n",
    "\n",
    "Exemplo conectando o mesmo objeto da classe `GeometricProgression` com dois objetos da classe `BarChart`."
   ]
  },
  {
   "cell_type": "code",
   "execution_count": 7,
   "metadata": {},
   "outputs": [
    {
     "name": "stdout",
     "output_type": "stream",
     "text": [
      "#\n",
      "##\n",
      "####\n",
      "########\n",
      "################\n",
      "################################\n",
      "################################################################\n",
      "*\n",
      " *\n",
      "   *\n",
      "       *\n",
      "               *\n",
      "                               *\n",
      "                                                               *\n"
     ]
    },
    {
     "data": {
      "text/plain": [
       "null"
      ]
     },
     "execution_count": 7,
     "metadata": {},
     "output_type": "execute_result"
    }
   ],
   "source": [
    "GeometricProgression gp = new GeometricProgression(1, 2);\n",
    "\n",
    "BarChart bc1 = new BarChart(true, '#', 7);\n",
    "BarChart bc2 = new BarChart(false, '*', 7);\n",
    "\n",
    "bc1.connect(gp);\n",
    "bc1.plot();\n",
    "\n",
    "bc2.connect(gp);\n",
    "bc2.plot();"
   ]
  },
  {
   "cell_type": "markdown",
   "metadata": {},
   "source": [
    "# Tarefa do Gráfico de Segundo Grau\n",
    "\n",
    "## Função de segundo grau\n",
    "\n",
    "Escreva uma classe `SecondDegree` cujos objetos produzam valores de uma função de segundo grau na abordagem **Pull**, ou seja, são produzidos sob demanda a partir de solicitação dos métodos `first` e `next`."
   ]
  },
  {
   "cell_type": "code",
   "execution_count": null,
   "metadata": {},
   "outputs": [],
   "source": []
  },
  {
   "cell_type": "markdown",
   "metadata": {},
   "source": [
    "## Plotagem de parábola\n",
    "\n",
    "Escreva um programa que conecte um objeto da classe `SecondDegree` a um objeto da classe `BarChart` de forma que seja plotada uma parábola na abordagem **Pull**. Por conta do comportamento da classe `BarChart`, a parábola será plotada virada, ou seja eixos X e Y trocados."
   ]
  },
  {
   "cell_type": "code",
   "execution_count": null,
   "metadata": {},
   "outputs": [],
   "source": []
  }
 ],
 "metadata": {
  "kernelspec": {
   "display_name": "Java",
   "language": "java",
   "name": "java"
  },
  "language_info": {
   "codemirror_mode": "text/x-java",
   "file_extension": ".java",
   "mimetype": "",
   "name": "Java",
   "nbconverter_exporter": "",
   "version": "1.8.0_152-release"
  },
  "toc": {
   "base_numbering": 1,
   "nav_menu": {},
   "number_sections": false,
   "sideBar": false,
   "skip_h1_title": false,
   "title_cell": "Table of Contents",
   "title_sidebar": "Contents",
   "toc_cell": false,
   "toc_position": {},
   "toc_section_display": false,
   "toc_window_display": false
  }
 },
 "nbformat": 4,
 "nbformat_minor": 4
}
