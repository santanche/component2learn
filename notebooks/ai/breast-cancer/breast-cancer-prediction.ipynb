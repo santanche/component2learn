{
 "cells": [
  {
   "cell_type": "markdown",
   "metadata": {},
   "source": [
    "# Componente como Serviço\n",
    "\n",
    "## Passo 2 - Componente a partir do Workflow"
   ]
  },
  {
   "cell_type": "code",
   "execution_count": 6,
   "metadata": {},
   "outputs": [],
   "source": [
    "import iplantuml"
   ]
  },
  {
   "cell_type": "code",
   "execution_count": 7,
   "metadata": {},
   "outputs": [
    {
     "name": "stdout",
     "output_type": "stream",
     "text": [
      "Writing output for /home/santanche/git/component2learn/notebooks/ai/cancer/192a1f48-2bb5-4e6c-ac64-947693e3366a.uml to 192a1f48-2bb5-4e6c-ac64-947693e3366a.svg\n"
     ]
    },
    {
     "data": {
      "image/svg+xml": [
       "<svg xmlns=\"http://www.w3.org/2000/svg\" xmlns:xlink=\"http://www.w3.org/1999/xlink\" contentStyleType=\"text/css\" data-diagram-type=\"CLASS\" height=\"101px\" preserveAspectRatio=\"none\" style=\"width:803px;height:101px;background:#FFFFFF;\" version=\"1.1\" viewBox=\"0 0 803 101\" width=\"803px\" zoomAndPan=\"magnify\"><defs/><g><!--class Predictor--><g class=\"entity\" data-entity=\"Predictor\" data-source-line=\"1\" data-uid=\"ent0002\" id=\"entity_Predictor\"><rect fill=\"#F1F1F1\" height=\"80.5938\" rx=\"2.5\" ry=\"2.5\" style=\"stroke:#181818;stroke-width:0.5;\" width=\"782.8682\" x=\"7\" y=\"7\"/><ellipse cx=\"362.6362\" cy=\"23\" fill=\"#B4A7E5\" rx=\"11\" ry=\"11\" style=\"stroke:#181818;stroke-width:1;\"/><path d=\"M358.5581,18.7656 L358.5581,16.6094 L365.9487,16.6094 L365.9487,18.7656 L363.48,18.7656 L363.48,26.8438 L365.9487,26.8438 L365.9487,29 L358.5581,29 L358.5581,26.8438 L361.0269,26.8438 L361.0269,18.7656 L358.5581,18.7656 Z \" fill=\"#000000\"/><text fill=\"#000000\" font-family=\"sans-serif\" font-size=\"14\" font-style=\"italic\" lengthAdjust=\"spacing\" textLength=\"63.0957\" x=\"383.1362\" y=\"27.8467\">Predictor</text><line style=\"stroke:#181818;stroke-width:0.5;\" x1=\"8\" x2=\"788.8682\" y1=\"39\" y2=\"39\"/><line style=\"stroke:#181818;stroke-width:0.5;\" x1=\"8\" x2=\"788.8682\" y1=\"47\" y2=\"47\"/><ellipse cx=\"18\" cy=\"60.6484\" fill=\"#84BE84\" rx=\"3\" ry=\"3\" style=\"stroke:#038048;stroke-width:1;\"/><text fill=\"#000000\" font-family=\"sans-serif\" font-size=\"14\" lengthAdjust=\"spacing\" textLength=\"183.292\" x=\"27\" y=\"63.9951\">train(csv_file_path: string)</text><ellipse cx=\"18\" cy=\"76.9453\" fill=\"#84BE84\" rx=\"3\" ry=\"3\" style=\"stroke:#038048;stroke-width:1;\"/><text fill=\"#000000\" font-family=\"sans-serif\" font-size=\"14\" lengthAdjust=\"spacing\" textLength=\"756.8682\" x=\"27\" y=\"80.292\">predict(radius_mean: real, texture_mean: real, symmetry_mean: real, fractal_dimension_mean: real): string</text></g><!--SRC=[LOr12i9034NtFKMMBNg2di8R364ceu6PjFoaOX7lBYY2tRx_Fayj19Mpq0LIDCS2UWv49mgmsfZzdgesIIl7RIOFg5sdZx1-3oEuwEQf2zjC46vd2dd41ZamttkNm7w05Po3MohQnLmN-rkdNsvulG40]--></g></svg>"
      ],
      "text/plain": [
       "<IPython.core.display.SVG object>"
      ]
     },
     "execution_count": 7,
     "metadata": {},
     "output_type": "execute_result"
    }
   ],
   "source": [
    "%%plantuml\n",
    "\n",
    "@startuml\n",
    "\n",
    "interface Predictor {\n",
    "  + train(csv_file_path: string)\n",
    "  + predict(radius_mean: real, texture_mean: real, symmetry_mean: real, fractal_dimension_mean: real): string\n",
    "}\n",
    "\n",
    "@enduml"
   ]
  },
  {
   "cell_type": "code",
   "execution_count": 8,
   "metadata": {},
   "outputs": [
    {
     "name": "stdout",
     "output_type": "stream",
     "text": [
      "Writing output for /home/santanche/git/component2learn/notebooks/ai/cancer/86dda1d6-0f1a-419c-808b-7ba6b8a1276f.uml to 86dda1d6-0f1a-419c-808b-7ba6b8a1276f.svg\n"
     ]
    },
    {
     "data": {
      "image/svg+xml": [
       "<svg xmlns=\"http://www.w3.org/2000/svg\" xmlns:xlink=\"http://www.w3.org/1999/xlink\" contentStyleType=\"text/css\" data-diagram-type=\"DESCRIPTION\" height=\"68px\" preserveAspectRatio=\"none\" style=\"width:241px;height:68px;background:#FFFFFF;\" version=\"1.1\" viewBox=\"0 0 241 68\" width=\"241px\" zoomAndPan=\"magnify\"><defs/><g><!--entity CancerPredictor--><g class=\"entity\" data-entity=\"CancerPredictor\" data-source-line=\"1\" data-uid=\"ent0002\" id=\"entity_CancerPredictor\"><rect fill=\"#F1F1F1\" height=\"46.2969\" rx=\"2.5\" ry=\"2.5\" style=\"stroke:#181818;stroke-width:0.5;\" width=\"152.3896\" x=\"7\" y=\"7\"/><rect fill=\"#F1F1F1\" height=\"10\" style=\"stroke:#181818;stroke-width:0.5;\" width=\"15\" x=\"139.3896\" y=\"12\"/><rect fill=\"#F1F1F1\" height=\"2\" style=\"stroke:#181818;stroke-width:0.5;\" width=\"4\" x=\"137.3896\" y=\"14\"/><rect fill=\"#F1F1F1\" height=\"2\" style=\"stroke:#181818;stroke-width:0.5;\" width=\"4\" x=\"137.3896\" y=\"18\"/><text fill=\"#000000\" font-family=\"sans-serif\" font-size=\"14\" lengthAdjust=\"spacing\" textLength=\"112.3896\" x=\"22\" y=\"39.9951\">CancerPredictor</text></g><!--entity Predictor--><g class=\"entity\" data-entity=\"Predictor\" data-source-line=\"1\" data-uid=\"ent0003\" id=\"entity_Predictor\"><ellipse cx=\"203.19\" cy=\"30.15\" fill=\"#F1F1F1\" rx=\"8\" ry=\"8\" style=\"stroke:#181818;stroke-width:0.5;\"/><text fill=\"#000000\" font-family=\"sans-serif\" font-size=\"14\" lengthAdjust=\"spacing\" textLength=\"63.0957\" x=\"171.6421\" y=\"60.1451\">Predictor</text></g><!--link CancerPredictor to Predictor--><g class=\"link\" data-entity-1=\"CancerPredictor\" data-entity-2=\"Predictor\" data-source-line=\"1\" data-uid=\"lnk4\" id=\"link_CancerPredictor_Predictor\"><path d=\"M159.6,30.15 C171.07,30.15 182.53,30.15 194,30.15\" fill=\"none\" id=\"CancerPredictor-Predictor\" style=\"stroke:#181818;stroke-width:1;\"/></g><!--SRC=[YtPEp4jEBGeeIat9J2x9BufLq5M0Sm00]--></g></svg>"
      ],
      "text/plain": [
       "<IPython.core.display.SVG object>"
      ]
     },
     "execution_count": 8,
     "metadata": {},
     "output_type": "execute_result"
    }
   ],
   "source": [
    "%%plantuml\n",
    "\n",
    "@startuml\n",
    "\n",
    "[CancerPredictor] - Predictor\n",
    "\n",
    "@enduml"
   ]
  },
  {
   "cell_type": "code",
   "execution_count": 9,
   "metadata": {},
   "outputs": [],
   "source": [
    "import pandas as pd\n",
    "from sklearn.model_selection import train_test_split\n",
    "from sklearn.linear_model import LogisticRegression\n",
    "from sklearn.preprocessing import LabelEncoder\n",
    "from sklearn.metrics import accuracy_score\n",
    "\n",
    "class CancerPredictor:\n",
    "    def __init__(self):\n",
    "        self.model = LogisticRegression()\n",
    "        self.le_diagnosis = LabelEncoder()\n",
    "\n",
    "    def train(self, csv_file_path):\n",
    "        # Load the data\n",
    "        data = pd.read_csv(csv_file_path)\n",
    "\n",
    "        # Encode categorical variables\n",
    "        data['diagnosis'] = self.le_diagnosis.fit_transform(data['diagnosis'])\n",
    "\n",
    "        # Split features and target\n",
    "        X = data[['radius_mean', 'texture_mean', 'symmetry_mean', 'fractal_dimension_mean']]\n",
    "\n",
    "        y = data['diagnosis']\n",
    "\n",
    "        # Split data into train and test sets\n",
    "        X_train, X_test, y_train, y_test = train_test_split(X, y, test_size=0.2, random_state=42)\n",
    "\n",
    "        # Train the model\n",
    "        self.model.fit(X_train, y_train)\n",
    "\n",
    "        # Evaluate the model\n",
    "        y_pred = self.model.predict(X_test)\n",
    "        accuracy = accuracy_score(y_test, y_pred)\n",
    "        print(f\"Model accuracy: {accuracy:.2f}\")\n",
    "\n",
    "    def predict(self, radius_mean, texture_mean, symmetry_mean, fractal_dimension_mean):\n",
    "        # Create a DataFrame with the same feature names as the training data\n",
    "        input_data = pd.DataFrame([[radius_mean, texture_mean, symmetry_mean, fractal_dimension_mean]],\n",
    "                                  columns=['radius_mean', 'texture_mean', 'symmetry_mean', 'fractal_dimension_mean'])\n",
    "\n",
    "        # Make prediction\n",
    "        prediction = self.model.predict(input_data)\n",
    "\n",
    "        # Decode prediction\n",
    "        diagnosis = self.le_diagnosis.inverse_transform(prediction)[0]\n",
    "\n",
    "        return diagnosis"
   ]
  },
  {
   "cell_type": "code",
   "execution_count": 10,
   "metadata": {},
   "outputs": [
    {
     "name": "stdout",
     "output_type": "stream",
     "text": [
      "Model accuracy: 0.90\n",
      "For a person with radius_mean 12.47, texture_mean 18.6, symmetry_mean 0.1925, and fractal_dimension_mean 0.06373:\n",
      "For a person with radius_mean 18.94, texture_mean 21.31, symmetry_mean 0.1582, and fractal_dimension_mean 0.05461:\n",
      "For a person with radius_mean 15.46, texture_mean 19.48, symmetry_mean 0.1931, and fractal_dimension_mean 0.05796:\n",
      "For a person with radius_mean 12.4, texture_mean 17.68, symmetry_mean 0.1811, and fractal_dimension_mean 0.07102:\n",
      "For a person with radius_mean 11.54, texture_mean 14.44, symmetry_mean 0.1818, and fractal_dimension_mean 0.06782:\n",
      "For a person with radius_mean 20.6, texture_mean 29.33, symmetry_mean 0.2397, and fractal_dimension_mean 0.07016:\n",
      "For a person with radius_mean 22.01, texture_mean 21.9, symmetry_mean 0.1824, and fractal_dimension_mean 0.0614:\n",
      "For a person with radius_mean 17.57, texture_mean 15.05, symmetry_mean 0.1739, and fractal_dimension_mean 0.06149:\n",
      "For a person with radius_mean 13.34, texture_mean 15.86, symmetry_mean 0.1942, and fractal_dimension_mean 0.06902:\n",
      "For a person with radius_mean 13.9, texture_mean 16.62, symmetry_mean 0.1813, and fractal_dimension_mean 0.05536:\n",
      "For a person with radius_mean 13.21, texture_mean 25.25, symmetry_mean 0.1619, and fractal_dimension_mean 0.05584:\n",
      "For a person with radius_mean 16.78, texture_mean 18.8, symmetry_mean 0.1893, and fractal_dimension_mean 0.05534:\n",
      "For a person with radius_mean 14.97, texture_mean 19.76, symmetry_mean 0.1515, and fractal_dimension_mean 0.05266:\n",
      "For a person with radius_mean 16.26, texture_mean 21.88, symmetry_mean 0.1869, and fractal_dimension_mean 0.06532:\n",
      "For a person with radius_mean 12.34, texture_mean 12.27, symmetry_mean 0.1689, and fractal_dimension_mean 0.05808:\n",
      "For a person with radius_mean 19.1, texture_mean 26.29, symmetry_mean 0.1634, and fractal_dimension_mean 0.07224:\n",
      "For a person with radius_mean 14.81, texture_mean 14.7, symmetry_mean 0.1659, and fractal_dimension_mean 0.05348:\n",
      "For a person with radius_mean 10.16, texture_mean 19.59, symmetry_mean 0.1791, and fractal_dimension_mean 0.06331:\n",
      "For a person with radius_mean 6.981, texture_mean 13.43, symmetry_mean 0.193, and fractal_dimension_mean 0.07818:\n",
      "For a person with radius_mean 20.55, texture_mean 20.86, symmetry_mean 0.2127, and fractal_dimension_mean 0.06251:\n",
      "For a person with radius_mean 13.8, texture_mean 15.79, symmetry_mean 0.1662, and fractal_dimension_mean 0.06566:\n",
      "For a person with radius_mean 12.1, texture_mean 17.72, symmetry_mean 0.1937, and fractal_dimension_mean 0.06161:\n",
      "For a person with radius_mean 21.61, texture_mean 22.28, symmetry_mean 0.2162, and fractal_dimension_mean 0.06606:\n",
      "For a person with radius_mean 10.03, texture_mean 21.28, symmetry_mean 0.163, and fractal_dimension_mean 0.06439:\n",
      "For a person with radius_mean 11.6, texture_mean 24.49, symmetry_mean 0.1935, and fractal_dimension_mean 0.05878:\n",
      "For a person with radius_mean 13.53, texture_mean 10.94, symmetry_mean 0.2403, and fractal_dimension_mean 0.06641:\n",
      "For a person with radius_mean 13.28, texture_mean 13.72, symmetry_mean 0.1617, and fractal_dimension_mean 0.05594:\n",
      "For a person with radius_mean 10.29, texture_mean 27.61, symmetry_mean 0.1593, and fractal_dimension_mean 0.06127:\n",
      "For a person with radius_mean 12.76, texture_mean 18.84, symmetry_mean 0.1759, and fractal_dimension_mean 0.06183:\n",
      "For a person with radius_mean 17.2, texture_mean 24.52, symmetry_mean 0.1927, and fractal_dimension_mean 0.06487:\n",
      "For a person with radius_mean 11.13, texture_mean 22.44, symmetry_mean 0.203, and fractal_dimension_mean 0.06552:\n",
      "For a person with radius_mean 12.06, texture_mean 12.74, symmetry_mean 0.159, and fractal_dimension_mean 0.05907:\n",
      "For a person with radius_mean 9.742, texture_mean 19.12, symmetry_mean 0.2538, and fractal_dimension_mean 0.07029:\n",
      "For a person with radius_mean 13.68, texture_mean 16.33, symmetry_mean 0.1631, and fractal_dimension_mean 0.06155:\n",
      "For a person with radius_mean 10.18, texture_mean 17.53, symmetry_mean 0.191, and fractal_dimension_mean 0.06908:\n",
      "For a person with radius_mean 11.52, texture_mean 18.75, symmetry_mean 0.192, and fractal_dimension_mean 0.05907:\n",
      "For a person with radius_mean 16.02, texture_mean 23.24, symmetry_mean 0.1528, and fractal_dimension_mean 0.05697:\n",
      "For a person with radius_mean 11.74, texture_mean 14.02, symmetry_mean 0.2101, and fractal_dimension_mean 0.06113:\n",
      "For a person with radius_mean 18.25, texture_mean 19.98, symmetry_mean 0.1794, and fractal_dimension_mean 0.05742:\n",
      "For a person with radius_mean 14.62, texture_mean 24.02, symmetry_mean 0.1685, and fractal_dimension_mean 0.05866:\n",
      "For a person with radius_mean 10.49, texture_mean 19.29, symmetry_mean 0.2217, and fractal_dimension_mean 0.06481:\n",
      "For a person with radius_mean 15.08, texture_mean 25.74, symmetry_mean 0.1647, and fractal_dimension_mean 0.06464:\n",
      "For a person with radius_mean 11.61, texture_mean 16.02, symmetry_mean 0.1886, and fractal_dimension_mean 0.0632:\n",
      "For a person with radius_mean 11.84, texture_mean 18.94, symmetry_mean 0.1533, and fractal_dimension_mean 0.06057:\n",
      "For a person with radius_mean 11.89, texture_mean 17.36, symmetry_mean 0.2015, and fractal_dimension_mean 0.05875:\n",
      "For a person with radius_mean 11.34, texture_mean 21.26, symmetry_mean 0.1487, and fractal_dimension_mean 0.06529:\n",
      "For a person with radius_mean 9.295, texture_mean 13.9, symmetry_mean 0.2197, and fractal_dimension_mean 0.07696:\n",
      "For a person with radius_mean 9.423, texture_mean 27.88, symmetry_mean 0.1742, and fractal_dimension_mean 0.06059:\n",
      "For a person with radius_mean 11.67, texture_mean 20.02, symmetry_mean 0.1859, and fractal_dimension_mean 0.06461:\n",
      "For a person with radius_mean 12.89, texture_mean 15.7, symmetry_mean 0.1432, and fractal_dimension_mean 0.05935:\n",
      "For a person with radius_mean 17.19, texture_mean 22.07, symmetry_mean 0.1867, and fractal_dimension_mean 0.0558:\n",
      "For a person with radius_mean 18.63, texture_mean 25.11, symmetry_mean 0.2183, and fractal_dimension_mean 0.06197:\n",
      "For a person with radius_mean 13.11, texture_mean 22.54, symmetry_mean 0.185, and fractal_dimension_mean 0.0731:\n",
      "For a person with radius_mean 13.94, texture_mean 13.17, symmetry_mean 0.1976, and fractal_dimension_mean 0.06457:\n",
      "For a person with radius_mean 11.9, texture_mean 14.65, symmetry_mean 0.1995, and fractal_dimension_mean 0.07839:\n",
      "For a person with radius_mean 13.17, texture_mean 18.22, symmetry_mean 0.1454, and fractal_dimension_mean 0.05549:\n",
      "For a person with radius_mean 10.25, texture_mean 16.18, symmetry_mean 0.1743, and fractal_dimension_mean 0.07279:\n",
      "For a person with radius_mean 25.22, texture_mean 24.91, symmetry_mean 0.1829, and fractal_dimension_mean 0.06782:\n",
      "For a person with radius_mean 13.48, texture_mean 20.82, symmetry_mean 0.172, and fractal_dimension_mean 0.06419:\n",
      "For a person with radius_mean 11.29, texture_mean 13.04, symmetry_mean 0.1769, and fractal_dimension_mean 0.0627:\n",
      "For a person with radius_mean 12.86, texture_mean 18.0, symmetry_mean 0.1718, and fractal_dimension_mean 0.05997:\n",
      "For a person with radius_mean 19.69, texture_mean 21.25, symmetry_mean 0.2069, and fractal_dimension_mean 0.05999:\n",
      "For a person with radius_mean 21.56, texture_mean 22.39, symmetry_mean 0.1726, and fractal_dimension_mean 0.05623:\n",
      "For a person with radius_mean 14.4, texture_mean 26.99, symmetry_mean 0.1707, and fractal_dimension_mean 0.05433:\n",
      "For a person with radius_mean 12.3, texture_mean 19.02, symmetry_mean 0.1539, and fractal_dimension_mean 0.05945:\n",
      "For a person with radius_mean 12.62, texture_mean 23.97, symmetry_mean 0.1514, and fractal_dimension_mean 0.06019:\n",
      "For a person with radius_mean 15.78, texture_mean 22.91, symmetry_mean 0.2096, and fractal_dimension_mean 0.07331:\n",
      "For a person with radius_mean 20.18, texture_mean 23.97, symmetry_mean 0.2906, and fractal_dimension_mean 0.08142:\n",
      "For a person with radius_mean 11.81, texture_mean 17.39, symmetry_mean 0.1718, and fractal_dimension_mean 0.0578:\n",
      "For a person with radius_mean 12.98, texture_mean 19.35, symmetry_mean 0.1761, and fractal_dimension_mean 0.0654:\n",
      "For a person with radius_mean 13.77, texture_mean 22.29, symmetry_mean 0.1834, and fractal_dimension_mean 0.06877:\n",
      "For a person with radius_mean 15.78, texture_mean 17.89, symmetry_mean 0.1842, and fractal_dimension_mean 0.06082:\n",
      "For a person with radius_mean 14.06, texture_mean 17.18, symmetry_mean 0.1641, and fractal_dimension_mean 0.05764:\n",
      "For a person with radius_mean 16.46, texture_mean 20.11, symmetry_mean 0.1794, and fractal_dimension_mean 0.06323:\n",
      "For a person with radius_mean 7.729, texture_mean 25.49, symmetry_mean 0.187, and fractal_dimension_mean 0.07285:\n",
      "For a person with radius_mean 13.47, texture_mean 14.06, symmetry_mean 0.1779, and fractal_dimension_mean 0.06639:\n",
      "For a person with radius_mean 14.03, texture_mean 21.25, symmetry_mean 0.1517, and fractal_dimension_mean 0.05835:\n",
      "For a person with radius_mean 13.96, texture_mean 17.05, symmetry_mean 0.1908, and fractal_dimension_mean 0.0613:\n",
      "For a person with radius_mean 10.75, texture_mean 14.97, symmetry_mean 0.1399, and fractal_dimension_mean 0.05688:\n",
      "For a person with radius_mean 11.27, texture_mean 12.96, symmetry_mean 0.2018, and fractal_dimension_mean 0.06914:\n",
      "For a person with radius_mean 16.16, texture_mean 21.54, symmetry_mean 0.216, and fractal_dimension_mean 0.05891:\n",
      "For a person with radius_mean 11.25, texture_mean 14.78, symmetry_mean 0.1773, and fractal_dimension_mean 0.06081:\n",
      "For a person with radius_mean 14.48, texture_mean 21.46, symmetry_mean 0.2075, and fractal_dimension_mean 0.05636:\n",
      "For a person with radius_mean 20.94, texture_mean 23.56, symmetry_mean 0.2205, and fractal_dimension_mean 0.05898:\n",
      "For a person with radius_mean 17.93, texture_mean 24.48, symmetry_mean 0.1538, and fractal_dimension_mean 0.0551:\n",
      "For a person with radius_mean 15.32, texture_mean 17.27, symmetry_mean 0.2398, and fractal_dimension_mean 0.07596:\n",
      "For a person with radius_mean 12.46, texture_mean 24.04, symmetry_mean 0.203, and fractal_dimension_mean 0.08243:\n",
      "For a person with radius_mean 17.6, texture_mean 23.33, symmetry_mean 0.1696, and fractal_dimension_mean 0.07369:\n",
      "For a person with radius_mean 12.05, texture_mean 22.72, symmetry_mean 0.1203, and fractal_dimension_mean 0.06659:\n",
      "For a person with radius_mean 12.86, texture_mean 13.32, symmetry_mean 0.1543, and fractal_dimension_mean 0.06476:\n",
      "For a person with radius_mean 12.0, texture_mean 15.65, symmetry_mean 0.2079, and fractal_dimension_mean 0.05968:\n",
      "For a person with radius_mean 13.46, texture_mean 18.75, symmetry_mean 0.1723, and fractal_dimension_mean 0.06317:\n",
      "For a person with radius_mean 15.04, texture_mean 16.74, symmetry_mean 0.1668, and fractal_dimension_mean 0.06869:\n",
      "For a person with radius_mean 11.2, texture_mean 29.37, symmetry_mean 0.106, and fractal_dimension_mean 0.05502:\n",
      "For a person with radius_mean 11.22, texture_mean 19.86, symmetry_mean 0.194, and fractal_dimension_mean 0.06028:\n",
      "For a person with radius_mean 9.777, texture_mean 16.99, symmetry_mean 0.1584, and fractal_dimension_mean 0.07065:\n",
      "For a person with radius_mean 20.13, texture_mean 28.25, symmetry_mean 0.1752, and fractal_dimension_mean 0.05533:\n",
      "For a person with radius_mean 13.81, texture_mean 23.75, symmetry_mean 0.2251, and fractal_dimension_mean 0.07421:\n",
      "For a person with radius_mean 11.15, texture_mean 13.08, symmetry_mean 0.183, and fractal_dimension_mean 0.06105:\n",
      "For a person with radius_mean 17.27, texture_mean 25.42, symmetry_mean 0.1467, and fractal_dimension_mean 0.05407:\n",
      "For a person with radius_mean 15.7, texture_mean 20.31, symmetry_mean 0.1618, and fractal_dimension_mean 0.05549:\n",
      "For a person with radius_mean 9.738, texture_mean 11.97, symmetry_mean 0.1903, and fractal_dimension_mean 0.06422:\n",
      "For a person with radius_mean 18.05, texture_mean 16.15, symmetry_mean 0.2152, and fractal_dimension_mean 0.06673:\n",
      "For a person with radius_mean 17.99, texture_mean 20.66, symmetry_mean 0.1992, and fractal_dimension_mean 0.06069:\n",
      "For a person with radius_mean 10.82, texture_mean 24.21, symmetry_mean 0.1976, and fractal_dimension_mean 0.06328:\n",
      "For a person with radius_mean 11.75, texture_mean 17.56, symmetry_mean 0.1598, and fractal_dimension_mean 0.06677:\n",
      "For a person with radius_mean 12.34, texture_mean 22.22, symmetry_mean 0.1551, and fractal_dimension_mean 0.06761:\n",
      "For a person with radius_mean 23.09, texture_mean 19.83, symmetry_mean 0.1505, and fractal_dimension_mean 0.05484:\n",
      "For a person with radius_mean 14.44, texture_mean 15.18, symmetry_mean 0.1724, and fractal_dimension_mean 0.06081:\n",
      "For a person with radius_mean 14.64, texture_mean 16.85, symmetry_mean 0.1409, and fractal_dimension_mean 0.05355:\n",
      "For a person with radius_mean 16.07, texture_mean 19.65, symmetry_mean 0.1798, and fractal_dimension_mean 0.05391:\n",
      "For a person with radius_mean 11.52, texture_mean 14.93, symmetry_mean 0.1883, and fractal_dimension_mean 0.06168:\n",
      "For a person with radius_mean 14.22, texture_mean 27.85, symmetry_mean 0.1342, and fractal_dimension_mean 0.06129:\n",
      "For a person with radius_mean 20.73, texture_mean 31.12, symmetry_mean 0.1769, and fractal_dimension_mean 0.05674:\n",
      "Precision: 0.90\n",
      "Recall: 0.88\n",
      "F1 Score: 0.89\n"
     ]
    }
   ],
   "source": [
    "from sklearn.model_selection import train_test_split\n",
    "import pandas as pd\n",
    "from sklearn.metrics import precision_score, recall_score, f1_score\n",
    "\n",
    "# Create an instance of the predictor\n",
    "predictor = CancerPredictor()\n",
    "\n",
    "# Train the model\n",
    "#################\n",
    "\n",
    "# Load the data\n",
    "data = pd.read_csv(\"breast-cancer-wisconsin.csv\")\n",
    "\n",
    "# Split the data into train and test sets\n",
    "train_data, test_data = train_test_split(data, test_size=0.2, random_state=42)\n",
    "\n",
    "# Save the train data to a temporary CSV file\n",
    "train_data.to_csv(\"breast-cancer-wisconsin_train.csv\", index=False)\n",
    "\n",
    "# Train the model using the train data\n",
    "predictor.train(\"breast-cancer-wisconsin_train.csv\")\n",
    "\n",
    "# Use the model\n",
    "###############\n",
    "\n",
    "# Loop through each row in the test data and make predictions\n",
    "for index, row in test_data.iterrows():\n",
    "  radius_mean = row['radius_mean']\n",
    "  texture_mean = row['texture_mean']\n",
    "  symmetry_mean = row['symmetry_mean']\n",
    "  fractal_dimension_mean = row['fractal_dimension_mean']\n",
    "\n",
    "  # Make the prediction\n",
    "  predicted_diagnosis = predictor.predict(radius_mean, texture_mean, symmetry_mean, fractal_dimension_mean)\n",
    "\n",
    "  # Print the result for each row\n",
    "  print(f\"For a person with radius_mean {radius_mean}, texture_mean {texture_mean}, symmetry_mean {symmetry_mean}, and fractal_dimension_mean {fractal_dimension_mean}:\")\n",
    "\n",
    "# Evaluate the model\n",
    "####################\n",
    "\n",
    "# Collect predictions and true labels\n",
    "y_true = test_data['diagnosis'].apply(lambda x: 1 if x == 'M' else 0).tolist()\n",
    "y_pred = test_data.apply(lambda row: 1 if predictor.predict(row['radius_mean'], row['texture_mean'], row['symmetry_mean'], row['fractal_dimension_mean']) == 'M' else 0, axis=1).tolist()\n",
    "\n",
    "# Compute precision, recall, and F1 score\n",
    "precision = precision_score(y_true, y_pred)\n",
    "recall = recall_score(y_true, y_pred)\n",
    "f1 = f1_score(y_true, y_pred)\n",
    "\n",
    "print(f\"Precision: {precision:.2f}\")\n",
    "print(f\"Recall: {recall:.2f}\")\n",
    "print(f\"F1 Score: {f1:.2f}\")"
   ]
  }
 ],
 "metadata": {
  "kernelspec": {
   "display_name": "Python 3",
   "language": "python",
   "name": "python3"
  },
  "language_info": {
   "codemirror_mode": {
    "name": "ipython",
    "version": 3
   },
   "file_extension": ".py",
   "mimetype": "text/x-python",
   "name": "python",
   "nbconvert_exporter": "python",
   "pygments_lexer": "ipython3",
   "version": "3.10.12"
  }
 },
 "nbformat": 4,
 "nbformat_minor": 4
}
